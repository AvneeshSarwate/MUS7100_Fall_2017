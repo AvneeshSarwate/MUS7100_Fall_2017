{
 "cells": [
  {
   "cell_type": "code",
   "execution_count": 1,
   "metadata": {},
   "outputs": [],
   "source": [
    "from LFOFM import *\n",
    "import PydalChanel as pydalmodule\n",
    "\n",
    "wp = WavePlayer()\n",
    "pydal = pydalmodule.getInstance()\n",
    "tempo = pydal.setTempo"
   ]
  },
  {
   "cell_type": "code",
   "execution_count": 55,
   "metadata": {},
   "outputs": [],
   "source": [
    "# wp.startWave(0,  Sin(freq=.22)*20)\n",
    "wp.startWave(5, 5)#Tri(freq=0.2)*60)\n",
    "# wp.startWave(3, Tri(freq=0.1)*16)"
   ]
  },
  {
   "cell_type": "code",
   "execution_count": 56,
   "metadata": {
    "collapsed": true
   },
   "outputs": [],
   "source": [
    "wp.stopWave(0) # spray\n",
    "wp.stopWave(1) # grain freq\n",
    "wp.stopWave(2) # pitch\n",
    "wp.stopWave(3) # rand pitch\n",
    "wp.stopWave(4) # decay time\n",
    "wp.stopWave(5) # wetness of reverb"
   ]
  },
  {
   "cell_type": "code",
   "execution_count": null,
   "metadata": {
    "collapsed": true
   },
   "outputs": [],
   "source": [
    "# todo\n",
    "# make it so only 2 waves can be playing at once"
   ]
  },
  {
   "cell_type": "markdown",
   "metadata": {},
   "source": [
    "live coder makes a recommendation, and the instrumentalist has to play something that meets that recommendation, and then (either after the recommendation is matched automatically, or just when the live coder things its good enough) the live coder gives the next recommendation"
   ]
  },
  {
   "cell_type": "markdown",
   "metadata": {},
   "source": [
    "we haven't done anything that is really generative from the live coder "
   ]
  },
  {
   "cell_type": "markdown",
   "metadata": {},
   "source": [
    "This system would be amazing with 2 different instrumentalists - the 3 way interaction between 2 players reacting to each other and the changing sound would be sick "
   ]
  }
 ],
 "metadata": {
  "kernelspec": {
   "display_name": "Python 2",
   "language": "python",
   "name": "python2"
  },
  "language_info": {
   "codemirror_mode": {
    "name": "ipython",
    "version": 2
   },
   "file_extension": ".py",
   "mimetype": "text/x-python",
   "name": "python",
   "nbconvert_exporter": "python",
   "pygments_lexer": "ipython2",
   "version": "2.7.13"
  }
 },
 "nbformat": 4,
 "nbformat_minor": 2
}
