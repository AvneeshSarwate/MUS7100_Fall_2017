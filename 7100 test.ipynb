{
 "cells": [
  {
   "cell_type": "code",
   "execution_count": 1,
   "metadata": {},
   "outputs": [],
   "source": [
    "import Responder\n",
    "\n",
    "r = Responder.Responder()\n",
    "\n",
    "h_s = Responder.hitListToString\n",
    "s_h = Responder.stringToHitList\n",
    "h_n = Responder.hitListToNoteList\n",
    "n_h = Responder.noteListToHitList\n",
    "\n",
    "hitStr = \"0,43,57,0,on-0.14617308,43,0,0,off-0.365958314,45,70,0,on-0.522772706,45,0,0,off-0.77389034999999,47,16,0,on-0.826037294,47,0,0,off-1.264647862,50,66,0,on-1.431748038,50,0,0,off\"\n",
    "hitStr2 = \"0,52,94,0,on-0.18864533400006,52,0,0,off-0.660550908,52,99,0,on-0.83745091800006,52,0,0,off-1.2780166060002,52,92,0,on-1.4241565300001,52,0,0,off-1.5705767080001,50,72,0,on-1.7486727800001,50,0,0,off-1.905253164,48,56,0,on-2.0198103280002,48,0,0,off-2.18729854,50,94,0,on-2.3757177240002,50,0,0,off-2.50157057,48,82,0,on-2.699866484,48,0,0,off-3.139330254,50,82,0,on-3.3274177560002,50,0,0,off-3.7775842160002,52,113,0,on-3.9661891340002,52,0,0,off\"\n",
    "hitStr3 = \"0,48,62,0,on-0.19872982800007,48,0,0,off-0.53420018400016,50,85,0,on-0.73373800800005,50,0,0,off-1.0885099500001,52,92,0,on-1.3190374620001,52,0,0,off\""
   ]
  },
  {
   "cell_type": "code",
   "execution_count": null,
   "metadata": {},
   "outputs": [],
   "source": [
    "h1 = s_h(hitStr3)\n",
    "n1 = h_n(s_h(hitStr3))\n",
    "for h in h1:\n",
    "    print h\n",
    "print \n",
    "print\n",
    "for n in n1:\n",
    "    print n"
   ]
  },
  {
   "cell_type": "code",
   "execution_count": null,
   "metadata": {},
   "outputs": [],
   "source": [
    "n_h(h_n(s_h(h_s(hitList))))"
   ]
  },
  {
   "cell_type": "code",
   "execution_count": null,
   "metadata": {
    "collapsed": true
   },
   "outputs": [],
   "source": [
    "cleanh = [[0.0, 48, 62, 0, 'on'],\n",
    "[1, 48, 0, 0, 'off'],\n",
    "[2, 50, 85, 0, 'on'],\n",
    "[3, 50, 0, 0, 'off']\n",
    "[4, 52, 92, 0, 'on']\n",
    "[5, 52, 0, 0, 'off']"
   ]
  },
  {
   "cell_type": "code",
   "execution_count": 63,
   "metadata": {},
   "outputs": [
    {
     "name": "stdout",
     "output_type": "stream",
     "text": [
      "SHUFFLE_STR = bab+-+\n"
     ]
    }
   ],
   "source": [
    "r.setParam('NUM_SLICES', 2)\n",
    "r.setParam(\"SHUFFLE_STR\", \"bab+-+\")\n",
    "r.setParam(\"EXTRACT_LENGTH\", 1.5)\n",
    "\n",
    "r.setParam(\"HOLD_LENGTH\", 0.7)\n",
    "r.setParam(\"HOLD_TYPE\", \"silence\")"
   ]
  },
  {
   "cell_type": "code",
   "execution_count": null,
   "metadata": {
    "collapsed": true
   },
   "outputs": [],
   "source": []
  },
  {
   "cell_type": "code",
   "execution_count": 42,
   "metadata": {
    "scrolled": true
   },
   "outputs": [
    {
     "ename": "IndexError",
     "evalue": "list index out of range",
     "output_type": "error",
     "traceback": [
      "\u001b[0;31m---------------------------------------------------------------------------\u001b[0m",
      "\u001b[0;31mIndexError\u001b[0m                                Traceback (most recent call last)",
      "\u001b[0;32m<ipython-input-42-7e1eb2687a2d>\u001b[0m in \u001b[0;36m<module>\u001b[0;34m()\u001b[0m\n\u001b[0;32m----> 1\u001b[0;31m \u001b[0mResponder\u001b[0m\u001b[0;34m.\u001b[0m\u001b[0mshuffleBufferSlices\u001b[0m\u001b[0;34m(\u001b[0m\u001b[0;34m\"ca\"\u001b[0m\u001b[0;34m,\u001b[0m \u001b[0;36m6\u001b[0m\u001b[0;34m,\u001b[0m \u001b[0;34m[\u001b[0m\u001b[0;34m[\u001b[0m\u001b[0;36m0.0\u001b[0m\u001b[0;34m,\u001b[0m \u001b[0;36m77\u001b[0m\u001b[0;34m,\u001b[0m \u001b[0;36m66\u001b[0m\u001b[0;34m,\u001b[0m \u001b[0;36m0\u001b[0m\u001b[0;34m,\u001b[0m \u001b[0;36m0.031626976000013\u001b[0m\u001b[0;34m]\u001b[0m\u001b[0;34m,\u001b[0m \u001b[0;34m[\u001b[0m\u001b[0;36m0.10469226399999\u001b[0m\u001b[0;34m,\u001b[0m \u001b[0;36m77\u001b[0m\u001b[0;34m,\u001b[0m \u001b[0;36m38\u001b[0m\u001b[0;34m,\u001b[0m \u001b[0;36m0\u001b[0m\u001b[0;34m,\u001b[0m \u001b[0;36m0.06825593700001\u001b[0m\u001b[0;34m]\u001b[0m\u001b[0;34m,\u001b[0m \u001b[0;34m[\u001b[0m\u001b[0;36m1.590905397\u001b[0m\u001b[0;34m,\u001b[0m \u001b[0;36m76\u001b[0m\u001b[0;34m,\u001b[0m \u001b[0;36m59\u001b[0m\u001b[0;34m,\u001b[0m \u001b[0;36m0\u001b[0m\u001b[0;34m,\u001b[0m \u001b[0;36m0.052147108\u001b[0m\u001b[0;34m]\u001b[0m\u001b[0;34m,\u001b[0m \u001b[0;34m[\u001b[0m\u001b[0;36m1.726933802\u001b[0m\u001b[0;34m,\u001b[0m \u001b[0;36m76\u001b[0m\u001b[0;34m,\u001b[0m \u001b[0;36m10\u001b[0m\u001b[0;34m,\u001b[0m \u001b[0;36m0\u001b[0m\u001b[0;34m,\u001b[0m \u001b[0;36m0.05286907800000007\u001b[0m\u001b[0;34m]\u001b[0m\u001b[0;34m]\u001b[0m\u001b[0;34m)\u001b[0m\u001b[0;34m\u001b[0m\u001b[0m\n\u001b[0m",
      "\u001b[0;32m/Users/avneeshsarwate/MUS7100_Fall_2017/Responder.py\u001b[0m in \u001b[0;36mshuffleBufferSlices\u001b[0;34m(shuffleString, numSlices, noteList)\u001b[0m\n\u001b[1;32m    226\u001b[0m \u001b[0;34m\u001b[0m\u001b[0m\n\u001b[1;32m    227\u001b[0m     \u001b[0;31m# Form slices (edit durations)\u001b[0m\u001b[0;34m\u001b[0m\u001b[0;34m\u001b[0m\u001b[0m\n\u001b[0;32m--> 228\u001b[0;31m     \u001b[0msliceResponse\u001b[0m \u001b[0;34m=\u001b[0m \u001b[0mformSlices\u001b[0m\u001b[0;34m(\u001b[0m\u001b[0mnumSlices\u001b[0m\u001b[0;34m,\u001b[0m \u001b[0mnoteList\u001b[0m\u001b[0;34m)\u001b[0m\u001b[0;34m\u001b[0m\u001b[0m\n\u001b[0m\u001b[1;32m    229\u001b[0m     \u001b[0mslices\u001b[0m \u001b[0;34m=\u001b[0m \u001b[0msliceResponse\u001b[0m\u001b[0;34m[\u001b[0m\u001b[0;34m'slices'\u001b[0m\u001b[0;34m]\u001b[0m\u001b[0;34m\u001b[0m\u001b[0m\n\u001b[1;32m    230\u001b[0m     \u001b[0msliceLength\u001b[0m \u001b[0;34m=\u001b[0m \u001b[0msliceResponse\u001b[0m\u001b[0;34m[\u001b[0m\u001b[0;34m'sliceLength'\u001b[0m\u001b[0;34m]\u001b[0m\u001b[0;34m\u001b[0m\u001b[0m\n",
      "\u001b[0;32m/Users/avneeshsarwate/MUS7100_Fall_2017/Responder.py\u001b[0m in \u001b[0;36mformSlices\u001b[0;34m(numSlices, noteList)\u001b[0m\n\u001b[1;32m    360\u001b[0m \u001b[0;34m\u001b[0m\u001b[0m\n\u001b[1;32m    361\u001b[0m         \u001b[0;31m# Add note to slice\u001b[0m\u001b[0;34m\u001b[0m\u001b[0;34m\u001b[0m\u001b[0m\n\u001b[0;32m--> 362\u001b[0;31m         \u001b[0mslices\u001b[0m\u001b[0;34m[\u001b[0m\u001b[0msliceIndex\u001b[0m\u001b[0;34m]\u001b[0m\u001b[0;34m.\u001b[0m\u001b[0mappend\u001b[0m\u001b[0;34m(\u001b[0m\u001b[0;34m[\u001b[0m\u001b[0mposInSlice\u001b[0m\u001b[0;34m,\u001b[0m \u001b[0mnote\u001b[0m\u001b[0;34m[\u001b[0m\u001b[0mMIDI_NOTE\u001b[0m\u001b[0;34m]\u001b[0m\u001b[0;34m,\u001b[0m \u001b[0mnote\u001b[0m\u001b[0;34m[\u001b[0m\u001b[0mON_VEL\u001b[0m\u001b[0;34m]\u001b[0m\u001b[0;34m,\u001b[0m \u001b[0mnote\u001b[0m\u001b[0;34m[\u001b[0m\u001b[0mMIDI_CHAN\u001b[0m\u001b[0;34m]\u001b[0m\u001b[0;34m,\u001b[0m \u001b[0mnoteDur\u001b[0m\u001b[0;34m]\u001b[0m\u001b[0;34m)\u001b[0m\u001b[0;34m\u001b[0m\u001b[0m\n\u001b[0m\u001b[1;32m    363\u001b[0m \u001b[0;34m\u001b[0m\u001b[0m\n\u001b[1;32m    364\u001b[0m     \u001b[0;31m# Sort slices by timestamp\u001b[0m\u001b[0;34m\u001b[0m\u001b[0;34m\u001b[0m\u001b[0m\n",
      "\u001b[0;31mIndexError\u001b[0m: list index out of range"
     ]
    }
   ],
   "source": [
    "Responder.shuffleBufferSlices(\"ca\", 6, [[0.0, 77, 66, 0, 0.031626976000013], [0.10469226399999, 77, 38, 0, 0.06825593700001], [1.590905397, 76, 59, 0, 0.052147108], [1.726933802, 76, 10, 0, 0.05286907800000007]])"
   ]
  }
 ],
 "metadata": {
  "kernelspec": {
   "display_name": "Python 2",
   "language": "python",
   "name": "python2"
  },
  "language_info": {
   "codemirror_mode": {
    "name": "ipython",
    "version": 2
   },
   "file_extension": ".py",
   "mimetype": "text/x-python",
   "name": "python",
   "nbconvert_exporter": "python",
   "pygments_lexer": "ipython2",
   "version": "2.7.13"
  }
 },
 "nbformat": 4,
 "nbformat_minor": 2
}
