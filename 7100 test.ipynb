{
 "cells": [
  {
   "cell_type": "code",
   "execution_count": 1,
   "metadata": {},
   "outputs": [
    {
     "name": "stdout",
     "output_type": "stream",
     "text": [
      "NUM_SLICES = 4\n",
      "SHUFFLE_STR = abcd\n"
     ]
    }
   ],
   "source": [
    "import Responder\n",
    "\n",
    "r = Responder.Responder()\n",
    "\n",
    "r.setParam('NUM_SLICES', 4)\n",
    "r.setParam('SHUFFLE_STR', \"abcd\")\n",
    "\n",
    "h_s = Responder.hitListToString\n",
    "s_h = Responder.stringToHitList\n",
    "h_n = Responder.hitListToNoteList\n",
    "n_h = Responder.noteListToHitList\n",
    "\n",
    "hitStr = \"0,43,57,0,on-0.14617308,43,0,0,off-0.365958314,45,70,0,on-0.522772706,45,0,0,off-0.77389034999999,47,16,0,on-0.826037294,47,0,0,off-1.264647862,50,66,0,on-1.431748038,50,0,0,off\"\n",
    "hitStr2 = \"0,52,94,0,on-0.18864533400006,52,0,0,off-0.660550908,52,99,0,on-0.83745091800006,52,0,0,off-1.2780166060002,52,92,0,on-1.4241565300001,52,0,0,off-1.5705767080001,50,72,0,on-1.7486727800001,50,0,0,off-1.905253164,48,56,0,on-2.0198103280002,48,0,0,off-2.18729854,50,94,0,on-2.3757177240002,50,0,0,off-2.50157057,48,82,0,on-2.699866484,48,0,0,off-3.139330254,50,82,0,on-3.3274177560002,50,0,0,off-3.7775842160002,52,113,0,on-3.9661891340002,52,0,0,off\"\n",
    "hitStr3 = \"0,48,62,0,on-0.19872982800007,48,0,0,off-0.53420018400016,50,85,0,on-0.73373800800005,50,0,0,off-1.0885099500001,52,92,0,on-1.3190374620001,52,0,0,off\""
   ]
  },
  {
   "cell_type": "code",
   "execution_count": null,
   "metadata": {},
   "outputs": [],
   "source": [
    "h1 = s_h(hitStr3)\n",
    "n1 = h_n(s_h(hitStr3))\n",
    "for h in h1:\n",
    "    print h\n",
    "print \n",
    "print\n",
    "for n in n1:\n",
    "    print n"
   ]
  },
  {
   "cell_type": "code",
   "execution_count": null,
   "metadata": {
    "scrolled": true
   },
   "outputs": [],
   "source": [
    "n_h(h_n(s_h(h_s(h1))))"
   ]
  },
  {
   "cell_type": "code",
   "execution_count": 40,
   "metadata": {},
   "outputs": [
    {
     "name": "stdout",
     "output_type": "stream",
     "text": [
      "SHUFFLE_STR = agag\n",
      "[[0.0, 60, 118, 0, 0.23018279999997], [0.50078609999991, 71, 120, 0, 0.19934580000017998]]\n",
      "Length of input: 0.7001319\n",
      "Length of slice: 0.0875164875\n"
     ]
    },
    {
     "name": "stderr",
     "output_type": "stream",
     "text": [
      "OSCServer: IndexError on request from DESKTOP-1DDNNTP:57120: list index out of range\n"
     ]
    }
   ],
   "source": [
    "r.setParam('SHUFFLE_STR', \"agag\")"
   ]
  },
  {
   "cell_type": "code",
   "execution_count": 42,
   "metadata": {},
   "outputs": [
    {
     "name": "stdout",
     "output_type": "stream",
     "text": [
      "NUM_SLICES = 6\n",
      "[[0.0, 60, 111, 0, 0.12583390000009], [0.22008430000005, 65, 111, 0, 0.13660269999992], [0.42988009999999, 60, 78, 0, 0.11480540000002004], [0.6232715000001, 65, 111, 0, 0.10900559999981996], [0.79985740000029, 60, 101, 0, 0.11528629999974993], [0.9944287000003, 65, 111, 0, 0.10430319999979987], [1.1614015, 60, 75, 0, 0.10380690000010007]]\n",
      "Length of input: 1.2652084\n",
      "Length of slice: 0.210868066667\n"
     ]
    },
    {
     "name": "stderr",
     "output_type": "stream",
     "text": [
      "OSCServer: IndexError on request from DESKTOP-1DDNNTP:57120: list index out of range\n"
     ]
    },
    {
     "name": "stdout",
     "output_type": "stream",
     "text": [
      "[[0.0, 62, 70, 0, 1.2856359000002]]\n",
      "Length of input: 1.2856359\n",
      "Length of slice: 0.21427265\n"
     ]
    },
    {
     "name": "stderr",
     "output_type": "stream",
     "text": [
      "OSCServer: IndexError on request from DESKTOP-1DDNNTP:57120: list index out of range\n"
     ]
    }
   ],
   "source": [
    "r.setParam('NUM_SLICES', 6)"
   ]
  },
  {
   "cell_type": "code",
   "execution_count": null,
   "metadata": {
    "collapsed": true
   },
   "outputs": [],
   "source": []
  }
 ],
 "metadata": {
  "kernelspec": {
   "display_name": "Python 2",
   "language": "python",
   "name": "python2"
  },
  "language_info": {
   "codemirror_mode": {
    "name": "ipython",
    "version": 2
   },
   "file_extension": ".py",
   "mimetype": "text/x-python",
   "name": "python",
   "nbconvert_exporter": "python",
   "pygments_lexer": "ipython2",
   "version": "2.7.13"
  }
 },
 "nbformat": 4,
 "nbformat_minor": 2
}
