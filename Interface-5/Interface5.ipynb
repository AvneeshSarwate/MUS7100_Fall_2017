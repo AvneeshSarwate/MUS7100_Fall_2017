{
 "cells": [
  {
   "cell_type": "code",
   "execution_count": 1,
   "metadata": {
    "scrolled": true
   },
   "outputs": [],
   "source": [
    "import LemurBounce2\n",
    "from LFOFM import *\n",
    "import PydalChanel as pydalModule\n",
    "\n",
    "l = LemurBounce2.LemurBounce2()\n",
    "\n",
    "gateKeys = []\n",
    "\n",
    "def saveWorld(key):\n",
    "    l.sendOSCMessage('/saveWorld', 1, key)\n",
    "\n",
    "def loadWorld(key):\n",
    "    l.sendOSCMessage('/loadWorld', 1, key)\n",
    "    \n",
    "def setGate(key, m, b):\n",
    "    if not key in gateKeys:\n",
    "        gateKeys.append(key)\n",
    "        l.sendOSCMessage('/setGate', 1, [key, m, b])\n",
    "    \n",
    "def toggleGate(key):\n",
    "    if key in gateKeys: \n",
    "        l.sendOSCMessage('/toggleGate', 1, key)\n",
    "\n",
    "def remapBalls(ballList):\n",
    "    l.sendOSCMessage('/changeBallDeviation', 0, ballList)\n",
    "\n",
    "def remapBallChan(ballList):\n",
    "    l.sendOSCMessage('/changeBallChan', 0, ballList)\n",
    "\n",
    "def remapGates(noteList):\n",
    "    l.sendOSCMessage('/changeGateNotes', 0, noteList)\n",
    "\n",
    "def remapBallDecay(noteList):\n",
    "    l.sendOSCMessage('/changeBallDecay', 0, noteList)\n",
    "\n",
    "def runFunc(delayVal, oscEndpoint, func):\n",
    "    l.superColliderServer.addMsgHandler(\"/\"+oscEndpoint, func)\n",
    "    l.sendOSCMessage(\"/triggerDelayFunc\", 0, [delayVal, \"/\"+oscEndpoint])\n",
    "    \n",
    "def friction(val):\n",
    "    l.sendOSCMessage(\"/setParam\", 1, ['friction', val]) \n",
    "\n",
    "def slowDown(num):\n",
    "    friction(0.5)\n",
    "    runFunc(num, \"fric\"+str(num),  lambda a, b, c, d: friction(0))\n",
    "\n",
    "def speedMult(val):\n",
    "    l.sendOSCMessage(\"/setParam\", 1, ['speed', val]) \n",
    "\n",
    "def chord(chordDef):\n",
    "    return lambda : remapGates(chordDef)\n",
    "\n",
    "def chordSeq(chordSeq):\n",
    "    st = 'abcdefghijk'\n",
    "    for i in range(len(chordSeq)):\n",
    "        funcMap[st[i]] = chord(chordSeq[i])\n",
    "    \n",
    "pydal = pydalModule.Pydal()\n",
    "ch1 = pydal.newChannel(1)\n",
    "read = pydalModule.read\n",
    "\n",
    "funcMap = l.triggerFunctions\n",
    "\n",
    "wp = WavePlayer()"
   ]
  },
  {
   "cell_type": "code",
   "execution_count": 22,
   "metadata": {},
   "outputs": [
    {
     "name": "stderr",
     "output_type": "stream",
     "text": [
      "OSCServer: NameError on request from localhost:57120: global name 'remapChord' is not defined\n"
     ]
    }
   ],
   "source": [
    "# gateToNote = [60, 64, 67, 79, 60, 60, 60, 60, 60];\n",
    "# ballToDeviation = [-3, 5, -4, 9];\n"
   ]
  },
  {
   "cell_type": "code",
   "execution_count": null,
   "metadata": {},
   "outputs": [],
   "source": [
    "speedMult(.25)"
   ]
  },
  {
   "cell_type": "code",
   "execution_count": null,
   "metadata": {
    "collapsed": true
   },
   "outputs": [],
   "source": [
    "remapBallChan([3]*4)\n",
    "remapBallDecay([0.01]*4)"
   ]
  },
  {
   "cell_type": "code",
   "execution_count": 13,
   "metadata": {},
   "outputs": [],
   "source": [
    "cMaj = [60,64,67,72]\n",
    "dMin = [57,62,65,69]\n",
    "g7 = [55,59,62,65]\n",
    "fMaj = [53,57,60,65]\n",
    "d7 = [54,57,60,62]\n",
    "\n",
    "someFifth = [0,5,0,0]\n",
    "\n",
    "remapGates(cMaj)\n",
    "remapBalls(someFifth)\n",
    "setGate(1, 0, 700)\n",
    "setGate(2, 0, 500)\n",
    "setGate(3, 0, 300)\n",
    "setGate(4, 0, 100)"
   ]
  },
  {
   "cell_type": "code",
   "execution_count": 23,
   "metadata": {},
   "outputs": [],
   "source": [
    "chordSeq([cMaj, dMin, g7, fMaj, d7])\n",
    "ch1.play(read(\"a b a d b c a e\", 32, 'funcTrigger'))"
   ]
  },
  {
   "cell_type": "code",
   "execution_count": null,
   "metadata": {
    "collapsed": true
   },
   "outputs": [],
   "source": [
    "l.sendOSCMessage(\"/slingshot\", 1, [0, 7, 2, 0, 30, [1]])\n",
    "l.sendOSCMessage(\"/slingshot\", 1, [0, 7, 4, 0, 50, [2]])\n",
    "l.sendOSCMessage(\"/slingshot\", 1, [0, 7, 8, 0, 30, [3]])"
   ]
  },
  {
   "cell_type": "code",
   "execution_count": null,
   "metadata": {
    "collapsed": true
   },
   "outputs": [],
   "source": []
  },
  {
   "cell_type": "code",
   "execution_count": null,
   "metadata": {
    "collapsed": true
   },
   "outputs": [],
   "source": [
    "wp.lemurWave(Sin(), 0)"
   ]
  },
  {
   "cell_type": "code",
   "execution_count": null,
   "metadata": {
    "collapsed": true
   },
   "outputs": [],
   "source": [
    "runFunc(10, \"test\", lambda a, b, c, d: remapGates([41, 62, 63, 64]))"
   ]
  },
  {
   "cell_type": "code",
   "execution_count": null,
   "metadata": {
    "collapsed": true
   },
   "outputs": [],
   "source": [
    "loadWorld(\"a\")"
   ]
  },
  {
   "cell_type": "code",
   "execution_count": null,
   "metadata": {
    "collapsed": true
   },
   "outputs": [],
   "source": [
    "ch1.play(read('a c b a b d', 8, 'ballState'))"
   ]
  },
  {
   "cell_type": "code",
   "execution_count": null,
   "metadata": {
    "collapsed": true
   },
   "outputs": [],
   "source": [
    "def funca():\n",
    "    remapBalls([-10, -3, 4, 10])\n",
    "def funcb():\n",
    "    remapBalls([0, 3, 7, 10])\n",
    "def funcc():\n",
    "    remapBalls([0, 3, 6, 9])\n",
    "l.triggerFunctions[\"a\"] = funca\n",
    "l.triggerFunctions[\"b\"] = funcb\n",
    "l.triggerFunctions[\"c\"] = funcc"
   ]
  },
  {
   "cell_type": "code",
   "execution_count": null,
   "metadata": {},
   "outputs": [],
   "source": [
    "ch1.play(read('a c b a b c', 32, 'funcTrigger'))\n",
    "# ch1.stop()"
   ]
  },
  {
   "cell_type": "code",
   "execution_count": null,
   "metadata": {},
   "outputs": [],
   "source": [
    "def funcd():\n",
    "    toggleGate(1)\n",
    "    toggleGate(2)\n",
    "def funce():\n",
    "    toggleGate(3)\n",
    "    toggleGate(4)\n",
    "\n",
    "l.triggerFunctions[\"d\"] = funcd\n",
    "l.triggerFunctions[\"e\"] = funce"
   ]
  },
  {
   "cell_type": "code",
   "execution_count": null,
   "metadata": {
    "collapsed": true
   },
   "outputs": [],
   "source": [
    "# ch2.play(read('d e d d e f', 1, 'funcTrigger'))\n",
    "ch2.stop()\n",
    "ch1.stop()"
   ]
  },
  {
   "cell_type": "markdown",
   "metadata": {
    "collapsed": true
   },
   "source": [
    "How can we have \"musical\" interactions with this state-replay mechanism?\n",
    "- keep a running buffer of saved state every 16th or 32nd note. you can take \"snapshots\" of this running buffer. You can treat these snapshots as \"notes\" and resequence (like with tidalcycles) or reshuffle them. Experiment with using this technique for longer intervals. This is mainly to impose structure in worlds that are very chaotic. \n",
    "- In worlds that are less chaotic, and where user interaction changes some \"parts\" of the sound but also leaves most of the \"parts\" unchanged, you can get away with less frequent, more strategic changes. \n",
    "- goal - define worlds where the above type of \"interaction by parts\" is possible\n",
    "- save/reload only subsets of the bodies, transform their positions and momentums. this would be especially useful in the \"infinte non collision\" world. \n",
    "- map movements/collions to \"higher level\" musical events, and deal with less objects in the world. \n",
    "- In general, we want to be able to modify the world with intentionality - meaning have a sense of what will be changed/preserved musically as the result of an interaction. \n",
    "\n",
    "\n",
    "- having the live-coder do something truly \"procedural\" seems like it would (usually) be too complicated for the non-coder to figure out during performance. However, this still leaves the relative strengths of \"future scheduling\" and \"dense structure modification\" to exploit\n",
    "    - there are exceptions, but you'll have to work hard to find them. And it would help if the \"procedure\" or \"rules\" were minimal (but had interesting emergent properties), and there was a way to visualize/describe them succinctly for the non-coder. Some way to procedurally define how elements disapear/reappear based on their interactions would be cool   \n",
    "    \n",
    "    \n",
    "- general feature - schedule some parameter to change (or really, some function to execute) in the future, and notify the non-coder that that event is going to happen and give some visual countdown to it. Can just show a text string to describe the event that will happen\n",
    "\n",
    "- need enough things to do in the system (or in any real-time collaborative system) so that the live coder and non coder are not modifying the same \"part of the world\" at the same time. You want to enable a collaborative building metaphor where they can work in paralellel. The strengths of such a system are that both live coder and non coder can manipulate the same \"world\" in different ways, but not having enough stuff to manipulate forces them to start manipulating the same things at the same time to stay engaged, and then they start stepping on each others toes and have to start reacting to each other at a very short time scale, which can be difficult. \n",
    "\n",
    ".  \n",
    ".  \n",
    ".  \n",
    ".  \n",
    ".  \n",
    "late night mumbo jumbo\n",
    "- We still need to give the live-coder something to do - some procedure to define rather than some parameters to set. \n",
    "- In general, the role of the live-coder in these systems is not just to define/modify processes/strucutres, but to remap abstract processes/structures to musical semantics. \n",
    "    - for example - you could have some sort of networked gravity system (n-body) where balls are attracted by each-other and bounce off of walls. However, one ball is heavier than the rest and the center of the system (each ball corresponds to a note, and a ball/wall colision plays that note). The live-coder can not only play with the physics parameters of the system, but can remap what note corresponds to what ball (musical semantics). In particular, changing what note is mapped to the central ball can effectively change the tonality of the music being generated. \n",
    "    - hypothesis - it is (ususally) easier "
   ]
  }
 ],
 "metadata": {
  "kernelspec": {
   "display_name": "Python 2",
   "language": "python",
   "name": "python2"
  },
  "language_info": {
   "codemirror_mode": {
    "name": "ipython",
    "version": 2
   },
   "file_extension": ".py",
   "mimetype": "text/x-python",
   "name": "python",
   "nbconvert_exporter": "python",
   "pygments_lexer": "ipython2",
   "version": "2.7.13"
  }
 },
 "nbformat": 4,
 "nbformat_minor": 2
}
