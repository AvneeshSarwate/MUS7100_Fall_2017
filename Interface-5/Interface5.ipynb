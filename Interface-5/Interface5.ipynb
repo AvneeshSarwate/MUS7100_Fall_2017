{
 "cells": [
  {
   "cell_type": "code",
   "execution_count": 1,
   "metadata": {
    "collapsed": true,
    "scrolled": true
   },
   "outputs": [],
   "source": [
    "import LemurBounce2\n",
    "l = LemurBounce2.LemurBounce2()\n",
    "\n",
    "def saveWorld(key):\n",
    "    l.sendOSCMessage('/saveWorld', 1, key)\n",
    "\n",
    "def loadWorld(key):\n",
    "    l.sendOSCMessage('/loadWorld', 1, key)"
   ]
  },
  {
   "cell_type": "code",
   "execution_count": 50,
   "metadata": {},
   "outputs": [
    {
     "name": "stdout",
     "output_type": "stream",
     "text": [
      "/collision\n",
      "[18.0, 1.0, 'start']\n"
     ]
    }
   ],
   "source": [
    "l.sendOSCMessage('/loadWorld', 1, '1')"
   ]
  },
  {
   "cell_type": "markdown",
   "metadata": {
    "collapsed": true
   },
   "source": [
    "How can we have \"musical\" interactions with this state-replay mechanism?\n",
    "- keep a running buffer of saved state every 16th or 32nd note. you can take \"snapshots\" of this running buffer. You can treat these snapshots as \"notes\" and resequence (like with tidalcycles) or reshuffle them. Experiment with using this technique for longer intervals. This is mainly to impose structure in worlds that are very chaotic. \n",
    "- In worlds that are less chaotic, and where user interaction changes some \"parts\" of the sound but also leaves most of the \"parts\" unchanged, you can get away with less frequent, more strategic changes. \n",
    "- goal - define worlds where the above type of \"interaction by parts\" is possible\n",
    "- save/reload only subsets of the bodies, transform their positions and momentums. this would be especially useful in the \"infinte non collision\" world. \n",
    "- map movements/collions to \"higher level\" musical events, and deal with less objects in the world. \n",
    "- In general, we want to be able to modify the world with intentionality - meaning have a sense of what will be changed/preserved musically as the result of an interaction "
   ]
  }
 ],
 "metadata": {
  "kernelspec": {
   "display_name": "Python 2",
   "language": "python",
   "name": "python2"
  },
  "language_info": {
   "codemirror_mode": {
    "name": "ipython",
    "version": 2
   },
   "file_extension": ".py",
   "mimetype": "text/x-python",
   "name": "python",
   "nbconvert_exporter": "python",
   "pygments_lexer": "ipython2",
   "version": "2.7.13"
  }
 },
 "nbformat": 4,
 "nbformat_minor": 2
}
