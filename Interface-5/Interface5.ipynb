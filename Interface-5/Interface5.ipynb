{
 "cells": [
  {
   "cell_type": "code",
   "execution_count": 1,
   "metadata": {
    "collapsed": true,
    "scrolled": true
   },
   "outputs": [],
   "source": [
    "import LemurBounce2\n",
    "from LFOFM import *\n",
    "import PydalChanel as pydalModule\n",
    "\n",
    "l = LemurBounce2.LemurBounce2()\n",
    "\n",
    "gateKeys = []\n",
    "\n",
    "def saveWorld(key):\n",
    "    l.sendOSCMessage('/saveWorld', 1, key)\n",
    "\n",
    "def loadWorld(key):\n",
    "    l.sendOSCMessage('/loadWorld', 1, key)\n",
    "    \n",
    "def setGate(key, m, b):\n",
    "    gateKeys.append(key)\n",
    "    l.sendOSCMessage('/setGate', 1, [key, m, b])\n",
    "    \n",
    "def toggleGate(key):\n",
    "    if key in gateKeys: \n",
    "        l.sendOSCMessage('/toggleGate', 1, key)\n",
    "\n",
    "def remapBalls(ballList):\n",
    "    l.sendOSCMessage('/changeBallDeviation', 0, ballList)\n",
    "\n",
    "def remapBallChan(ballList):\n",
    "    l.sendOSCMessage('/changeBallChan', 0, ballList)\n",
    "\n",
    "def remapGates(noteList):\n",
    "    l.sendOSCMessage('/changeGateNotes', 0, noteList)\n",
    "\n",
    "def remapBallDecay(noteList):\n",
    "    l.sendOSCMessage('/changeBallDecay', 0, noteList)\n",
    "\n",
    "def runFunc(delayVal, oscEndpoint, func):\n",
    "    l.superColliderServer.addMsgHandler(\"/\"+oscEndpoint, func)\n",
    "    l.sendOSCMessage(\"/triggerDelayFunc\", 0, [delayVal, \"/\"+oscEndpoint])\n",
    "    \n",
    "def friction(val):\n",
    "    l.sendOSCMessage(\"/setParam\", 1, ['friction', val]) \n",
    "\n",
    "def slowDown(num):\n",
    "    friction(0.5)\n",
    "    runFunc(num, \"fric\"+str(num),  lambda a, b, c, d: friction(0))\n",
    "\n",
    "def speedMult(val):\n",
    "    l.sendOSCMessage(\"/setParam\", 1, ['speed', val]) \n",
    "\n",
    "def chord(chordDef):\n",
    "    return lambda : remapGates(chordDef)\n",
    "\n",
    "def chordSeq(chordSeq):\n",
    "    st = 'abcdefghijk'\n",
    "    for i in range(len(chordSeq)):\n",
    "        funcMap[st[i]] = chord(chordSeq[i])\n",
    "    \n",
    "pydal = pydalModule.Pydal()\n",
    "ch1 = pydal.newChannel(1)\n",
    "read = pydalModule.read\n",
    "\n",
    "funcMap = l.triggerFunctions\n",
    "\n",
    "wp = WavePlayer()\n",
    "\n",
    "def cSH(chord, shift):\n",
    "    return [c+shift for c in chord]"
   ]
  },
  {
   "cell_type": "markdown",
   "metadata": {},
   "source": [
    "# Song 1 (major key stuff)"
   ]
  },
  {
   "cell_type": "code",
   "execution_count": null,
   "metadata": {
    "collapsed": true
   },
   "outputs": [],
   "source": [
    "cMaj = [60,64,67,72]\n",
    "dMin = [57,62,65,69]\n",
    "g7 = [55,59,62,65]\n",
    "fMaj = [53,57,60,65]\n",
    "d7 = [54,57,60,62]\n",
    "\n",
    "aMin = [57, 60, 64, 69]\n",
    "eMin = [52, 55, 59, 64]\n",
    "bDim = [59, 62, 65, 68]\n",
    "\n",
    "someFifth = [0,5,0,0]\n",
    "\n",
    "remapGates(cMaj)\n",
    "remapBalls(someFifth)\n",
    "setGate(1, 0, 700)\n",
    "setGate(2, 0, 500)\n",
    "setGate(3, 0, 300)\n",
    "setGate(4, 0, 100)"
   ]
  },
  {
   "cell_type": "code",
   "execution_count": null,
   "metadata": {
    "collapsed": true
   },
   "outputs": [],
   "source": [
    "remapBallChan([0]*4)\n",
    "chordSeq([cMaj, dMin, g7, fMaj, d7])\n",
    "ch1.play(read(\"a b c d\", 16, 'funcTrigger'))"
   ]
  },
  {
   "cell_type": "markdown",
   "metadata": {},
   "source": [
    "##### B Part"
   ]
  },
  {
   "cell_type": "code",
   "execution_count": null,
   "metadata": {
    "collapsed": true
   },
   "outputs": [],
   "source": [
    "remapBallChan([1, 1, 1 ,1])"
   ]
  },
  {
   "cell_type": "code",
   "execution_count": null,
   "metadata": {
    "collapsed": true
   },
   "outputs": [],
   "source": [
    "remapBalls(cSH([26, 36, 24, 24], -24))"
   ]
  },
  {
   "cell_type": "code",
   "execution_count": null,
   "metadata": {
    "collapsed": true
   },
   "outputs": [],
   "source": [
    "remapBallDecay([0.1]*4)"
   ]
  },
  {
   "cell_type": "code",
   "execution_count": null,
   "metadata": {
    "collapsed": true
   },
   "outputs": [],
   "source": [
    "chordSeq([aMin, cSH(dMin, -1), g7, cSH(bDim, 6), d7])\n",
    "ch1.play(read(\"b d a a\", 16, 'funcTrigger'))"
   ]
  },
  {
   "cell_type": "markdown",
   "metadata": {},
   "source": [
    "##### C Part"
   ]
  },
  {
   "cell_type": "code",
   "execution_count": null,
   "metadata": {
    "collapsed": true
   },
   "outputs": [],
   "source": [
    "remapBallChan([0]*4)\n",
    "chordSeq([cMaj, dMin, g7, fMaj, d7])\n",
    "ch1.play(read(\"a d\", 16, 'funcTrigger'))"
   ]
  },
  {
   "cell_type": "code",
   "execution_count": null,
   "metadata": {
    "collapsed": true
   },
   "outputs": [],
   "source": [
    "remapBalls(cSH([0, 5, 0, 0], -12))\n",
    "# ch1.play(read(\"a d\", 16, 'funcTrigger'))"
   ]
  },
  {
   "cell_type": "code",
   "execution_count": null,
   "metadata": {
    "collapsed": true
   },
   "outputs": [],
   "source": []
  },
  {
   "cell_type": "code",
   "execution_count": null,
   "metadata": {
    "collapsed": true
   },
   "outputs": [],
   "source": [
    "def funca():\n",
    "    remapBalls(cSH([0, 5, 0, 0], 0))\n",
    "def funcb():\n",
    "    remapBalls(cSH([0, 5, 0, 0], -12))\n",
    "def funcc():\n",
    "    remapBalls(cSH([0, 5, 0, 0], -5))\n",
    "l.triggerFunctions[\"a\"] = funca\n",
    "l.triggerFunctions[\"b\"] = funcb\n",
    "l.triggerFunctions[\"c\"] = funcc"
   ]
  },
  {
   "cell_type": "code",
   "execution_count": null,
   "metadata": {
    "collapsed": true
   },
   "outputs": [],
   "source": [
    "# ch1.play(read('a c b a b c', 32, 'funcTrigger'))\n",
    "ch1.stop()"
   ]
  },
  {
   "cell_type": "markdown",
   "metadata": {},
   "source": [
    "### variations\n",
    "- Biggest shift - changing ball sound - guitar => balafon => guitar\n",
    "    - accompanied by harmonic shift to minor\n",
    "- within each \"instrument\" section\n",
    "    - start with simple chord progressions and evolve it out (think of some ABA form) \n",
    "\n",
    "<br></br>\n",
    "\n",
    "- guitar ball section 1 \n",
    "    - sparse => dense collisions\n",
    "- balafon section\n",
    "    - transition:\n",
    "        - balafon balls 1 octave up, start in unison with guitar balls\n",
    "        - slowly switch more to balafon \n",
    "    - harmonic change to minor chords\n",
    "    - start playing with different ball effects \n",
    "    - map the 2 other parameters\n",
    "- guitar ball section 2\n",
    "    - density shift is devolves to sparsers balls\n",
    "    - has effects\n",
    "    - add in external loops "
   ]
  },
  {
   "cell_type": "markdown",
   "metadata": {},
   "source": [
    "# Song 2 - Drum N Bass"
   ]
  },
  {
   "cell_type": "code",
   "execution_count": 6,
   "metadata": {
    "collapsed": true
   },
   "outputs": [],
   "source": [
    "remapBallChan([3]*4 + [2]*2)\n",
    "remapBallDecay([0.1]*6)\n",
    "bd_sn_sn2_hh = [36,38,40,42]\n",
    "\n",
    "\n",
    "someFifth = [0,0,0,0, 4, 9]\n",
    "\n",
    "remapGates(bd_sn_sn2_hh)\n",
    "remapBalls(someFifth)\n",
    "setGate(1, 0, 700)\n",
    "setGate(2, 0, 500)\n",
    "setGate(3, 300, \"v\")\n",
    "setGate(4, 100, \"v\")"
   ]
  },
  {
   "cell_type": "code",
   "execution_count": 16,
   "metadata": {
    "collapsed": true
   },
   "outputs": [],
   "source": [
    "remapBallDecay([0.1]*4 + [.01]*2)"
   ]
  },
  {
   "cell_type": "code",
   "execution_count": 13,
   "metadata": {
    "collapsed": true
   },
   "outputs": [],
   "source": [
    "remapBalls(cSH([0,0,0,0, 0, -5], 0))"
   ]
  },
  {
   "cell_type": "markdown",
   "metadata": {},
   "source": [
    "Set up gates balls s.t gate is a drum and ball is variation of that drum\n",
    "- 4 drum types (bd, sn, ho, hc), 4 variations each\n",
    "- 2 more effects \n",
    "- some more variation for bass"
   ]
  },
  {
   "cell_type": "code",
   "execution_count": null,
   "metadata": {
    "collapsed": true
   },
   "outputs": [],
   "source": [
    "chordSeq(map(lambda c:cSH(c,-12), [cMaj, dMin, g7, fMaj, d7]))\n",
    "# ch1.play(read(\"a b a d b c a e\", 32, 'funcTrigger'))\n",
    "ch1.play(read(\"c (b, d)\", 8, 'funcTrigger'))"
   ]
  },
  {
   "cell_type": "code",
   "execution_count": null,
   "metadata": {
    "collapsed": true
   },
   "outputs": [],
   "source": [
    "l.sendOSCMessage(\"/slingshot\", 1, [0, 7, 2, 0, 30, [1]])\n",
    "l.sendOSCMessage(\"/slingshot\", 1, [0, 7, 4, 0, 50, [2]])\n",
    "l.sendOSCMessage(\"/slingshot\", 1, [0, 7, 8, 0, 30, [3]])"
   ]
  },
  {
   "cell_type": "code",
   "execution_count": null,
   "metadata": {
    "collapsed": true
   },
   "outputs": [],
   "source": [
    "ch1.stop()"
   ]
  },
  {
   "cell_type": "code",
   "execution_count": null,
   "metadata": {
    "collapsed": true
   },
   "outputs": [],
   "source": [
    "wp.lemurWave(Sin(), 0)"
   ]
  },
  {
   "cell_type": "code",
   "execution_count": null,
   "metadata": {
    "collapsed": true
   },
   "outputs": [],
   "source": [
    "runFunc(10, \"test\", lambda a, b, c, d: remapGates([41, 62, 63, 64]))"
   ]
  },
  {
   "cell_type": "code",
   "execution_count": null,
   "metadata": {
    "collapsed": true
   },
   "outputs": [],
   "source": [
    "loadWorld(\"a\")"
   ]
  },
  {
   "cell_type": "code",
   "execution_count": null,
   "metadata": {
    "collapsed": true
   },
   "outputs": [],
   "source": [
    "ch1.play(read('a c b a b d', 8, 'ballState'))"
   ]
  },
  {
   "cell_type": "code",
   "execution_count": null,
   "metadata": {
    "collapsed": true
   },
   "outputs": [],
   "source": [
    "def funcd():\n",
    "    toggleGate(1)\n",
    "    toggleGate(2)\n",
    "def funce():\n",
    "    toggleGate(3)\n",
    "    toggleGate(4)\n",
    "\n",
    "l.triggerFunctions[\"d\"] = funcd\n",
    "l.triggerFunctions[\"e\"] = funce"
   ]
  },
  {
   "cell_type": "code",
   "execution_count": null,
   "metadata": {
    "collapsed": true
   },
   "outputs": [],
   "source": []
  },
  {
   "cell_type": "code",
   "execution_count": null,
   "metadata": {
    "collapsed": true
   },
   "outputs": [],
   "source": []
  },
  {
   "cell_type": "code",
   "execution_count": null,
   "metadata": {
    "collapsed": true
   },
   "outputs": [],
   "source": [
    "# ch2.play(read('d e d d e f', 1, 'funcTrigger'))\n",
    "ch2.stop()\n",
    "ch1.stop()"
   ]
  },
  {
   "cell_type": "markdown",
   "metadata": {
    "collapsed": true
   },
   "source": [
    "How can we have \"musical\" interactions with this state-replay mechanism?\n",
    "- keep a running buffer of saved state every 16th or 32nd note. you can take \"snapshots\" of this running buffer. You can treat these snapshots as \"notes\" and resequence (like with tidalcycles) or reshuffle them. Experiment with using this technique for longer intervals. This is mainly to impose structure in worlds that are very chaotic. \n",
    "- In worlds that are less chaotic, and where user interaction changes some \"parts\" of the sound but also leaves most of the \"parts\" unchanged, you can get away with less frequent, more strategic changes. \n",
    "- goal - define worlds where the above type of \"interaction by parts\" is possible\n",
    "- save/reload only subsets of the bodies, transform their positions and momentums. this would be especially useful in the \"infinte non collision\" world. \n",
    "- map movements/collions to \"higher level\" musical events, and deal with less objects in the world. \n",
    "- In general, we want to be able to modify the world with intentionality - meaning have a sense of what will be changed/preserved musically as the result of an interaction. \n",
    "\n",
    "\n",
    "- having the live-coder do something truly \"procedural\" seems like it would (usually) be too complicated for the non-coder to figure out during performance. However, this still leaves the relative strengths of \"future scheduling\" and \"dense structure modification\" to exploit\n",
    "    - there are exceptions, but you'll have to work hard to find them. And it would help if the \"procedure\" or \"rules\" were minimal (but had interesting emergent properties), and there was a way to visualize/describe them succinctly for the non-coder. Some way to procedurally define how elements disapear/reappear based on their interactions would be cool   \n",
    "    \n",
    "    \n",
    "- general feature - schedule some parameter to change (or really, some function to execute) in the future, and notify the non-coder that that event is going to happen and give some visual countdown to it. Can just show a text string to describe the event that will happen\n",
    "\n",
    "- need enough things to do in the system (or in any real-time collaborative system) so that the live coder and non coder are not modifying the same \"part of the world\" at the same time. You want to enable a collaborative building metaphor where they can work in paralellel. The strengths of such a system are that both live coder and non coder can manipulate the same \"world\" in different ways, but not having enough stuff to manipulate forces them to start manipulating the same things at the same time to stay engaged, and then they start stepping on each others toes and have to start reacting to each other at a very short time scale, which can be difficult. \n",
    "\n",
    ".  \n",
    ".  \n",
    ".  \n",
    ".  \n",
    ".  \n",
    "late night mumbo jumbo\n",
    "- We still need to give the live-coder something to do - some procedure to define rather than some parameters to set. \n",
    "- In general, the role of the live-coder in these systems is not just to define/modify processes/strucutres, but to remap abstract processes/structures to musical semantics. \n",
    "    - for example - you could have some sort of networked gravity system (n-body) where balls are attracted by each-other and bounce off of walls. However, one ball is heavier than the rest and the center of the system (each ball corresponds to a note, and a ball/wall colision plays that note). The live-coder can not only play with the physics parameters of the system, but can remap what note corresponds to what ball (musical semantics). In particular, changing what note is mapped to the central ball can effectively change the tonality of the music being generated. \n",
    "    - hypothesis - it is (ususally) easier "
   ]
  }
 ],
 "metadata": {
  "kernelspec": {
   "display_name": "Python 2",
   "language": "python",
   "name": "python2"
  },
  "language_info": {
   "codemirror_mode": {
    "name": "ipython",
    "version": 2
   },
   "file_extension": ".py",
   "mimetype": "text/x-python",
   "name": "python",
   "nbconvert_exporter": "python",
   "pygments_lexer": "ipython2",
   "version": "2.7.13"
  }
 },
 "nbformat": 4,
 "nbformat_minor": 2
}
