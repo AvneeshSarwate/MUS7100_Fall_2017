{
 "cells": [
  {
   "cell_type": "code",
   "execution_count": 1,
   "metadata": {},
   "outputs": [
    {
     "name": "stdout",
     "output_type": "stream",
     "text": [
      "/collision\n",
      "[9.0, 2.0, 'start']\n",
      "/collision\n",
      "[2.0, 0.0, 'start']\n",
      "/collision\n",
      "[9.0, 3.0, 'start']\n",
      "/collision\n",
      "[2.0, 0.0, 'start']\n",
      "/collision\n",
      "[2.0, 0.0, 'start']\n",
      "/collision\n",
      "[4.0, 0.0, 'start']\n",
      "/collision\n",
      "[4.0, 0.0, 'end']\n",
      "/collision\n",
      "[4.0, 1.0, 'start']\n",
      "/collision\n",
      "[4.0, 1.0, 'end']\n",
      "/collision\n",
      "[4.0, 2.0, 'start']\n",
      "/collision\n",
      "[4.0, 2.0, 'end']\n",
      "/collision\n",
      "[4.0, 0.0, 'start']\n",
      "/collision\n",
      "[4.0, 0.0, 'end']\n",
      "/collision\n",
      "[4.0, 2.0, 'start']\n",
      "/collision\n",
      "[4.0, 2.0, 'end']\n",
      "/collision\n",
      "[2.0, 0.0, 'start']\n",
      "/collision\n",
      "[5.0, 3.0, 'start']\n",
      "/collision\n",
      "[3.0, 0.0, 'start']\n",
      "/collision\n",
      "[2.0, 0.0, 'end']\n",
      "/collision\n",
      "[5.0, 3.0, 'end']\n",
      "/collision\n",
      "[3.0, 0.0, 'end']\n",
      "/collision\n",
      "[0.0, 3.0, 'start']\n",
      "/collision\n",
      "[0.0, 3.0, 'end']\n",
      "/collision\n",
      "[0.0, 0.0, 'start']\n",
      "/collision\n",
      "[0.0, 0.0, 'end']\n",
      "/collision\n",
      "[7.0, 2.0, 'start']\n",
      "/collision\n",
      "[7.0, 2.0, 'end']\n",
      "/collision\n",
      "[7.0, 3.0, 'start']\n",
      "/collision\n",
      "[5.0, 2.0, 'start']\n",
      "/collision\n",
      "[7.0, 3.0, 'end']\n",
      "/collision\n",
      "[5.0, 2.0, 'end']\n",
      "/collision\n",
      "[8.0, 2.0, 'start']\n",
      "/collision\n",
      "[8.0, 2.0, 'end']\n",
      "/collision\n",
      "[7.0, 3.0, 'start']\n",
      "/collision\n",
      "[7.0, 3.0, 'end']\n",
      "/collision\n",
      "[0.0, 0.0, 'start']\n",
      "/collision\n",
      "[0.0, 0.0, 'end']\n",
      "/collision\n",
      "[2.0, 1.0, 'start']\n",
      "/collision\n",
      "[2.0, 1.0, 'end']\n",
      "/collision\n",
      "[9.0, 1.0, 'start']\n",
      "/collision\n",
      "[9.0, 1.0, 'end']\n",
      "/collision\n",
      "[3.0, 0.0, 'start']\n"
     ]
    }
   ],
   "source": [
    "import LemurBounce2\n",
    "l = LemurBounce2.LemurBounce2()"
   ]
  },
  {
   "cell_type": "code",
   "execution_count": null,
   "metadata": {
    "collapsed": true
   },
   "outputs": [],
   "source": []
  }
 ],
 "metadata": {
  "kernelspec": {
   "display_name": "Python 2",
   "language": "python",
   "name": "python2"
  },
  "language_info": {
   "codemirror_mode": {
    "name": "ipython",
    "version": 2
   },
   "file_extension": ".py",
   "mimetype": "text/x-python",
   "name": "python",
   "nbconvert_exporter": "python",
   "pygments_lexer": "ipython2",
   "version": "2.7.13"
  }
 },
 "nbformat": 4,
 "nbformat_minor": 2
}
