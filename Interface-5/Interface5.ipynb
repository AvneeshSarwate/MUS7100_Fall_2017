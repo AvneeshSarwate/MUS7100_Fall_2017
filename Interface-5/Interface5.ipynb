{
 "cells": [
  {
   "cell_type": "code",
   "execution_count": 1,
   "metadata": {
    "collapsed": true,
    "scrolled": true
   },
   "outputs": [],
   "source": [
    "import LemurBounce2\n",
    "from LFOFM import *\n",
    "import PydalChanel as pydalModule\n",
    "\n",
    "l = LemurBounce2.LemurBounce2()\n",
    "\n",
    "gateKeys = []\n",
    "\n",
    "def saveWorld(key):\n",
    "    l.sendOSCMessage('/saveWorld', 1, key)\n",
    "\n",
    "def loadWorld(key):\n",
    "    l.sendOSCMessage('/loadWorld', 1, key)\n",
    "    \n",
    "def setGate(key, m, b):\n",
    "    if not key in gateKeys:\n",
    "        gateKeys.append(key)\n",
    "        l.sendOSCMessage('/setGate', 1, [key, m, b])\n",
    "    \n",
    "def toggleGate(key):\n",
    "    if not key in gateKeys: \n",
    "        l.sendOSCMessage('/toggleGate', 1, key)\n",
    "\n",
    "def remapBalls(ballList):\n",
    "    l.sendOSCMessage('/changeBallDeviation', 0, ballList)\n",
    "\n",
    "def remapGates(noteList):\n",
    "    l.sendOSCMessage('/changeGateNotes', 0, noteList)\n",
    "\n",
    "def runFunc(delayVal, oscEndpoint, func):\n",
    "    l.superColliderServer.addMsgHandler(\"/\"+oscEndpoint, func)\n",
    "    l.sendOSCMessage(\"/triggerDelayFunc\", 0, [delayVal, \"/\"+oscEndpoint])\n",
    "\n",
    "pydal = pydalModule.Pydal()\n",
    "ch1 = pydal.newChannel(1)\n",
    "read = pydalModule.read\n",
    "    \n",
    "wp = WavePlayer()"
   ]
  },
  {
   "cell_type": "code",
   "execution_count": 4,
   "metadata": {},
   "outputs": [],
   "source": [
    "setGate(2, 0, 700)\n",
    "setGate(1, 0, 300)"
   ]
  },
  {
   "cell_type": "code",
   "execution_count": 28,
   "metadata": {
    "collapsed": true
   },
   "outputs": [],
   "source": [
    "l.sendOSCMessage(\"/slingshot\", 1, [0, 7, 2, 0, 30, [1]])\n",
    "l.sendOSCMessage(\"/slingshot\", 1, [0, 7, 4, 0, 50, [2]])\n",
    "# l.sendOSCMessage(\"/slingshot\", 1, [0, 7, 8, 0, 30, [3]])"
   ]
  },
  {
   "cell_type": "code",
   "execution_count": 15,
   "metadata": {
    "collapsed": true
   },
   "outputs": [],
   "source": [
    "remapGates([41, 44, 45, 48])\n",
    "remapBalls([24, 0, 4, 9])"
   ]
  },
  {
   "cell_type": "code",
   "execution_count": null,
   "metadata": {
    "collapsed": true
   },
   "outputs": [],
   "source": [
    "wp.lemurWave(Sin(), 0)"
   ]
  },
  {
   "cell_type": "code",
   "execution_count": null,
   "metadata": {
    "collapsed": true
   },
   "outputs": [],
   "source": [
    "runFunc(10, \"test\", lambda a, b, c, d: remapGates([41, 62, 63, 64]))"
   ]
  },
  {
   "cell_type": "code",
   "execution_count": null,
   "metadata": {
    "collapsed": true
   },
   "outputs": [],
   "source": [
    "loadWorld(\"a\")"
   ]
  },
  {
   "cell_type": "code",
   "execution_count": null,
   "metadata": {
    "collapsed": true
   },
   "outputs": [],
   "source": [
    "ch1.play(read('a c b a b d', 8, 'ballState'))"
   ]
  },
  {
   "cell_type": "markdown",
   "metadata": {
    "collapsed": true
   },
   "source": [
    "How can we have \"musical\" interactions with this state-replay mechanism?\n",
    "- keep a running buffer of saved state every 16th or 32nd note. you can take \"snapshots\" of this running buffer. You can treat these snapshots as \"notes\" and resequence (like with tidalcycles) or reshuffle them. Experiment with using this technique for longer intervals. This is mainly to impose structure in worlds that are very chaotic. \n",
    "- In worlds that are less chaotic, and where user interaction changes some \"parts\" of the sound but also leaves most of the \"parts\" unchanged, you can get away with less frequent, more strategic changes. \n",
    "- goal - define worlds where the above type of \"interaction by parts\" is possible\n",
    "- save/reload only subsets of the bodies, transform their positions and momentums. this would be especially useful in the \"infinte non collision\" world. \n",
    "- map movements/collions to \"higher level\" musical events, and deal with less objects in the world. \n",
    "- In general, we want to be able to modify the world with intentionality - meaning have a sense of what will be changed/preserved musically as the result of an interaction. \n",
    "\n",
    "\n",
    "- having the live-coder do something truly \"procedural\" seems like it would (usually) be too complicated for the non-coder to figure out during performance. However, this still leaves the relative strengths of \"future scheduling\" and \"dense structure modification\" to exploit\n",
    "    - there are exceptions, but you'll have to work hard to find them. And it would help if the \"procedure\" or \"rules\" were minimal (but had interesting emergent properties), and there was a way to visualize/describe them succinctly for the non-coder. Some way to procedurally define how elements disapear/reappear based on their interactions would be cool   \n",
    "    \n",
    "    \n",
    "- general feature - schedule some parameter to change (or really, some function to execute) in the future, and notify the non-coder that that event is going to happen and give some visual countdown to it. Can just show a text string to describe the event that will happen\n",
    "\n",
    "- need enough things to do in the system (or in any real-time collaborative system) so that the live coder and non coder are not modifying the same \"part of the world\" at the same time. You want to enable a collaborative building metaphor where they can work in paralellel. The strengths of such a system are that both live coder and non coder can manipulate the same \"world\" in different ways, but not having enough stuff to manipulate forces them to start manipulating the same things at the same time to stay engaged, and then they start stepping on each others toes and have to start reacting to each other at a very short time scale, which can be difficult. \n",
    "\n",
    ".  \n",
    ".  \n",
    ".  \n",
    ".  \n",
    ".  \n",
    "late night mumbo jumbo\n",
    "- We still need to give the live-coder something to do - some procedure to define rather than some parameters to set. \n",
    "- In general, the role of the live-coder in these systems is not just to define/modify processes/strucutres, but to remap abstract processes/structures to musical semantics. \n",
    "    - for example - you could have some sort of networked gravity system (n-body) where balls are attracted by each-other and bounce off of walls. However, one ball is heavier than the rest and the center of the system (each ball corresponds to a note, and a ball/wall colision plays that note). The live-coder can not only play with the physics parameters of the system, but can remap what note corresponds to what ball (musical semantics). In particular, changing what note is mapped to the central ball can effectively change the tonality of the music being generated. \n",
    "    - hypothesis - it is (ususally) easier "
   ]
  }
 ],
 "metadata": {
  "kernelspec": {
   "display_name": "Python 2",
   "language": "python",
   "name": "python2"
  },
  "language_info": {
   "codemirror_mode": {
    "name": "ipython",
    "version": 2
   },
   "file_extension": ".py",
   "mimetype": "text/x-python",
   "name": "python",
   "nbconvert_exporter": "python",
   "pygments_lexer": "ipython2",
   "version": "2.7.13"
  }
 },
 "nbformat": 4,
 "nbformat_minor": 2
}
