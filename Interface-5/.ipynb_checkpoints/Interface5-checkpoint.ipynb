{
 "cells": [
  {
   "cell_type": "code",
   "execution_count": 1,
   "metadata": {
    "collapsed": true,
    "scrolled": true
   },
   "outputs": [],
   "source": [
    "import LemurBounce2\n",
    "l = LemurBounce2.LemurBounce2()\n",
    "\n",
    "def saveWorld(key):\n",
    "    l.sendOSCMessage('/saveWorld', 1, key)\n",
    "\n",
    "def loadWorld(key):\n",
    "    l.sendOSCMessage('/loadWorld', 1, key)"
   ]
  },
  {
   "cell_type": "code",
   "execution_count": 50,
   "metadata": {},
   "outputs": [
    {
     "name": "stdout",
     "output_type": "stream",
     "text": [
      "/collision\n",
      "[18.0, 1.0, 'start']\n"
     ]
    }
   ],
   "source": [
    "l.sendOSCMessage('/loadWorld', 1, '1')"
   ]
  },
  {
   "cell_type": "code",
   "execution_count": null,
   "metadata": {
    "collapsed": true
   },
   "outputs": [],
   "source": []
  }
 ],
 "metadata": {
  "kernelspec": {
   "display_name": "Python 2",
   "language": "python",
   "name": "python2"
  },
  "language_info": {
   "codemirror_mode": {
    "name": "ipython",
    "version": 2
   },
   "file_extension": ".py",
   "mimetype": "text/x-python",
   "name": "python",
   "nbconvert_exporter": "python",
   "pygments_lexer": "ipython2",
   "version": "2.7.13"
  }
 },
 "nbformat": 4,
 "nbformat_minor": 2
}
