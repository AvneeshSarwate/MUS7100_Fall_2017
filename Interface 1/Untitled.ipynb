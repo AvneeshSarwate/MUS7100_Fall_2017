{
 "cells": [
  {
   "cell_type": "code",
   "execution_count": 9,
   "metadata": {
    "collapsed": true
   },
   "outputs": [],
   "source": [
    "import Responder"
   ]
  },
  {
   "cell_type": "code",
   "execution_count": 3,
   "metadata": {
    "collapsed": true
   },
   "outputs": [],
   "source": [
    "r = Responder.Responder()"
   ]
  },
  {
   "cell_type": "code",
   "execution_count": 4,
   "metadata": {},
   "outputs": [
    {
     "name": "stdout",
     "output_type": "stream",
     "text": [
      "BUF_STRING = a+-+a\n"
     ]
    }
   ],
   "source": [
    "r.setParam('BUF_STRING', \"a+-+a\")"
   ]
  },
  {
   "cell_type": "code",
   "execution_count": 5,
   "metadata": {},
   "outputs": [
    {
     "name": "stdout",
     "output_type": "stream",
     "text": [
      "NUM_BUF = 4\n"
     ]
    }
   ],
   "source": [
    "r.setParam('NUM_BUF', 4)"
   ]
  },
  {
   "cell_type": "raw",
   "metadata": {},
   "source": []
  },
  {
   "cell_type": "code",
   "execution_count": 2,
   "metadata": {},
   "outputs": [
    {
     "name": "stdout",
     "output_type": "stream",
     "text": [
      "Length of input: 2.0\n",
      "Length of buffer: 0.5\n"
     ]
    },
    {
     "data": {
      "text/plain": [
       "{'bufferLength': 0.5,\n",
       " 'buffers': [[[0.0, 0, 0, 0, 0.5]],\n",
       "  [],\n",
       "  [[0.0, 3, 0, 0, 0.5]],\n",
       "  [[0.0, 3, 0, 0, 0.5]]]}"
      ]
     },
     "execution_count": 2,
     "metadata": {},
     "output_type": "execute_result"
    }
   ],
   "source": [
    "Responder.formBuffers(4, [[1.0, 0, 0, 0, 0.5], [2.0, 3, 0, 0, 1.0]])"
   ]
  },
  {
   "cell_type": "code",
   "execution_count": 8,
   "metadata": {},
   "outputs": [
    {
     "data": {
      "text/plain": [
       "[[0.0, 0, 0, 0, 1.0], [1.5, 0, 0, 0, 0.5], [2.0, 3, 0, 0, 0.5]]"
      ]
     },
     "execution_count": 8,
     "metadata": {},
     "output_type": "execute_result"
    }
   ],
   "source": [
    "Responder.rearrangeBuffers(\"a+-+c\", 0.5, [[[0.0, 0, 0, 0, 0.5]],\n",
    "  [],\n",
    "  [[0.0, 3, 0, 0, 0.5]],\n",
    "  [[0.0, 3, 0, 0, 0.5]]])"
   ]
  },
  {
   "cell_type": "code",
   "execution_count": 4,
   "metadata": {},
   "outputs": [
    {
     "data": {
      "text/plain": [
       "[[0, 9], [1, 2]]"
      ]
     },
     "execution_count": 4,
     "metadata": {},
     "output_type": "execute_result"
    }
   ],
   "source": [
    "sorted([[1,2],[0,9]], key=lambda x: x[0])"
   ]
  },
  {
   "cell_type": "code",
   "execution_count": null,
   "metadata": {
    "collapsed": true
   },
   "outputs": [],
   "source": [
    "startRestTime\n",
    "endRestTime\n",
    "chunk\n",
    "findIintersectingNotes()\n",
    "startIntersect = findIntersectingNotes(chunk, startRest)\n",
    "endIntersect = findIntersectingNotes(chunk, endRest)\n",
    "middle = [note if note[0] > startRestTime and note[0]+note[4] < endRestTime for note in chunk]\n",
    "endCutNotes = [note[:4]+[endRestTime] for note in startIntersect]"
   ]
  },
  {
   "cell_type": "code",
   "execution_count": 6,
   "metadata": {},
   "outputs": [
    {
     "data": {
      "text/plain": [
       "[1, 2, 3, 4]"
      ]
     },
     "execution_count": 6,
     "metadata": {},
     "output_type": "execute_result"
    }
   ],
   "source": [
    "a = [1,2,3,4,5]\n",
    "a[:4]"
   ]
  },
  {
   "cell_type": "code",
   "execution_count": null,
   "metadata": {
    "collapsed": true
   },
   "outputs": [],
   "source": []
  }
 ],
 "metadata": {
  "kernelspec": {
   "display_name": "Python 2",
   "language": "python",
   "name": "python2"
  },
  "language_info": {
   "codemirror_mode": {
    "name": "ipython",
    "version": 2
   },
   "file_extension": ".py",
   "mimetype": "text/x-python",
   "name": "python",
   "nbconvert_exporter": "python",
   "pygments_lexer": "ipython2",
   "version": "2.7.13"
  }
 },
 "nbformat": 4,
 "nbformat_minor": 2
}
