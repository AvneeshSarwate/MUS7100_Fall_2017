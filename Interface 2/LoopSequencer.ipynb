{
 "cells": [
  {
   "cell_type": "code",
   "execution_count": 1,
   "metadata": {
    "collapsed": true
   },
   "outputs": [],
   "source": [
    "import LoopSequencer\n",
    "import fh2\n",
    "fh = fh2.FH2()\n",
    "l = LoopSequencer.LoopSequencer(fh)\n",
    "# loops will be in indexes 41-48"
   ]
  },
  {
   "cell_type": "code",
   "execution_count": 20,
   "metadata": {},
   "outputs": [
    {
     "name": "stdout",
     "output_type": "stream",
     "text": [
      "sent\n",
      "[[0.075072407684274, 53, 69, 0, 0.9135831854137026], [0.0847896828317967, 60, 59, 0, 0.9240999770172531], [1.5357192217388798, 55, 64, 0, 0.9654794656353289], [1.5456833358630389, 61, 92, 0, 1.0359582940336647], [3.0287643245783435, 51, 60, 0, 0.538386927248208], [3.0388237344213955, 58, 94, 0, 0.5180379843714]]\n",
      "46\n",
      "0.075072,53,69,0,on-0.009717,60,59,0,on-0.903866,53,69,0,off-0.020234,60,59,0,off-0.526830,55,64,0,on-0.009964,61,92,0,on-0.955515,55,64,0,off-0.080443,61,92,0,off-0.447123,51,60,0,on-0.010059,58,94,0,on-0.518038,58,94,0,off-0.010290,51,60,0,off-0.432849,0,0,0,timeAfterLastHit\n"
     ]
    }
   ],
   "source": [
    "r = l.transformLoop(6, \"rev\", send=False)\n",
    "t = l.transformLoop(6, \"transpose\", direction=\"down\", interval=\"P5\", noteList=r, send=True)\n",
    "i = l.transformLoop(2, \"invert\", inversionPoint=\"beg\", noteList=t, send=False)"
   ]
  },
  {
   "cell_type": "code",
   "execution_count": 18,
   "metadata": {
    "scrolled": true
   },
   "outputs": [],
   "source": [
    "l.sendTransformation(6, t)"
   ]
  },
  {
   "cell_type": "code",
   "execution_count": 10,
   "metadata": {},
   "outputs": [
    {
     "ename": "TypeError",
     "evalue": "'int' object is not iterable",
     "output_type": "error",
     "traceback": [
      "\u001b[0;31m---------------------------------------------------------------------------\u001b[0m",
      "\u001b[0;31mTypeError\u001b[0m                                 Traceback (most recent call last)",
      "\u001b[0;32m<ipython-input-10-8b0165e25ef2>\u001b[0m in \u001b[0;36m<module>\u001b[0;34m()\u001b[0m\n\u001b[0;32m----> 1\u001b[0;31m \u001b[0ml\u001b[0m\u001b[0;34m.\u001b[0m\u001b[0mclearTransformations\u001b[0m\u001b[0;34m(\u001b[0m\u001b[0;36m2\u001b[0m\u001b[0;34m)\u001b[0m\u001b[0;34m\u001b[0m\u001b[0m\n\u001b[0m",
      "\u001b[0;32m/Users/avneeshsarwate/MUS7100_Fall_2017/Interface 2/LoopSequencer.py\u001b[0m in \u001b[0;36mclearTransformations\u001b[0;34m(self, loopIndex)\u001b[0m\n\u001b[1;32m    286\u001b[0m \u001b[0;34m\u001b[0m\u001b[0m\n\u001b[1;32m    287\u001b[0m     \u001b[0;32mdef\u001b[0m \u001b[0mclearTransformations\u001b[0m\u001b[0;34m(\u001b[0m\u001b[0mself\u001b[0m\u001b[0;34m,\u001b[0m \u001b[0mloopIndex\u001b[0m\u001b[0;34m)\u001b[0m\u001b[0;34m:\u001b[0m\u001b[0;34m\u001b[0m\u001b[0m\n\u001b[0;32m--> 288\u001b[0;31m         \u001b[0mself\u001b[0m\u001b[0;34m.\u001b[0m\u001b[0msendOSCMessage\u001b[0m\u001b[0;34m(\u001b[0m\u001b[0;34m'/setBankMelody'\u001b[0m\u001b[0;34m,\u001b[0m \u001b[0;34m[\u001b[0m\u001b[0mloopIndex\u001b[0m \u001b[0;34m+\u001b[0m \u001b[0;36m80\u001b[0m\u001b[0;34m,\u001b[0m \u001b[0mhitListToString\u001b[0m\u001b[0;34m(\u001b[0m\u001b[0mnoteListToHitList\u001b[0m\u001b[0;34m(\u001b[0m\u001b[0mself\u001b[0m\u001b[0;34m.\u001b[0m\u001b[0mgetLoopNoteList\u001b[0m\u001b[0;34m(\u001b[0m\u001b[0;36m1\u001b[0m\u001b[0;34m)\u001b[0m\u001b[0;34m)\u001b[0m\u001b[0;34m)\u001b[0m\u001b[0;34m]\u001b[0m\u001b[0;34m)\u001b[0m\u001b[0;34m\u001b[0m\u001b[0m\n\u001b[0m\u001b[1;32m    289\u001b[0m \u001b[0;34m\u001b[0m\u001b[0m\n\u001b[1;32m    290\u001b[0m     \u001b[0;32mdef\u001b[0m \u001b[0msendTransformation\u001b[0m\u001b[0;34m(\u001b[0m\u001b[0mself\u001b[0m\u001b[0;34m,\u001b[0m \u001b[0mloopIndex\u001b[0m\u001b[0;34m,\u001b[0m \u001b[0mnoteList\u001b[0m\u001b[0;34m)\u001b[0m\u001b[0;34m:\u001b[0m\u001b[0;34m\u001b[0m\u001b[0m\n",
      "\u001b[0;32m/Users/avneeshsarwate/MUS7100_Fall_2017/Interface 2/LoopSequencer.py\u001b[0m in \u001b[0;36mgetLoopNoteList\u001b[0;34m(self, loopIndex)\u001b[0m\n\u001b[1;32m    178\u001b[0m         \u001b[0mhitlist\u001b[0m \u001b[0;34m=\u001b[0m \u001b[0mcopy\u001b[0m\u001b[0;34m.\u001b[0m\u001b[0mdeepcopy\u001b[0m\u001b[0;34m(\u001b[0m\u001b[0mself\u001b[0m\u001b[0;34m.\u001b[0m\u001b[0mfh2\u001b[0m\u001b[0;34m.\u001b[0m\u001b[0mloops\u001b[0m\u001b[0;34m[\u001b[0m\u001b[0mloopIndex\u001b[0m \u001b[0;34m+\u001b[0m \u001b[0;36m40\u001b[0m\u001b[0;34m]\u001b[0m\u001b[0;34m)\u001b[0m\u001b[0;34m\u001b[0m\u001b[0m\n\u001b[1;32m    179\u001b[0m         \u001b[0mprevTime\u001b[0m \u001b[0;34m=\u001b[0m \u001b[0;36m0\u001b[0m\u001b[0;34m\u001b[0m\u001b[0m\n\u001b[0;32m--> 180\u001b[0;31m         \u001b[0;32mfor\u001b[0m \u001b[0mhit\u001b[0m \u001b[0;32min\u001b[0m \u001b[0mhitlist\u001b[0m\u001b[0;34m:\u001b[0m\u001b[0;34m\u001b[0m\u001b[0m\n\u001b[0m\u001b[1;32m    181\u001b[0m             \u001b[0mhit\u001b[0m\u001b[0;34m[\u001b[0m\u001b[0;36m0\u001b[0m\u001b[0;34m]\u001b[0m \u001b[0;34m=\u001b[0m \u001b[0mhit\u001b[0m\u001b[0;34m[\u001b[0m\u001b[0;36m0\u001b[0m\u001b[0;34m]\u001b[0m \u001b[0;34m+\u001b[0m \u001b[0mprevTime\u001b[0m\u001b[0;34m\u001b[0m\u001b[0m\n\u001b[1;32m    182\u001b[0m             \u001b[0mprevTime\u001b[0m \u001b[0;34m=\u001b[0m \u001b[0mhit\u001b[0m\u001b[0;34m[\u001b[0m\u001b[0;36m0\u001b[0m\u001b[0;34m]\u001b[0m\u001b[0;34m\u001b[0m\u001b[0m\n",
      "\u001b[0;31mTypeError\u001b[0m: 'int' object is not iterable"
     ]
    }
   ],
   "source": [
    "l.clearTransformations(2)"
   ]
  },
  {
   "cell_type": "code",
   "execution_count": null,
   "metadata": {},
   "outputs": [],
   "source": [
    "loop = [[0.0, 36, 58, 3, 'on'],\n",
    " [0.18976570199993, 36, 0, 3, 'off'],\n",
    " [0.54322126600027, 36, 66, 3, 'on'],\n",
    " [0.19752991799987, 36, 0, 3, 'off'],\n",
    " [0.56457133799995, 42, 73, 3, 'on'],\n",
    " [0.27264426400006, 42, 0, 3, 'off'],\n",
    " [0.74251218600011, 36, 70, 3, 'on'],\n",
    " [0.16610188599998, 36, 0, 3, 'off'],\n",
    " [0.33463007599994, 42, 104, 3, 'on'],\n",
    " [0.16662735999989, 42, 0, 3, 'off'],\n",
    " [0.82239600399998, 0, 0, 0, 'timeAfterLastHit']]"
   ]
  },
  {
   "cell_type": "code",
   "execution_count": null,
   "metadata": {
    "collapsed": true
   },
   "outputs": [],
   "source": [
    "import copy\n",
    "loop2 = copy.deepcopy(loop)"
   ]
  },
  {
   "cell_type": "code",
   "execution_count": null,
   "metadata": {
    "collapsed": true
   },
   "outputs": [],
   "source": [
    "prevTime = 0\n",
    "for hit in loop2:\n",
    "    hit[0] = hit[0] + prevTime\n",
    "    prevTime = hit[0]"
   ]
  },
  {
   "cell_type": "code",
   "execution_count": null,
   "metadata": {},
   "outputs": [],
   "source": [
    "hn = LoopSequencer.hitListToNoteList\n",
    "nh = LoopSequencer.noteListToHitList\n",
    "nh(hn(loop2))"
   ]
  },
  {
   "cell_type": "code",
   "execution_count": null,
   "metadata": {},
   "outputs": [],
   "source": [
    "loop"
   ]
  },
  {
   "cell_type": "code",
   "execution_count": null,
   "metadata": {
    "collapsed": true
   },
   "outputs": [],
   "source": [
    "l.transformLoop(fh.loops[41], 41, 'rev')"
   ]
  },
  {
   "cell_type": "code",
   "execution_count": null,
   "metadata": {
    "collapsed": true
   },
   "outputs": [],
   "source": [
    "len([[0, 20, 1, 1, 1], [0.5, 40, 1, 1, 1], [2, 5, 1, 1, 1]])"
   ]
  },
  {
   "cell_type": "code",
   "execution_count": null,
   "metadata": {
    "collapsed": true
   },
   "outputs": [],
   "source": [
    "l.sendOSCMessage('/setBankMelody', [82, LoopSequencer.hitListToString(LoopSequencer.noteListToHitList([[0, 20, 1, 1, 1], [0.5, 40, 1, 1, 1], [2, 5, 1, 1, 1]]))])"
   ]
  },
  {
   "cell_type": "code",
   "execution_count": null,
   "metadata": {
    "collapsed": true
   },
   "outputs": [],
   "source": [
    "l.sendOSCMessage(\"/setBankMelody\", [62, LoopSequencer.hitListToString(fh.loops[41-16])])"
   ]
  }
 ],
 "metadata": {
  "kernelspec": {
   "display_name": "Python 2",
   "language": "python",
   "name": "python2"
  },
  "language_info": {
   "codemirror_mode": {
    "name": "ipython",
    "version": 2
   },
   "file_extension": ".py",
   "mimetype": "text/x-python",
   "name": "python",
   "nbconvert_exporter": "python",
   "pygments_lexer": "ipython2",
   "version": "2.7.13"
  }
 },
 "nbformat": 4,
 "nbformat_minor": 2
}
