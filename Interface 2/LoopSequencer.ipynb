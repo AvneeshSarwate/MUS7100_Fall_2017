{
 "cells": [
  {
   "cell_type": "code",
   "execution_count": 1,
   "metadata": {},
   "outputs": [],
   "source": [
    "import LoopSequencer\n",
    "import fh2\n",
    "fh = fh2.FH2()\n",
    "l = LoopSequencer.LoopSequencer()\n",
    "# loops will be in indexes 41-48"
   ]
  },
  {
   "cell_type": "code",
   "execution_count": 6,
   "metadata": {},
   "outputs": [
    {
     "data": {
      "text/plain": [
       "[[0.0, 50, 73, 3, 'on'],\n",
       " [0.12721644599992, 50, 0, 3, 'off'],\n",
       " [0.3033051540001, 50, 69, 3, 'on'],\n",
       " [0.13614583000003, 50, 0, 3, 'off'],\n",
       " [0.44967416600002, 50, 73, 3, 'on'],\n",
       " [0.14492825599996, 50, 0, 3, 'off'],\n",
       " [0.33418753199999, 50, 66, 3, 'on'],\n",
       " [0.13567272199998, 50, 0, 3, 'off'],\n",
       " [0.10438896599999, 50, 92, 3, 'on'],\n",
       " [0.13559385400004, 50, 0, 3, 'off'],\n",
       " [0.37789996399988, 50, 72, 3, 'on'],\n",
       " [0.1464469460002, 50, 0, 3, 'off'],\n",
       " [0.083115457999838, 50, 89, 3, 'on'],\n",
       " [0.11432604600009, 50, 0, 3, 'off'],\n",
       " [0.40861701199992, 50, 59, 3, 'on'],\n",
       " [0.13670229400009, 50, 0, 3, 'off'],\n",
       " [0.39740591600003, 50, 73, 3, 'on'],\n",
       " [0.094943875999888, 50, 0, 3, 'off'],\n",
       " [0.081901384000048, 50, 85, 3, 'on'],\n",
       " [0.14628054400009, 50, 0, 3, 'off'],\n",
       " [0.14124763399991, 0, 0, 0, 'timeAfterLastHit']]"
      ]
     },
     "execution_count": 6,
     "metadata": {},
     "output_type": "execute_result"
    },
    {
     "name": "stderr",
     "output_type": "stream",
     "text": [
      "OSCServer: NoCallbackError on request from localhost:57120: No callback registered to handle OSC-address '/columnStep'\n",
      "OSCServer: NoCallbackError on request from localhost:57120: No callback registered to handle OSC-address '/columnStep'\n",
      "OSCServer: NoCallbackError on request from localhost:57120: No callback registered to handle OSC-address '/columnStep'\n",
      "OSCServer: NoCallbackError on request from localhost:57120: No callback registered to handle OSC-address '/columnStep'\n",
      "OSCServer: NoCallbackError on request from localhost:57120: No callback registered to handle OSC-address '/columnStep'\n",
      "OSCServer: NoCallbackError on request from localhost:57120: No callback registered to handle OSC-address '/columnStep'\n",
      "OSCServer: NoCallbackError on request from localhost:57120: No callback registered to handle OSC-address '/columnStep'\n",
      "OSCServer: NoCallbackError on request from localhost:57120: No callback registered to handle OSC-address '/columnStep'\n",
      "OSCServer: NoCallbackError on request from localhost:57120: No callback registered to handle OSC-address '/columnStep'\n",
      "OSCServer: NoCallbackError on request from localhost:57120: No callback registered to handle OSC-address '/columnStep'\n",
      "OSCServer: NoCallbackError on request from localhost:57120: No callback registered to handle OSC-address '/columnStep'\n",
      "OSCServer: NoCallbackError on request from localhost:57120: No callback registered to handle OSC-address '/columnStep'\n",
      "OSCServer: NoCallbackError on request from localhost:57120: No callback registered to handle OSC-address '/columnStep'\n",
      "OSCServer: NoCallbackError on request from localhost:57120: No callback registered to handle OSC-address '/columnStep'\n",
      "OSCServer: NoCallbackError on request from localhost:57120: No callback registered to handle OSC-address '/columnStep'\n",
      "OSCServer: NoCallbackError on request from localhost:57120: No callback registered to handle OSC-address '/columnStep'\n",
      "OSCServer: NoCallbackError on request from localhost:57120: No callback registered to handle OSC-address '/columnStep'\n",
      "OSCServer: NoCallbackError on request from localhost:57120: No callback registered to handle OSC-address '/columnStep'\n",
      "OSCServer: NoCallbackError on request from localhost:57120: No callback registered to handle OSC-address '/columnStep'\n",
      "OSCServer: NoCallbackError on request from localhost:57120: No callback registered to handle OSC-address '/columnStep'\n",
      "OSCServer: NoCallbackError on request from localhost:57120: No callback registered to handle OSC-address '/columnStep'\n",
      "OSCServer: NoCallbackError on request from localhost:57120: No callback registered to handle OSC-address '/columnStep'\n",
      "OSCServer: NoCallbackError on request from localhost:57120: No callback registered to handle OSC-address '/columnStep'\n"
     ]
    },
    {
     "name": "stdout",
     "output_type": "stream",
     "text": [
      "1\t1\t1\t1\t1\t1\t1\t0\n",
      "0\t0\t0\t0\t0\t0\t0\t0\n",
      "0\t0\t0\t0\t0\t0\t0\t0\n",
      "0\t0\t0\t0\t0\t0\t0\t0\n",
      "0\t0\t0\t0\t0\t0\t0\t0\n",
      "0\t0\t0\t0\t0\t0\t0\t0\n",
      "0\t0\t0\t0\t0\t0\t0\t0\n",
      "0\t0\t0\t0\t0\t0\t0\t0\n"
     ]
    },
    {
     "name": "stderr",
     "output_type": "stream",
     "text": [
      "OSCServer: NoCallbackError on request from localhost:57120: No callback registered to handle OSC-address '/columnStep'\n",
      "OSCServer: NoCallbackError on request from localhost:57120: No callback registered to handle OSC-address '/columnStep'\n",
      "OSCServer: NoCallbackError on request from localhost:57120: No callback registered to handle OSC-address '/columnStep'\n"
     ]
    },
    {
     "name": "stdout",
     "output_type": "stream",
     "text": [
      "1\t1\t1\t1\t1\t1\t1\t1\n",
      "0\t0\t0\t0\t0\t0\t0\t0\n",
      "0\t0\t0\t0\t0\t0\t0\t0\n",
      "0\t0\t0\t0\t0\t0\t0\t0\n",
      "0\t0\t0\t0\t0\t0\t0\t0\n",
      "0\t0\t0\t0\t0\t0\t0\t0\n",
      "0\t0\t0\t0\t0\t0\t0\t0\n",
      "0\t0\t0\t0\t0\t0\t0\t0\n"
     ]
    },
    {
     "name": "stderr",
     "output_type": "stream",
     "text": [
      "OSCServer: NoCallbackError on request from localhost:57120: No callback registered to handle OSC-address '/columnStep'\n",
      "OSCServer: NoCallbackError on request from localhost:57120: No callback registered to handle OSC-address '/columnStep'\n",
      "OSCServer: NoCallbackError on request from localhost:57120: No callback registered to handle OSC-address '/columnStep'\n",
      "OSCServer: NoCallbackError on request from localhost:57120: No callback registered to handle OSC-address '/columnStep'\n",
      "OSCServer: NoCallbackError on request from localhost:57120: No callback registered to handle OSC-address '/columnStep'\n",
      "OSCServer: NoCallbackError on request from localhost:57120: No callback registered to handle OSC-address '/columnStep'\n",
      "OSCServer: NoCallbackError on request from localhost:57120: No callback registered to handle OSC-address '/columnStep'\n",
      "OSCServer: NoCallbackError on request from localhost:57120: No callback registered to handle OSC-address '/columnStep'\n",
      "OSCServer: NoCallbackError on request from localhost:57120: No callback registered to handle OSC-address '/columnStep'\n",
      "OSCServer: NoCallbackError on request from localhost:57120: No callback registered to handle OSC-address '/columnStep'\n",
      "OSCServer: NoCallbackError on request from localhost:57120: No callback registered to handle OSC-address '/columnStep'\n",
      "OSCServer: NoCallbackError on request from localhost:57120: No callback registered to handle OSC-address '/columnStep'\n",
      "OSCServer: NoCallbackError on request from localhost:57120: No callback registered to handle OSC-address '/columnStep'\n",
      "OSCServer: NoCallbackError on request from localhost:57120: No callback registered to handle OSC-address '/columnStep'\n",
      "OSCServer: NoCallbackError on request from localhost:57120: No callback registered to handle OSC-address '/columnStep'\n",
      "OSCServer: NoCallbackError on request from localhost:57120: No callback registered to handle OSC-address '/columnStep'\n",
      "OSCServer: NoCallbackError on request from localhost:57120: No callback registered to handle OSC-address '/columnStep'\n"
     ]
    },
    {
     "name": "stdout",
     "output_type": "stream",
     "text": [
      "1\t1\t1\t1\t0\t1\t1\t1\n",
      "1\t1\t1\t1\t1\t1\t1\t1\n",
      "1\t1\t1\t1\t1\t1\t1\t1\n",
      "0\t0\t0\t0\t0\t0\t0\t0\n",
      "0\t0\t0\t0\t0\t0\t0\t0\n",
      "0\t0\t0\t0\t0\t0\t0\t0\n",
      "0\t0\t0\t0\t0\t0\t0\t0\n",
      "0\t0\t0\t0\t0\t0\t0\t0\n",
      "1\t1\t1\t1\t0\t1\t1\t1\n",
      "1\t1\t1\t1\t1\t1\t1\t1\n",
      "1\t1\t1\t1\t0\t1\t1\t1\n",
      "0\t0\t0\t0\t0\t0\t0\t0\n",
      "0\t0\t0\t0\t0\t0\t0\t0\n",
      "0\t0\t0\t0\t0\t0\t0\t0\n",
      "0\t0\t0\t0\t0\t0\t0\t0\n",
      "0\t0\t0\t0\t0\t0\t0\t0\n"
     ]
    },
    {
     "name": "stderr",
     "output_type": "stream",
     "text": [
      "OSCServer: NoCallbackError on request from localhost:57120: No callback registered to handle OSC-address '/columnStep'\n",
      "OSCServer: NoCallbackError on request from localhost:57120: No callback registered to handle OSC-address '/columnStep'\n",
      "OSCServer: NoCallbackError on request from localhost:57120: No callback registered to handle OSC-address '/columnStep'\n",
      "OSCServer: NoCallbackError on request from localhost:57120: No callback registered to handle OSC-address '/columnStep'\n",
      "OSCServer: NoCallbackError on request from localhost:57120: No callback registered to handle OSC-address '/columnStep'\n",
      "OSCServer: NoCallbackError on request from localhost:57120: No callback registered to handle OSC-address '/columnStep'\n",
      "OSCServer: NoCallbackError on request from localhost:57120: No callback registered to handle OSC-address '/columnStep'\n",
      "OSCServer: NoCallbackError on request from localhost:57120: No callback registered to handle OSC-address '/columnStep'\n",
      "OSCServer: NoCallbackError on request from localhost:57120: No callback registered to handle OSC-address '/columnStep'\n",
      "OSCServer: NoCallbackError on request from localhost:57120: No callback registered to handle OSC-address '/columnStep'\n",
      "OSCServer: NoCallbackError on request from localhost:57120: No callback registered to handle OSC-address '/columnStep'\n",
      "OSCServer: NoCallbackError on request from localhost:57120: No callback registered to handle OSC-address '/columnStep'\n",
      "OSCServer: NoCallbackError on request from localhost:57120: No callback registered to handle OSC-address '/columnStep'\n",
      "OSCServer: NoCallbackError on request from localhost:57120: No callback registered to handle OSC-address '/columnStep'\n",
      "OSCServer: NoCallbackError on request from localhost:57120: No callback registered to handle OSC-address '/columnStep'\n",
      "OSCServer: NoCallbackError on request from localhost:57120: No callback registered to handle OSC-address '/columnStep'\n",
      "OSCServer: NoCallbackError on request from localhost:57120: No callback registered to handle OSC-address '/columnStep'\n",
      "OSCServer: NoCallbackError on request from localhost:57120: No callback registered to handle OSC-address '/columnStep'\n",
      "OSCServer: NoCallbackError on request from localhost:57120: No callback registered to handle OSC-address '/columnStep'\n",
      "OSCServer: NoCallbackError on request from localhost:57120: No callback registered to handle OSC-address '/columnStep'\n",
      "OSCServer: NoCallbackError on request from localhost:57120: No callback registered to handle OSC-address '/columnStep'\n",
      "OSCServer: NoCallbackError on request from localhost:57120: No callback registered to handle OSC-address '/columnStep'\n",
      "OSCServer: NoCallbackError on request from localhost:57120: No callback registered to handle OSC-address '/columnStep'\n",
      "OSCServer: NoCallbackError on request from localhost:57120: No callback registered to handle OSC-address '/columnStep'\n",
      "OSCServer: NoCallbackError on request from localhost:57120: No callback registered to handle OSC-address '/columnStep'\n",
      "OSCServer: NoCallbackError on request from localhost:57120: No callback registered to handle OSC-address '/columnStep'\n",
      "OSCServer: NoCallbackError on request from localhost:57120: No callback registered to handle OSC-address '/columnStep'\n",
      "OSCServer: NoCallbackError on request from localhost:57120: No callback registered to handle OSC-address '/columnStep'\n"
     ]
    },
    {
     "name": "stdout",
     "output_type": "stream",
     "text": [
      "1\t1\t1\t1\t0\t1\t1\t0\n",
      "1\t1\t1\t1\t1\t1\t1\t1\n",
      "1\t1\t1\t1\t0\t1\t1\t1\n",
      "0\t0\t0\t0\t0\t0\t0\t0\n",
      "0\t0\t0\t0\t0\t0\t0\t0\n",
      "0\t0\t0\t0\t0\t0\t0\t0\n",
      "0\t0\t0\t0\t0\t0\t0\t0\n",
      "0\t0\t0\t0\t0\t0\t0\t0\n",
      "1\t1\t1\t1\t0\t1\t1\t0\n",
      "1\t1\t1\t1\t1\t1\t1\t1\n",
      "1\t1\t1\t1\t0\t1\t1\t0\n",
      "0\t0\t0\t0\t0\t0\t0\t0\n",
      "0\t0\t0\t0\t0\t0\t0\t0\n",
      "0\t0\t0\t0\t0\t0\t0\t0\n",
      "0\t0\t0\t0\t0\t0\t0\t0\n",
      "0\t0\t0\t0\t0\t0\t0\t0\n"
     ]
    },
    {
     "name": "stderr",
     "output_type": "stream",
     "text": [
      "OSCServer: NoCallbackError on request from localhost:57120: No callback registered to handle OSC-address '/columnStep'\n",
      "OSCServer: NoCallbackError on request from localhost:57120: No callback registered to handle OSC-address '/columnStep'\n",
      "OSCServer: NoCallbackError on request from localhost:57120: No callback registered to handle OSC-address '/columnStep'\n",
      "OSCServer: NoCallbackError on request from localhost:57120: No callback registered to handle OSC-address '/columnStep'\n",
      "OSCServer: NoCallbackError on request from localhost:57120: No callback registered to handle OSC-address '/columnStep'\n",
      "OSCServer: NoCallbackError on request from localhost:57120: No callback registered to handle OSC-address '/columnStep'\n",
      "OSCServer: NoCallbackError on request from localhost:57120: No callback registered to handle OSC-address '/columnStep'\n",
      "OSCServer: NoCallbackError on request from localhost:57120: No callback registered to handle OSC-address '/columnStep'\n",
      "OSCServer: NoCallbackError on request from localhost:57120: No callback registered to handle OSC-address '/columnStep'\n",
      "OSCServer: NoCallbackError on request from localhost:57120: No callback registered to handle OSC-address '/columnStep'\n"
     ]
    },
    {
     "name": "stdout",
     "output_type": "stream",
     "text": [
      "1\t1\t1\t1\t0\t1\t1\t0\n",
      "0\t1\t1\t1\t1\t1\t1\t1\n",
      "1\t1\t1\t1\t0\t1\t1\t0\n",
      "0\t0\t0\t0\t0\t0\t0\t0\n",
      "0\t0\t0\t0\t0\t0\t0\t0\n",
      "0\t0\t0\t0\t0\t0\t0\t0\n",
      "0\t0\t0\t0\t0\t0\t0\t0\n",
      "0\t0\t0\t0\t0\t0\t0\t0\n",
      "1\t1\t1\t1\t0\t1\t1\t0\n",
      "0\t0\t1\t1\t1\t1\t1\t1\n",
      "1\t1\t1\t1\t0\t1\t1\t0\n",
      "0\t0\t0\t0\t0\t0\t0\t0\n",
      "0\t0\t0\t0\t0\t0\t0\t0\n",
      "0\t0\t0\t0\t0\t0\t0\t0\n",
      "0\t0\t0\t0\t0\t0\t0\t0\n",
      "0\t0\t0\t0\t0\t0\t0\t0\n",
      "1\t1\t1\t1\t0\t1\t1\t0\n",
      "0\t0\t0\t1\t1\t1\t1\t1\n",
      "1\t1\t1\t1\t0\t1\t1\t0\n",
      "0\t0\t0\t0\t0\t0\t0\t0\n",
      "0\t0\t0\t0\t0\t0\t0\t0\n",
      "0\t0\t0\t0\t0\t0\t0\t0\n",
      "0\t0\t0\t0\t0\t0\t0\t0\n",
      "0\t0\t0\t0\t0\t0\t0\t0\n",
      "1\t1\t1\t1\t0\t1\t1\t0\n",
      "0\t0\t0\t0\t1\t1\t1\t1\n",
      "1\t1\t1\t1\t0\t1\t1\t0\n",
      "0\t0\t0\t0\t0\t0\t0\t0\n",
      "0\t0\t0\t0\t0\t0\t0\t0\n",
      "0\t0\t0\t0\t0\t0\t0\t0\n",
      "0\t0\t0\t0\t0\t0\t0\t0\n",
      "0\t0\t0\t0\t0\t0\t0\t0\n",
      "1\t1\t1\t1\t0\t1\t1\t0\n",
      "0\t0\t0\t0\t0\t1\t1\t1\n",
      "1\t1\t1\t1\t0\t1\t1\t0\n",
      "0\t0\t0\t0\t0\t0\t0\t0\n",
      "0\t0\t0\t0\t0\t0\t0\t0\n",
      "0\t0\t0\t0\t0\t0\t0\t0\n",
      "0\t0\t0\t0\t0\t0\t0\t0\n",
      "0\t0\t0\t0\t0\t0\t0\t0\n",
      "1\t1\t1\t1\t0\t1\t1\t0\n",
      "0\t0\t0\t0\t0\t0\t1\t1\n",
      "1\t1\t1\t1\t0\t1\t1\t0\n",
      "0\t0\t0\t0\t0\t0\t0\t0\n",
      "0\t0\t0\t0\t0\t0\t0\t0\n",
      "0\t0\t0\t0\t0\t0\t0\t0\n",
      "0\t0\t0\t0\t0\t0\t0\t0\n",
      "0\t0\t0\t0\t0\t0\t0\t0\n"
     ]
    },
    {
     "name": "stderr",
     "output_type": "stream",
     "text": [
      "OSCServer: NoCallbackError on request from localhost:57120: No callback registered to handle OSC-address '/columnStep'\n"
     ]
    },
    {
     "name": "stdout",
     "output_type": "stream",
     "text": [
      "1\t1\t1\t1\t0\t1\t1\t0\n",
      "0\t0\t0\t0\t0\t0\t0\t1\n",
      "1\t1\t1\t1\t0\t1\t1\t0\n",
      "0\t0\t0\t0\t0\t0\t0\t0\n",
      "0\t0\t0\t0\t0\t0\t0\t0\n",
      "0\t0\t0\t0\t0\t0\t0\t0\n",
      "0\t0\t0\t0\t0\t0\t0\t0\n",
      "0\t0\t0\t0\t0\t0\t0\t0\n",
      "1\t1\t1\t1\t0\t1\t1\t0\n",
      "0\t0\t0\t0\t0\t0\t0\t0\n",
      "1\t1\t1\t1\t0\t1\t1\t0\n",
      "0\t0\t0\t0\t0\t0\t0\t0\n",
      "0\t0\t0\t0\t0\t0\t0\t0\n",
      "0\t0\t0\t0\t0\t0\t0\t0\n",
      "0\t0\t0\t0\t0\t0\t0\t0\n",
      "0\t0\t0\t0\t0\t0\t0\t0\n"
     ]
    },
    {
     "name": "stderr",
     "output_type": "stream",
     "text": [
      "OSCServer: NoCallbackError on request from localhost:57120: No callback registered to handle OSC-address '/columnStep'\n",
      "OSCServer: NoCallbackError on request from localhost:57120: No callback registered to handle OSC-address '/columnStep'\n",
      "OSCServer: NoCallbackError on request from localhost:57120: No callback registered to handle OSC-address '/columnStep'\n",
      "OSCServer: NoCallbackError on request from localhost:57120: No callback registered to handle OSC-address '/columnStep'\n",
      "OSCServer: NoCallbackError on request from localhost:57120: No callback registered to handle OSC-address '/columnStep'\n",
      "OSCServer: NoCallbackError on request from localhost:57120: No callback registered to handle OSC-address '/columnStep'\n",
      "OSCServer: NoCallbackError on request from localhost:57120: No callback registered to handle OSC-address '/columnStep'\n",
      "OSCServer: NoCallbackError on request from localhost:57120: No callback registered to handle OSC-address '/columnStep'\n",
      "OSCServer: NoCallbackError on request from localhost:57120: No callback registered to handle OSC-address '/columnStep'\n",
      "OSCServer: NoCallbackError on request from localhost:57120: No callback registered to handle OSC-address '/columnStep'\n",
      "OSCServer: NoCallbackError on request from localhost:57120: No callback registered to handle OSC-address '/columnStep'\n",
      "OSCServer: NoCallbackError on request from localhost:57120: No callback registered to handle OSC-address '/columnStep'\n",
      "OSCServer: NoCallbackError on request from localhost:57120: No callback registered to handle OSC-address '/columnStep'\n",
      "OSCServer: NoCallbackError on request from localhost:57120: No callback registered to handle OSC-address '/columnStep'\n"
     ]
    },
    {
     "name": "stdout",
     "output_type": "stream",
     "text": [
      "1\t1\t1\t1\t0\t1\t1\t0\n",
      "0\t0\t0\t0\t0\t0\t0\t0\n",
      "1\t1\t1\t1\t0\t1\t1\t0\n",
      "1\t1\t1\t1\t1\t1\t1\t0\n",
      "0\t0\t0\t0\t0\t0\t0\t0\n",
      "0\t0\t0\t0\t0\t0\t0\t0\n",
      "0\t0\t0\t0\t0\t0\t0\t0\n",
      "0\t0\t0\t0\t0\t0\t0\t0\n"
     ]
    },
    {
     "name": "stderr",
     "output_type": "stream",
     "text": [
      "OSCServer: NoCallbackError on request from localhost:57120: No callback registered to handle OSC-address '/columnStep'\n"
     ]
    },
    {
     "name": "stdout",
     "output_type": "stream",
     "text": [
      "1\t1\t1\t1\t0\t1\t1\t0\n",
      "0\t0\t0\t0\t0\t0\t0\t0\n",
      "1\t1\t1\t1\t0\t1\t1\t0\n",
      "1\t0\t1\t1\t1\t1\t1\t0\n",
      "0\t0\t0\t0\t0\t0\t0\t0\n",
      "0\t0\t0\t0\t0\t0\t0\t0\n",
      "0\t0\t0\t0\t0\t0\t0\t0\n",
      "0\t0\t0\t0\t0\t0\t0\t0\n",
      "1\t1\t1\t1\t0\t1\t1\t0\n",
      "0\t0\t0\t0\t0\t0\t0\t0\n",
      "1\t1\t1\t1\t0\t1\t1\t0\n",
      "1\t0\t1\t1\t1\t1\t1\t1\n",
      "0\t0\t0\t0\t0\t0\t0\t0\n",
      "0\t0\t0\t0\t0\t0\t0\t0\n",
      "0\t0\t0\t0\t0\t0\t0\t0\n",
      "0\t0\t0\t0\t0\t0\t0\t0\n"
     ]
    },
    {
     "name": "stderr",
     "output_type": "stream",
     "text": [
      "OSCServer: NoCallbackError on request from localhost:57120: No callback registered to handle OSC-address '/columnStep'\n",
      "OSCServer: NoCallbackError on request from localhost:57120: No callback registered to handle OSC-address '/columnStep'\n",
      "OSCServer: NoCallbackError on request from localhost:57120: No callback registered to handle OSC-address '/columnStep'\n"
     ]
    },
    {
     "name": "stdout",
     "output_type": "stream",
     "text": [
      "1\t1\t1\t1\t0\t1\t1\t0\n",
      "0\t0\t0\t0\t1\t0\t0\t0\n",
      "1\t1\t1\t1\t0\t1\t1\t0\n",
      "1\t0\t1\t1\t1\t1\t1\t1\n",
      "0\t0\t0\t0\t0\t0\t0\t0\n",
      "0\t0\t0\t0\t0\t0\t0\t0\n",
      "0\t0\t0\t0\t0\t0\t0\t0\n",
      "0\t0\t0\t0\t0\t0\t0\t0\n"
     ]
    },
    {
     "name": "stderr",
     "output_type": "stream",
     "text": [
      "OSCServer: NoCallbackError on request from localhost:57120: No callback registered to handle OSC-address '/columnStep'\n"
     ]
    },
    {
     "name": "stdout",
     "output_type": "stream",
     "text": [
      "1\t1\t1\t1\t0\t1\t1\t0\n",
      "0\t0\t0\t0\t0\t0\t0\t0\n",
      "1\t1\t1\t1\t0\t1\t1\t0\n",
      "1\t0\t1\t1\t1\t1\t1\t1\n",
      "0\t0\t0\t0\t0\t0\t0\t0\n",
      "0\t0\t0\t0\t0\t0\t0\t0\n",
      "0\t0\t0\t0\t0\t0\t0\t0\n",
      "0\t0\t0\t0\t0\t0\t0\t0\n",
      "1\t1\t1\t1\t1\t1\t1\t0\n",
      "0\t0\t0\t0\t0\t0\t0\t0\n",
      "1\t1\t1\t1\t0\t1\t1\t0\n",
      "1\t0\t1\t1\t1\t1\t1\t1\n",
      "0\t0\t0\t0\t0\t0\t0\t0\n",
      "0\t0\t0\t0\t0\t0\t0\t0\n",
      "0\t0\t0\t0\t0\t0\t0\t0\n",
      "0\t0\t0\t0\t0\t0\t0\t0\n"
     ]
    },
    {
     "name": "stderr",
     "output_type": "stream",
     "text": [
      "OSCServer: NoCallbackError on request from localhost:57120: No callback registered to handle OSC-address '/columnStep'\n",
      "OSCServer: NoCallbackError on request from localhost:57120: No callback registered to handle OSC-address '/columnStep'\n",
      "OSCServer: NoCallbackError on request from localhost:57120: No callback registered to handle OSC-address '/columnStep'\n"
     ]
    },
    {
     "name": "stdout",
     "output_type": "stream",
     "text": [
      "1\t1\t1\t1\t1\t1\t1\t0\n",
      "0\t1\t0\t0\t0\t0\t0\t0\n",
      "1\t1\t1\t1\t0\t1\t1\t0\n",
      "1\t0\t1\t1\t1\t1\t1\t1\n",
      "0\t0\t0\t0\t0\t0\t0\t0\n",
      "0\t0\t0\t0\t0\t0\t0\t0\n",
      "0\t0\t0\t0\t0\t0\t0\t0\n",
      "0\t0\t0\t0\t0\t0\t0\t0\n"
     ]
    },
    {
     "name": "stderr",
     "output_type": "stream",
     "text": [
      "OSCServer: NoCallbackError on request from localhost:57120: No callback registered to handle OSC-address '/columnStep'\n"
     ]
    },
    {
     "name": "stdout",
     "output_type": "stream",
     "text": [
      "1\t1\t1\t1\t1\t1\t1\t0\n",
      "0\t1\t0\t0\t1\t0\t0\t0\n",
      "1\t1\t1\t1\t0\t1\t1\t0\n",
      "1\t0\t1\t1\t1\t1\t1\t1\n",
      "0\t0\t0\t0\t0\t0\t0\t0\n",
      "0\t0\t0\t0\t0\t0\t0\t0\n",
      "0\t0\t0\t0\t0\t0\t0\t0\n",
      "0\t0\t0\t0\t0\t0\t0\t0\n",
      "1\t1\t1\t1\t1\t1\t1\t0\n",
      "0\t1\t0\t0\t1\t0\t0\t0\n",
      "1\t1\t1\t1\t0\t1\t1\t0\n",
      "1\t0\t1\t1\t0\t1\t1\t1\n",
      "0\t0\t0\t0\t0\t0\t0\t0\n",
      "0\t0\t0\t0\t0\t0\t0\t0\n",
      "0\t0\t0\t0\t0\t0\t0\t0\n",
      "0\t0\t0\t0\t0\t0\t0\t0\n"
     ]
    },
    {
     "name": "stderr",
     "output_type": "stream",
     "text": [
      "OSCServer: NoCallbackError on request from localhost:57120: No callback registered to handle OSC-address '/columnStep'\n"
     ]
    },
    {
     "name": "stdout",
     "output_type": "stream",
     "text": [
      "1\t1\t1\t1\t1\t1\t1\t0\n",
      "0\t1\t0\t0\t1\t0\t0\t0\n",
      "1\t1\t1\t1\t0\t0\t1\t0\n",
      "1\t0\t1\t1\t0\t1\t1\t1\n",
      "0\t0\t0\t0\t0\t0\t0\t0\n",
      "0\t0\t0\t0\t0\t0\t0\t0\n",
      "0\t0\t0\t0\t0\t0\t0\t0\n",
      "0\t0\t0\t0\t0\t0\t0\t0\n"
     ]
    },
    {
     "name": "stderr",
     "output_type": "stream",
     "text": [
      "OSCServer: NoCallbackError on request from localhost:57120: No callback registered to handle OSC-address '/columnStep'\n",
      "OSCServer: NoCallbackError on request from localhost:57120: No callback registered to handle OSC-address '/columnStep'\n"
     ]
    },
    {
     "name": "stdout",
     "output_type": "stream",
     "text": [
      "1\t1\t1\t1\t1\t1\t1\t0\n",
      "0\t1\t0\t0\t1\t1\t0\t0\n",
      "1\t1\t1\t1\t0\t0\t1\t0\n",
      "1\t0\t1\t1\t0\t1\t1\t1\n",
      "0\t0\t0\t0\t0\t0\t0\t0\n",
      "0\t0\t0\t0\t0\t0\t0\t0\n",
      "0\t0\t0\t0\t0\t0\t0\t0\n",
      "0\t0\t0\t0\t0\t0\t0\t0\n",
      "1\t1\t1\t1\t1\t1\t1\t0\n",
      "0\t1\t0\t0\t1\t1\t0\t0\n",
      "1\t1\t1\t1\t0\t0\t1\t0\n",
      "1\t0\t1\t1\t0\t0\t1\t1\n",
      "0\t0\t0\t0\t0\t0\t0\t0\n",
      "0\t0\t0\t0\t0\t0\t0\t0\n",
      "0\t0\t0\t0\t0\t0\t0\t0\n",
      "0\t0\t0\t0\t0\t0\t0\t0\n"
     ]
    },
    {
     "name": "stderr",
     "output_type": "stream",
     "text": [
      "OSCServer: NoCallbackError on request from localhost:57120: No callback registered to handle OSC-address '/columnStep'\n"
     ]
    },
    {
     "name": "stdout",
     "output_type": "stream",
     "text": [
      "1\t1\t1\t1\t1\t1\t1\t0\n",
      "0\t1\t0\t0\t1\t1\t0\t0\n",
      "1\t1\t1\t1\t0\t1\t1\t0\n",
      "1\t0\t1\t1\t0\t0\t1\t1\n",
      "0\t0\t0\t0\t0\t0\t0\t0\n",
      "0\t0\t0\t0\t0\t0\t0\t0\n",
      "0\t0\t0\t0\t0\t0\t0\t0\n",
      "0\t0\t0\t0\t0\t0\t0\t0\n"
     ]
    },
    {
     "name": "stderr",
     "output_type": "stream",
     "text": [
      "OSCServer: NoCallbackError on request from localhost:57120: No callback registered to handle OSC-address '/columnStep'\n",
      "OSCServer: NoCallbackError on request from localhost:57120: No callback registered to handle OSC-address '/columnStep'\n",
      "OSCServer: NoCallbackError on request from localhost:57120: No callback registered to handle OSC-address '/columnStep'\n",
      "OSCServer: NoCallbackError on request from localhost:57120: No callback registered to handle OSC-address '/columnStep'\n",
      "OSCServer: NoCallbackError on request from localhost:57120: No callback registered to handle OSC-address '/columnStep'\n"
     ]
    },
    {
     "name": "stdout",
     "output_type": "stream",
     "text": [
      "1\t1\t1\t1\t1\t1\t1\t0\n",
      "1\t1\t0\t0\t1\t1\t0\t0\n",
      "1\t1\t1\t1\t0\t1\t1\t0\n",
      "1\t0\t1\t1\t0\t0\t1\t1\n",
      "0\t0\t0\t0\t0\t0\t0\t0\n",
      "0\t0\t0\t0\t0\t0\t0\t0\n",
      "0\t0\t0\t0\t0\t0\t0\t0\n",
      "0\t0\t0\t0\t0\t0\t0\t0\n"
     ]
    },
    {
     "name": "stderr",
     "output_type": "stream",
     "text": [
      "OSCServer: NoCallbackError on request from localhost:57120: No callback registered to handle OSC-address '/columnStep'\n"
     ]
    },
    {
     "name": "stdout",
     "output_type": "stream",
     "text": [
      "1\t1\t1\t1\t1\t1\t1\t0\n",
      "1\t1\t0\t0\t1\t1\t0\t0\n",
      "1\t1\t1\t1\t0\t1\t1\t0\n",
      "0\t0\t1\t1\t0\t0\t1\t1\n",
      "0\t0\t0\t0\t0\t0\t0\t0\n",
      "0\t0\t0\t0\t0\t0\t0\t0\n",
      "0\t0\t0\t0\t0\t0\t0\t0\n",
      "0\t0\t0\t0\t0\t0\t0\t0\n"
     ]
    },
    {
     "name": "stderr",
     "output_type": "stream",
     "text": [
      "OSCServer: NoCallbackError on request from localhost:57120: No callback registered to handle OSC-address '/columnStep'\n",
      "OSCServer: NoCallbackError on request from localhost:57120: No callback registered to handle OSC-address '/columnStep'\n",
      "OSCServer: NoCallbackError on request from localhost:57120: No callback registered to handle OSC-address '/columnStep'\n",
      "OSCServer: NoCallbackError on request from localhost:57120: No callback registered to handle OSC-address '/columnStep'\n",
      "OSCServer: NoCallbackError on request from localhost:57120: No callback registered to handle OSC-address '/columnStep'\n",
      "OSCServer: NoCallbackError on request from localhost:57120: No callback registered to handle OSC-address '/columnStep'\n",
      "OSCServer: NoCallbackError on request from localhost:57120: No callback registered to handle OSC-address '/columnStep'\n",
      "OSCServer: NoCallbackError on request from localhost:57120: No callback registered to handle OSC-address '/columnStep'\n",
      "OSCServer: NoCallbackError on request from localhost:57120: No callback registered to handle OSC-address '/columnStep'\n",
      "OSCServer: NoCallbackError on request from localhost:57120: No callback registered to handle OSC-address '/columnStep'\n",
      "OSCServer: NoCallbackError on request from localhost:57120: No callback registered to handle OSC-address '/columnStep'\n",
      "OSCServer: NoCallbackError on request from localhost:57120: No callback registered to handle OSC-address '/columnStep'\n",
      "OSCServer: NoCallbackError on request from localhost:57120: No callback registered to handle OSC-address '/columnStep'\n",
      "OSCServer: NoCallbackError on request from localhost:57120: No callback registered to handle OSC-address '/columnStep'\n",
      "OSCServer: NoCallbackError on request from localhost:57120: No callback registered to handle OSC-address '/columnStep'\n",
      "OSCServer: NoCallbackError on request from localhost:57120: No callback registered to handle OSC-address '/columnStep'\n",
      "OSCServer: NoCallbackError on request from localhost:57120: No callback registered to handle OSC-address '/columnStep'\n",
      "OSCServer: NoCallbackError on request from localhost:57120: No callback registered to handle OSC-address '/columnStep'\n",
      "OSCServer: NoCallbackError on request from localhost:57120: No callback registered to handle OSC-address '/columnStep'\n",
      "OSCServer: NoCallbackError on request from localhost:57120: No callback registered to handle OSC-address '/columnStep'\n",
      "OSCServer: NoCallbackError on request from localhost:57120: No callback registered to handle OSC-address '/columnStep'\n",
      "OSCServer: NoCallbackError on request from localhost:57120: No callback registered to handle OSC-address '/columnStep'\n",
      "OSCServer: NoCallbackError on request from localhost:57120: No callback registered to handle OSC-address '/columnStep'\n",
      "OSCServer: NoCallbackError on request from localhost:57120: No callback registered to handle OSC-address '/columnStep'\n",
      "OSCServer: NoCallbackError on request from localhost:57120: No callback registered to handle OSC-address '/columnStep'\n",
      "OSCServer: NoCallbackError on request from localhost:57120: No callback registered to handle OSC-address '/columnStep'\n",
      "OSCServer: NoCallbackError on request from localhost:57120: No callback registered to handle OSC-address '/columnStep'\n",
      "OSCServer: NoCallbackError on request from localhost:57120: No callback registered to handle OSC-address '/columnStep'\n",
      "OSCServer: NoCallbackError on request from localhost:57120: No callback registered to handle OSC-address '/columnStep'\n",
      "OSCServer: NoCallbackError on request from localhost:57120: No callback registered to handle OSC-address '/columnStep'\n",
      "OSCServer: NoCallbackError on request from localhost:57120: No callback registered to handle OSC-address '/columnStep'\n",
      "OSCServer: NoCallbackError on request from localhost:57120: No callback registered to handle OSC-address '/columnStep'\n",
      "OSCServer: NoCallbackError on request from localhost:57120: No callback registered to handle OSC-address '/columnStep'\n",
      "OSCServer: NoCallbackError on request from localhost:57120: No callback registered to handle OSC-address '/columnStep'\n",
      "OSCServer: NoCallbackError on request from localhost:57120: No callback registered to handle OSC-address '/columnStep'\n",
      "OSCServer: NoCallbackError on request from localhost:57120: No callback registered to handle OSC-address '/columnStep'\n",
      "OSCServer: NoCallbackError on request from localhost:57120: No callback registered to handle OSC-address '/columnStep'\n",
      "OSCServer: NoCallbackError on request from localhost:57120: No callback registered to handle OSC-address '/columnStep'\n",
      "OSCServer: NoCallbackError on request from localhost:57120: No callback registered to handle OSC-address '/columnStep'\n",
      "OSCServer: NoCallbackError on request from localhost:57120: No callback registered to handle OSC-address '/columnStep'\n",
      "OSCServer: NoCallbackError on request from localhost:57120: No callback registered to handle OSC-address '/columnStep'\n",
      "OSCServer: NoCallbackError on request from localhost:57120: No callback registered to handle OSC-address '/columnStep'\n",
      "OSCServer: NoCallbackError on request from localhost:57120: No callback registered to handle OSC-address '/columnStep'\n",
      "OSCServer: NoCallbackError on request from localhost:57120: No callback registered to handle OSC-address '/columnStep'\n",
      "OSCServer: NoCallbackError on request from localhost:57120: No callback registered to handle OSC-address '/columnStep'\n",
      "OSCServer: NoCallbackError on request from localhost:57120: No callback registered to handle OSC-address '/columnStep'\n",
      "OSCServer: NoCallbackError on request from localhost:57120: No callback registered to handle OSC-address '/columnStep'\n"
     ]
    },
    {
     "name": "stdout",
     "output_type": "stream",
     "text": [
      "1\t1\t1\t1\t1\t1\t1\t0\n",
      "1\t1\t0\t0\t1\t1\t0\t0\n",
      "1\t1\t1\t1\t0\t1\t1\t1\n",
      "0\t0\t1\t1\t0\t0\t1\t1\n",
      "0\t0\t0\t0\t0\t0\t0\t0\n",
      "0\t0\t0\t0\t0\t0\t0\t0\n",
      "0\t0\t0\t0\t0\t0\t0\t0\n",
      "0\t0\t0\t0\t0\t0\t0\t0\n"
     ]
    },
    {
     "name": "stderr",
     "output_type": "stream",
     "text": [
      "OSCServer: NoCallbackError on request from localhost:57120: No callback registered to handle OSC-address '/columnStep'\n"
     ]
    },
    {
     "name": "stdout",
     "output_type": "stream",
     "text": [
      "1\t1\t1\t1\t1\t1\t1\t0\n",
      "1\t1\t0\t0\t1\t1\t0\t0\n",
      "1\t1\t1\t1\t0\t1\t1\t1\n",
      "0\t0\t1\t0\t0\t0\t1\t1\n",
      "0\t0\t0\t0\t0\t0\t0\t0\n",
      "0\t0\t0\t0\t0\t0\t0\t0\n",
      "0\t0\t0\t0\t0\t0\t0\t0\n",
      "0\t0\t0\t0\t0\t0\t0\t0\n"
     ]
    },
    {
     "name": "stderr",
     "output_type": "stream",
     "text": [
      "OSCServer: NoCallbackError on request from localhost:57120: No callback registered to handle OSC-address '/columnStep'\n",
      "OSCServer: NoCallbackError on request from localhost:57120: No callback registered to handle OSC-address '/columnStep'\n",
      "OSCServer: NoCallbackError on request from localhost:57120: No callback registered to handle OSC-address '/columnStep'\n",
      "OSCServer: NoCallbackError on request from localhost:57120: No callback registered to handle OSC-address '/columnStep'\n"
     ]
    },
    {
     "name": "stdout",
     "output_type": "stream",
     "text": [
      "1\t1\t1\t1\t1\t1\t1\t0\n",
      "0\t1\t0\t0\t1\t1\t0\t0\n",
      "1\t1\t1\t1\t0\t1\t1\t1\n",
      "0\t0\t1\t0\t0\t0\t1\t1\n",
      "0\t0\t0\t0\t0\t0\t0\t0\n",
      "0\t0\t0\t0\t0\t0\t0\t0\n",
      "0\t0\t0\t0\t0\t0\t0\t0\n",
      "0\t0\t0\t0\t0\t0\t0\t0\n"
     ]
    },
    {
     "name": "stderr",
     "output_type": "stream",
     "text": [
      "OSCServer: NoCallbackError on request from localhost:57120: No callback registered to handle OSC-address '/columnStep'\n"
     ]
    },
    {
     "name": "stdout",
     "output_type": "stream",
     "text": [
      "1\t1\t1\t1\t1\t1\t1\t0\n",
      "0\t1\t0\t0\t1\t1\t0\t0\n",
      "1\t1\t1\t1\t0\t1\t1\t1\n",
      "1\t0\t1\t0\t0\t0\t1\t1\n",
      "0\t0\t0\t0\t0\t0\t0\t0\n",
      "0\t0\t0\t0\t0\t0\t0\t0\n",
      "0\t0\t0\t0\t0\t0\t0\t0\n",
      "0\t0\t0\t0\t0\t0\t0\t0\n"
     ]
    },
    {
     "name": "stderr",
     "output_type": "stream",
     "text": [
      "OSCServer: NoCallbackError on request from localhost:57120: No callback registered to handle OSC-address '/columnStep'\n"
     ]
    },
    {
     "name": "stdout",
     "output_type": "stream",
     "text": [
      "1\t1\t1\t1\t1\t1\t1\t0\n",
      "0\t0\t0\t0\t1\t1\t0\t0\n",
      "1\t1\t1\t1\t0\t1\t1\t1\n",
      "1\t0\t1\t0\t0\t0\t1\t1\n",
      "0\t0\t0\t0\t0\t0\t0\t0\n",
      "0\t0\t0\t0\t0\t0\t0\t0\n",
      "0\t0\t0\t0\t0\t0\t0\t0\n",
      "0\t0\t0\t0\t0\t0\t0\t0\n",
      "1\t1\t1\t1\t1\t1\t1\t0\n",
      "0\t0\t0\t0\t1\t1\t0\t0\n",
      "1\t1\t1\t1\t0\t1\t1\t1\n",
      "1\t1\t1\t0\t0\t0\t1\t1\n",
      "0\t0\t0\t0\t0\t0\t0\t0\n",
      "0\t0\t0\t0\t0\t0\t0\t0\n",
      "0\t0\t0\t0\t0\t0\t0\t0\n",
      "0\t0\t0\t0\t0\t0\t0\t0\n"
     ]
    },
    {
     "name": "stderr",
     "output_type": "stream",
     "text": [
      "OSCServer: NoCallbackError on request from localhost:57120: No callback registered to handle OSC-address '/columnStep'\n"
     ]
    },
    {
     "name": "stdout",
     "output_type": "stream",
     "text": [
      "1\t1\t1\t1\t1\t1\t1\t0\n",
      "0\t0\t0\t0\t1\t1\t0\t0\n",
      "1\t1\t0\t1\t0\t1\t1\t1\n",
      "1\t1\t1\t0\t0\t0\t1\t1\n",
      "0\t0\t0\t0\t0\t0\t0\t0\n",
      "0\t0\t0\t0\t0\t0\t0\t0\n",
      "0\t0\t0\t0\t0\t0\t0\t0\n",
      "0\t0\t0\t0\t0\t0\t0\t0\n"
     ]
    },
    {
     "name": "stderr",
     "output_type": "stream",
     "text": [
      "OSCServer: NoCallbackError on request from localhost:57120: No callback registered to handle OSC-address '/columnStep'\n"
     ]
    },
    {
     "name": "stdout",
     "output_type": "stream",
     "text": [
      "1\t1\t1\t1\t1\t1\t1\t0\n",
      "0\t0\t0\t1\t1\t1\t0\t0\n",
      "1\t1\t0\t1\t0\t1\t1\t1\n",
      "1\t1\t1\t0\t0\t0\t1\t1\n",
      "0\t0\t0\t0\t0\t0\t0\t0\n",
      "0\t0\t0\t0\t0\t0\t0\t0\n",
      "0\t0\t0\t0\t0\t0\t0\t0\n",
      "0\t0\t0\t0\t0\t0\t0\t0\n"
     ]
    },
    {
     "name": "stderr",
     "output_type": "stream",
     "text": [
      "OSCServer: NoCallbackError on request from localhost:57120: No callback registered to handle OSC-address '/columnStep'\n"
     ]
    },
    {
     "name": "stdout",
     "output_type": "stream",
     "text": [
      "1\t1\t1\t1\t1\t1\t1\t0\n",
      "0\t0\t0\t1\t1\t1\t0\t0\n",
      "1\t1\t0\t1\t1\t1\t1\t1\n",
      "1\t1\t1\t0\t0\t0\t1\t1\n",
      "0\t0\t0\t0\t0\t0\t0\t0\n",
      "0\t0\t0\t0\t0\t0\t0\t0\n",
      "0\t0\t0\t0\t0\t0\t0\t0\n",
      "0\t0\t0\t0\t0\t0\t0\t0\n",
      "1\t1\t1\t1\t1\t1\t1\t0\n",
      "0\t0\t0\t1\t0\t1\t0\t0\n",
      "1\t1\t0\t1\t1\t1\t1\t1\n",
      "1\t1\t1\t0\t0\t0\t1\t1\n",
      "0\t0\t0\t0\t0\t0\t0\t0\n",
      "0\t0\t0\t0\t0\t0\t0\t0\n",
      "0\t0\t0\t0\t0\t0\t0\t0\n",
      "0\t0\t0\t0\t0\t0\t0\t0\n"
     ]
    },
    {
     "name": "stderr",
     "output_type": "stream",
     "text": [
      "OSCServer: NoCallbackError on request from localhost:57120: No callback registered to handle OSC-address '/columnStep'\n"
     ]
    },
    {
     "name": "stdout",
     "output_type": "stream",
     "text": [
      "1\t1\t1\t1\t1\t1\t1\t0\n",
      "0\t0\t0\t1\t1\t1\t0\t0\n",
      "1\t1\t0\t1\t1\t1\t1\t1\n",
      "1\t1\t1\t0\t0\t0\t1\t1\n",
      "0\t0\t0\t0\t0\t0\t0\t0\n",
      "0\t0\t0\t0\t0\t0\t0\t0\n",
      "0\t0\t0\t0\t0\t0\t0\t0\n",
      "0\t0\t0\t0\t0\t0\t0\t0\n",
      "1\t1\t1\t1\t1\t1\t1\t0\n",
      "0\t0\t0\t1\t0\t1\t0\t0\n",
      "1\t1\t0\t1\t1\t1\t1\t1\n",
      "1\t1\t1\t0\t0\t0\t1\t1\n",
      "0\t0\t0\t0\t0\t0\t0\t0\n",
      "0\t0\t0\t0\t0\t0\t0\t0\n",
      "0\t0\t0\t0\t0\t0\t0\t0\n",
      "0\t0\t0\t0\t0\t0\t0\t0\n"
     ]
    },
    {
     "name": "stderr",
     "output_type": "stream",
     "text": [
      "OSCServer: NoCallbackError on request from localhost:57120: No callback registered to handle OSC-address '/columnStep'\n",
      "OSCServer: NoCallbackError on request from localhost:57120: No callback registered to handle OSC-address '/columnStep'\n",
      "OSCServer: NoCallbackError on request from localhost:57120: No callback registered to handle OSC-address '/columnStep'\n",
      "OSCServer: NoCallbackError on request from localhost:57120: No callback registered to handle OSC-address '/columnStep'\n",
      "OSCServer: NoCallbackError on request from localhost:57120: No callback registered to handle OSC-address '/columnStep'\n",
      "OSCServer: NoCallbackError on request from localhost:57120: No callback registered to handle OSC-address '/columnStep'\n"
     ]
    },
    {
     "name": "stdout",
     "output_type": "stream",
     "text": [
      "1\t1\t1\t1\t1\t1\t1\t0\n",
      "0\t0\t0\t1\t0\t1\t0\t0\n",
      "1\t1\t0\t1\t1\t1\t1\t1\n",
      "1\t1\t1\t1\t0\t0\t1\t1\n",
      "0\t0\t0\t0\t0\t0\t0\t0\n",
      "0\t0\t0\t0\t0\t0\t0\t0\n",
      "0\t0\t0\t0\t0\t0\t0\t0\n",
      "0\t0\t0\t0\t0\t0\t0\t0\n",
      "1\t1\t1\t1\t1\t1\t1\t0\n",
      "0\t0\t0\t0\t0\t1\t0\t0\n",
      "1\t1\t0\t1\t1\t1\t1\t1\n",
      "1\t1\t1\t1\t0\t0\t1\t1\n",
      "0\t0\t0\t0\t0\t0\t0\t0\n",
      "0\t0\t0\t0\t0\t0\t0\t0\n",
      "0\t0\t0\t0\t0\t0\t0\t0\n",
      "0\t0\t0\t0\t0\t0\t0\t0\n"
     ]
    },
    {
     "name": "stderr",
     "output_type": "stream",
     "text": [
      "OSCServer: NoCallbackError on request from localhost:57120: No callback registered to handle OSC-address '/columnStep'\n"
     ]
    },
    {
     "name": "stdout",
     "output_type": "stream",
     "text": [
      "1\t1\t1\t1\t1\t1\t1\t0\n",
      "0\t0\t0\t0\t0\t1\t0\t0\n",
      "1\t1\t0\t1\t1\t1\t1\t1\n",
      "1\t1\t1\t1\t1\t0\t1\t1\n",
      "0\t0\t0\t0\t0\t0\t0\t0\n",
      "0\t0\t0\t0\t0\t0\t0\t0\n",
      "0\t0\t0\t0\t0\t0\t0\t0\n",
      "0\t0\t0\t0\t0\t0\t0\t0\n"
     ]
    },
    {
     "name": "stderr",
     "output_type": "stream",
     "text": [
      "OSCServer: NoCallbackError on request from localhost:57120: No callback registered to handle OSC-address '/columnStep'\n"
     ]
    },
    {
     "name": "stdout",
     "output_type": "stream",
     "text": [
      "1\t1\t1\t1\t1\t1\t1\t0\n",
      "0\t0\t0\t0\t0\t1\t0\t0\n",
      "1\t1\t0\t1\t1\t0\t1\t1\n",
      "1\t1\t1\t1\t1\t0\t1\t1\n",
      "0\t0\t0\t0\t0\t0\t0\t0\n",
      "0\t0\t0\t0\t0\t0\t0\t0\n",
      "0\t0\t0\t0\t0\t0\t0\t0\n",
      "0\t0\t0\t0\t0\t0\t0\t0\n",
      "1\t1\t1\t1\t1\t1\t1\t0\n",
      "0\t0\t0\t0\t0\t0\t0\t0\n",
      "1\t1\t0\t1\t1\t0\t1\t1\n",
      "1\t1\t1\t1\t1\t0\t1\t1\n",
      "0\t0\t0\t0\t0\t0\t0\t0\n",
      "0\t0\t0\t0\t0\t0\t0\t0\n",
      "0\t0\t0\t0\t0\t0\t0\t0\n",
      "0\t0\t0\t0\t0\t0\t0\t0\n",
      "1\t1\t1\t1\t1\t1\t1\t0\n",
      "0\t0\t0\t0\t0\t0\t0\t0\n",
      "1\t1\t0\t1\t1\t0\t1\t1\n",
      "1\t1\t1\t1\t1\t1\t1\t1\n",
      "0\t0\t0\t0\t0\t0\t0\t0\n",
      "0\t0\t0\t0\t0\t0\t0\t0\n",
      "0\t0\t0\t0\t0\t0\t0\t0\n",
      "0\t0\t0\t0\t0\t0\t0\t0\n"
     ]
    },
    {
     "name": "stderr",
     "output_type": "stream",
     "text": [
      "OSCServer: NoCallbackError on request from localhost:57120: No callback registered to handle OSC-address '/columnStep'\n"
     ]
    },
    {
     "name": "stdout",
     "output_type": "stream",
     "text": [
      "1\t1\t1\t1\t1\t1\t1\t0\n",
      "0\t0\t0\t0\t0\t0\t0\t0\n",
      "1\t1\t0\t1\t1\t0\t0\t1\n",
      "1\t1\t1\t1\t1\t1\t1\t1\n",
      "0\t0\t0\t0\t0\t0\t0\t0\n",
      "0\t0\t0\t0\t0\t0\t0\t0\n",
      "0\t0\t0\t0\t0\t0\t0\t0\n",
      "0\t0\t0\t0\t0\t0\t0\t0\n",
      "1\t1\t1\t1\t1\t1\t1\t1\n",
      "0\t0\t0\t0\t0\t0\t0\t0\n",
      "1\t1\t0\t1\t1\t0\t0\t1\n",
      "1\t1\t1\t1\t1\t1\t1\t1\n",
      "0\t0\t0\t0\t0\t0\t0\t0\n",
      "0\t0\t0\t0\t0\t0\t0\t0\n",
      "0\t0\t0\t0\t0\t0\t0\t0\n",
      "0\t0\t0\t0\t0\t0\t0\t0\n",
      "1\t1\t1\t1\t1\t1\t1\t1\n",
      "0\t0\t0\t0\t0\t0\t0\t0\n",
      "1\t1\t0\t1\t1\t0\t0\t0\n",
      "1\t1\t1\t1\t1\t1\t1\t1\n",
      "0\t0\t0\t0\t0\t0\t0\t0\n",
      "0\t0\t0\t0\t0\t0\t0\t0\n",
      "0\t0\t0\t0\t0\t0\t0\t0\n",
      "0\t0\t0\t0\t0\t0\t0\t0\n"
     ]
    },
    {
     "name": "stderr",
     "output_type": "stream",
     "text": [
      "OSCServer: NoCallbackError on request from localhost:57120: No callback registered to handle OSC-address '/columnStep'\n"
     ]
    },
    {
     "name": "stdout",
     "output_type": "stream",
     "text": [
      "1\t1\t1\t1\t1\t1\t1\t0\n",
      "0\t0\t0\t0\t0\t0\t0\t0\n",
      "1\t1\t0\t1\t1\t0\t0\t0\n",
      "1\t1\t1\t1\t1\t1\t1\t1\n",
      "0\t0\t0\t0\t0\t0\t0\t0\n",
      "0\t0\t0\t0\t0\t0\t0\t0\n",
      "0\t0\t0\t0\t0\t0\t0\t0\n",
      "0\t0\t0\t0\t0\t0\t0\t0\n"
     ]
    },
    {
     "name": "stderr",
     "output_type": "stream",
     "text": [
      "OSCServer: NoCallbackError on request from localhost:57120: No callback registered to handle OSC-address '/columnStep'\n"
     ]
    },
    {
     "name": "stdout",
     "output_type": "stream",
     "text": [
      "1\t1\t1\t1\t1\t1\t1\t0\n",
      "1\t0\t0\t0\t0\t0\t0\t0\n",
      "1\t1\t0\t1\t1\t0\t0\t0\n",
      "1\t1\t1\t1\t1\t1\t1\t1\n",
      "0\t0\t0\t0\t0\t0\t0\t0\n",
      "0\t0\t0\t0\t0\t0\t0\t0\n",
      "0\t0\t0\t0\t0\t0\t0\t0\n",
      "0\t0\t0\t0\t0\t0\t0\t0\n",
      "1\t1\t1\t1\t1\t1\t1\t0\n",
      "1\t0\t0\t0\t0\t0\t0\t0\n",
      "1\t1\t0\t1\t1\t0\t0\t0\n",
      "0\t1\t1\t1\t1\t1\t1\t1\n",
      "0\t0\t0\t0\t0\t0\t0\t0\n",
      "0\t0\t0\t0\t0\t0\t0\t0\n",
      "0\t0\t0\t0\t0\t0\t0\t0\n",
      "0\t0\t0\t0\t0\t0\t0\t0\n",
      "1\t1\t1\t1\t1\t1\t1\t0\n",
      "1\t0\t0\t0\t0\t0\t0\t0\n",
      "1\t1\t0\t1\t1\t0\t0\t0\n",
      "0\t0\t1\t1\t1\t1\t1\t1\n",
      "0\t0\t0\t0\t0\t0\t0\t0\n",
      "0\t0\t0\t0\t0\t0\t0\t0\n",
      "0\t0\t0\t0\t0\t0\t0\t0\n",
      "0\t0\t0\t0\t0\t0\t0\t0\n",
      "1\t1\t1\t1\t1\t1\t1\t0\n",
      "1\t1\t0\t0\t0\t0\t0\t0\n",
      "1\t1\t0\t1\t1\t0\t0\t0\n",
      "0\t0\t1\t1\t1\t1\t1\t1\n",
      "0\t0\t0\t0\t0\t0\t0\t0\n",
      "0\t0\t0\t0\t0\t0\t0\t0\n",
      "0\t0\t0\t0\t0\t0\t0\t0\n",
      "0\t0\t0\t0\t0\t0\t0\t0\n"
     ]
    },
    {
     "name": "stderr",
     "output_type": "stream",
     "text": [
      "OSCServer: NoCallbackError on request from localhost:57120: No callback registered to handle OSC-address '/columnStep'\n",
      "OSCServer: NoCallbackError on request from localhost:57120: No callback registered to handle OSC-address '/columnStep'\n",
      "OSCServer: NoCallbackError on request from localhost:57120: No callback registered to handle OSC-address '/columnStep'\n",
      "OSCServer: NoCallbackError on request from localhost:57120: No callback registered to handle OSC-address '/columnStep'\n",
      "OSCServer: NoCallbackError on request from localhost:57120: No callback registered to handle OSC-address '/columnStep'\n",
      "OSCServer: NoCallbackError on request from localhost:57120: No callback registered to handle OSC-address '/columnStep'\n",
      "OSCServer: NoCallbackError on request from localhost:57120: No callback registered to handle OSC-address '/columnStep'\n",
      "OSCServer: NoCallbackError on request from localhost:57120: No callback registered to handle OSC-address '/columnStep'\n",
      "OSCServer: NoCallbackError on request from localhost:57120: No callback registered to handle OSC-address '/columnStep'\n",
      "OSCServer: NoCallbackError on request from localhost:57120: No callback registered to handle OSC-address '/columnStep'\n",
      "OSCServer: NoCallbackError on request from localhost:57120: No callback registered to handle OSC-address '/columnStep'\n",
      "OSCServer: NoCallbackError on request from localhost:57120: No callback registered to handle OSC-address '/columnStep'\n",
      "OSCServer: NoCallbackError on request from localhost:57120: No callback registered to handle OSC-address '/columnStep'\n",
      "OSCServer: NoCallbackError on request from localhost:57120: No callback registered to handle OSC-address '/columnStep'\n",
      "OSCServer: NoCallbackError on request from localhost:57120: No callback registered to handle OSC-address '/columnStep'\n",
      "OSCServer: NoCallbackError on request from localhost:57120: No callback registered to handle OSC-address '/columnStep'\n",
      "OSCServer: NoCallbackError on request from localhost:57120: No callback registered to handle OSC-address '/columnStep'\n",
      "OSCServer: NoCallbackError on request from localhost:57120: No callback registered to handle OSC-address '/columnStep'\n",
      "OSCServer: NoCallbackError on request from localhost:57120: No callback registered to handle OSC-address '/columnStep'\n",
      "OSCServer: NoCallbackError on request from localhost:57120: No callback registered to handle OSC-address '/columnStep'\n",
      "OSCServer: NoCallbackError on request from localhost:57120: No callback registered to handle OSC-address '/columnStep'\n",
      "OSCServer: NoCallbackError on request from localhost:57120: No callback registered to handle OSC-address '/columnStep'\n",
      "OSCServer: NoCallbackError on request from localhost:57120: No callback registered to handle OSC-address '/columnStep'\n",
      "OSCServer: NoCallbackError on request from localhost:57120: No callback registered to handle OSC-address '/columnStep'\n",
      "OSCServer: NoCallbackError on request from localhost:57120: No callback registered to handle OSC-address '/columnStep'\n",
      "OSCServer: NoCallbackError on request from localhost:57120: No callback registered to handle OSC-address '/columnStep'\n",
      "OSCServer: NoCallbackError on request from localhost:57120: No callback registered to handle OSC-address '/columnStep'\n",
      "OSCServer: NoCallbackError on request from localhost:57120: No callback registered to handle OSC-address '/columnStep'\n",
      "OSCServer: NoCallbackError on request from localhost:57120: No callback registered to handle OSC-address '/columnStep'\n",
      "OSCServer: NoCallbackError on request from localhost:57120: No callback registered to handle OSC-address '/columnStep'\n",
      "OSCServer: NoCallbackError on request from localhost:57120: No callback registered to handle OSC-address '/columnStep'\n",
      "OSCServer: NoCallbackError on request from localhost:57120: No callback registered to handle OSC-address '/columnStep'\n",
      "OSCServer: NoCallbackError on request from localhost:57120: No callback registered to handle OSC-address '/columnStep'\n",
      "OSCServer: NoCallbackError on request from localhost:57120: No callback registered to handle OSC-address '/columnStep'\n",
      "OSCServer: NoCallbackError on request from localhost:57120: No callback registered to handle OSC-address '/columnStep'\n",
      "OSCServer: NoCallbackError on request from localhost:57120: No callback registered to handle OSC-address '/columnStep'\n",
      "OSCServer: NoCallbackError on request from localhost:57120: No callback registered to handle OSC-address '/columnStep'\n",
      "OSCServer: NoCallbackError on request from localhost:57120: No callback registered to handle OSC-address '/columnStep'\n",
      "OSCServer: NoCallbackError on request from localhost:57120: No callback registered to handle OSC-address '/columnStep'\n",
      "OSCServer: NoCallbackError on request from localhost:57120: No callback registered to handle OSC-address '/columnStep'\n",
      "OSCServer: NoCallbackError on request from localhost:57120: No callback registered to handle OSC-address '/columnStep'\n",
      "OSCServer: NoCallbackError on request from localhost:57120: No callback registered to handle OSC-address '/columnStep'\n",
      "OSCServer: NoCallbackError on request from localhost:57120: No callback registered to handle OSC-address '/columnStep'\n",
      "OSCServer: NoCallbackError on request from localhost:57120: No callback registered to handle OSC-address '/columnStep'\n",
      "OSCServer: NoCallbackError on request from localhost:57120: No callback registered to handle OSC-address '/columnStep'\n",
      "OSCServer: NoCallbackError on request from localhost:57120: No callback registered to handle OSC-address '/columnStep'\n",
      "OSCServer: NoCallbackError on request from localhost:57120: No callback registered to handle OSC-address '/columnStep'\n",
      "OSCServer: NoCallbackError on request from localhost:57120: No callback registered to handle OSC-address '/columnStep'\n",
      "OSCServer: NoCallbackError on request from localhost:57120: No callback registered to handle OSC-address '/columnStep'\n",
      "OSCServer: NoCallbackError on request from localhost:57120: No callback registered to handle OSC-address '/columnStep'\n",
      "OSCServer: NoCallbackError on request from localhost:57120: No callback registered to handle OSC-address '/columnStep'\n",
      "OSCServer: NoCallbackError on request from localhost:57120: No callback registered to handle OSC-address '/columnStep'\n",
      "OSCServer: NoCallbackError on request from localhost:57120: No callback registered to handle OSC-address '/columnStep'\n",
      "OSCServer: NoCallbackError on request from localhost:57120: No callback registered to handle OSC-address '/columnStep'\n",
      "OSCServer: NoCallbackError on request from localhost:57120: No callback registered to handle OSC-address '/columnStep'\n",
      "OSCServer: NoCallbackError on request from localhost:57120: No callback registered to handle OSC-address '/columnStep'\n",
      "OSCServer: NoCallbackError on request from localhost:57120: No callback registered to handle OSC-address '/columnStep'\n",
      "OSCServer: NoCallbackError on request from localhost:57120: No callback registered to handle OSC-address '/columnStep'\n",
      "OSCServer: NoCallbackError on request from localhost:57120: No callback registered to handle OSC-address '/columnStep'\n",
      "OSCServer: NoCallbackError on request from localhost:57120: No callback registered to handle OSC-address '/columnStep'\n",
      "OSCServer: NoCallbackError on request from localhost:57120: No callback registered to handle OSC-address '/columnStep'\n",
      "OSCServer: NoCallbackError on request from localhost:57120: No callback registered to handle OSC-address '/columnStep'\n",
      "OSCServer: NoCallbackError on request from localhost:57120: No callback registered to handle OSC-address '/columnStep'\n",
      "OSCServer: NoCallbackError on request from localhost:57120: No callback registered to handle OSC-address '/columnStep'\n",
      "OSCServer: NoCallbackError on request from localhost:57120: No callback registered to handle OSC-address '/columnStep'\n",
      "OSCServer: NoCallbackError on request from localhost:57120: No callback registered to handle OSC-address '/columnStep'\n",
      "OSCServer: NoCallbackError on request from localhost:57120: No callback registered to handle OSC-address '/columnStep'\n",
      "OSCServer: NoCallbackError on request from localhost:57120: No callback registered to handle OSC-address '/columnStep'\n",
      "OSCServer: NoCallbackError on request from localhost:57120: No callback registered to handle OSC-address '/columnStep'\n"
     ]
    },
    {
     "name": "stderr",
     "output_type": "stream",
     "text": [
      "OSCServer: NoCallbackError on request from localhost:57120: No callback registered to handle OSC-address '/columnStep'\n",
      "OSCServer: NoCallbackError on request from localhost:57120: No callback registered to handle OSC-address '/columnStep'\n",
      "OSCServer: NoCallbackError on request from localhost:57120: No callback registered to handle OSC-address '/columnStep'\n",
      "OSCServer: NoCallbackError on request from localhost:57120: No callback registered to handle OSC-address '/columnStep'\n",
      "OSCServer: NoCallbackError on request from localhost:57120: No callback registered to handle OSC-address '/columnStep'\n",
      "OSCServer: NoCallbackError on request from localhost:57120: No callback registered to handle OSC-address '/columnStep'\n",
      "OSCServer: NoCallbackError on request from localhost:57120: No callback registered to handle OSC-address '/columnStep'\n",
      "OSCServer: NoCallbackError on request from localhost:57120: No callback registered to handle OSC-address '/columnStep'\n",
      "OSCServer: NoCallbackError on request from localhost:57120: No callback registered to handle OSC-address '/columnStep'\n",
      "OSCServer: NoCallbackError on request from localhost:57120: No callback registered to handle OSC-address '/columnStep'\n",
      "OSCServer: NoCallbackError on request from localhost:57120: No callback registered to handle OSC-address '/columnStep'\n",
      "OSCServer: NoCallbackError on request from localhost:57120: No callback registered to handle OSC-address '/columnStep'\n",
      "OSCServer: NoCallbackError on request from localhost:57120: No callback registered to handle OSC-address '/columnStep'\n",
      "OSCServer: NoCallbackError on request from localhost:57120: No callback registered to handle OSC-address '/columnStep'\n",
      "OSCServer: NoCallbackError on request from localhost:57120: No callback registered to handle OSC-address '/columnStep'\n",
      "OSCServer: NoCallbackError on request from localhost:57120: No callback registered to handle OSC-address '/columnStep'\n",
      "OSCServer: NoCallbackError on request from localhost:57120: No callback registered to handle OSC-address '/columnStep'\n",
      "OSCServer: NoCallbackError on request from localhost:57120: No callback registered to handle OSC-address '/columnStep'\n",
      "OSCServer: NoCallbackError on request from localhost:57120: No callback registered to handle OSC-address '/columnStep'\n",
      "OSCServer: NoCallbackError on request from localhost:57120: No callback registered to handle OSC-address '/columnStep'\n",
      "OSCServer: NoCallbackError on request from localhost:57120: No callback registered to handle OSC-address '/columnStep'\n",
      "OSCServer: NoCallbackError on request from localhost:57120: No callback registered to handle OSC-address '/columnStep'\n",
      "OSCServer: NoCallbackError on request from localhost:57120: No callback registered to handle OSC-address '/columnStep'\n",
      "OSCServer: NoCallbackError on request from localhost:57120: No callback registered to handle OSC-address '/columnStep'\n",
      "OSCServer: NoCallbackError on request from localhost:57120: No callback registered to handle OSC-address '/columnStep'\n"
     ]
    }
   ],
   "source": [
    "fh.loops[43]"
   ]
  },
  {
   "cell_type": "code",
   "execution_count": null,
   "metadata": {
    "collapsed": true
   },
   "outputs": [],
   "source": [
    "l.origLoops[0] = [[0, 20, 1, 1, 1], [0.5, 40, 1, 1, 1], [2, 5, 1, 1, 1]]"
   ]
  },
  {
   "cell_type": "code",
   "execution_count": null,
   "metadata": {
    "collapsed": true
   },
   "outputs": [],
   "source": [
    "l.transformLoop(0, 'invert', interval='m3', direction='down', additive=False, inversionPoint='end')"
   ]
  },
  {
   "cell_type": "code",
   "execution_count": null,
   "metadata": {
    "collapsed": true
   },
   "outputs": [],
   "source": [
    "len([[0, 20, 1, 1, 1], [0.5, 40, 1, 1, 1], [2, 5, 1, 1, 1]])"
   ]
  },
  {
   "cell_type": "code",
   "execution_count": null,
   "metadata": {
    "collapsed": true
   },
   "outputs": [],
   "source": []
  }
 ],
 "metadata": {
  "kernelspec": {
   "display_name": "Python 2",
   "language": "python",
   "name": "python2"
  },
  "language_info": {
   "codemirror_mode": {
    "name": "ipython",
    "version": 2
   },
   "file_extension": ".py",
   "mimetype": "text/x-python",
   "name": "python",
   "nbconvert_exporter": "python",
   "pygments_lexer": "ipython2",
   "version": "2.7.13"
  }
 },
 "nbformat": 4,
 "nbformat_minor": 2
}
