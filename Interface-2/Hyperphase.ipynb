{
 "cells": [
  {
   "cell_type": "code",
   "execution_count": null,
   "metadata": {
    "collapsed": true
   },
   "outputs": [],
   "source": [
    "from fh2 import FH2 \n",
    "import fh2\n",
    "import copy\n",
    "import pickle\n",
    "from LFOFM import *\n",
    "import PydalChanel as pydalmodule\n",
    "from OSC import *\n",
    "import copy\n",
    "\n",
    "wp = WavePlayer()\n",
    "lp = FH2()\n",
    "    \n",
    "\n",
    "def sendMsgSC(addr, *args):\n",
    "    msg = OSCMessage()\n",
    "    msg.setAddress(addr)\n",
    "    msg.append(args)\n",
    "    wp.superColliderClient.send(msg)\n",
    "\n",
    "flatten = lambda l: [item for sublist in l for item in sublist]\n",
    "buttonToLoopInd = flatten([[(j+1)*10+(i+1) for i in range(8)] for j in range(2, 8)])\n",
    "\n",
    "plotWave = wp.plotWave\n",
    "read = pydalmodule.read\n",
    "callbacks = lp.buttonForwardingHandlers\n",
    "\n",
    "pydal = pydalmodule.getPydalInstance()\n",
    "\n",
    "end = pydal.end\n",
    "tempo = pydal.setTempo\n",
    "stripSymbols = lambda beats : map(lambda beat : list(beat[1])[0], beats)\n",
    "\n",
    "ch1 = pydal.newChannel(1)\n",
    "ch2 = pydal.newChannel(2)\n",
    "ch3 = pydal.newChannel(3)\n",
    "ch4 = pydal.newChannel(4)\n",
    "ch5 = pydal.newChannel(5)\n",
    "ch5 = pydal.newChannel(5)\n",
    "\n",
    "def getLoop(button):\n",
    "    ind = buttonToLoopInd.index(button) + 1\n",
    "    return copy.deepcopy(lp.loops[ind])\n",
    "\n",
    "def setLoop(loop, ind):\n",
    "    sendMsgSC(\"/setBankMelody\", lp.hitListToString(loop, ind, 0))\n",
    "\n",
    "def startWave(wave, chan):\n",
    "    wp.startWaveOSC(\"chan\"+str(chan), \"/changeChannelTempo\", wave, \"sc\", chan)\n",
    "def stopWave(chan):\n",
    "    wp.stopWave(chan)\n",
    "    \n",
    "def speedScale(loop, scaleVal):\n",
    "    return [[hit[0]*(1./scaleVal)] + hit[1:] for hit in loop]\n",
    "\n",
    "def setVal(loop, ccVal):\n",
    "    loop2 = copy.deepcopy(loop)\n",
    "    for i in range(len(loop)):\n",
    "        loop2[i][1] = ccVal\n",
    "    return loop2\n",
    "\n",
    "def reverse(loop):\n",
    "    loop2 = copy.deepcopy(loop)\n",
    "    loop2.reverse()\n",
    "    loop2[-1][4] = 'timeAfterLastHit'\n",
    "    loop2[0][4] = 'cc'\n",
    "    return loop2\n",
    "\n",
    "def flip(loop):\n",
    "    loop2 = copy.deepcopy(loop)\n",
    "    loopVals = [hit[2] for hit in loop2]\n",
    "    for i in range(len(loop)):\n",
    "        loop2[i][2] = 127 - loopVals[i]\n",
    "    return loop2\n",
    "\n",
    "#need to start SC files masterTempoClock, PydalSC, and LFOFM, sceneBuilderMini"
   ]
  },
  {
   "cell_type": "code",
   "execution_count": 123,
   "metadata": {
    "collapsed": true
   },
   "outputs": [],
   "source": []
  },
  {
   "cell_type": "markdown",
   "metadata": {},
   "source": [
    "## RHYTHM WARP SETUP"
   ]
  },
  {
   "cell_type": "code",
   "execution_count": 2,
   "metadata": {
    "collapsed": true
   },
   "outputs": [],
   "source": [
    "tempo(100)"
   ]
  },
  {
   "cell_type": "code",
   "execution_count": null,
   "metadata": {
    "collapsed": true
   },
   "outputs": [],
   "source": [
    "ch1.stop()"
   ]
  },
  {
   "cell_type": "code",
   "execution_count": 43,
   "metadata": {
    "collapsed": true
   },
   "outputs": [],
   "source": [
    "ch1.play(read(\"bd [bd bd]\"))"
   ]
  },
  {
   "cell_type": "code",
   "execution_count": 30,
   "metadata": {
    "collapsed": true
   },
   "outputs": [],
   "source": [
    "pi=3.14159"
   ]
  },
  {
   "cell_type": "code",
   "execution_count": 44,
   "metadata": {
    "collapsed": true
   },
   "outputs": [],
   "source": [
    "ch2.play(read(\"hc [hc hc]\"))"
   ]
  },
  {
   "cell_type": "code",
   "execution_count": 45,
   "metadata": {
    "collapsed": true
   },
   "outputs": [],
   "source": [
    "# ch1.play(read(\"<[bd [bd bd]]*2, [bd [bd bd]]>\"))\n",
    "# ch2.play(read(\"hc [hc hc]\"))\n",
    "ch3.play(read(\"[lt lt] lt\"))"
   ]
  },
  {
   "cell_type": "code",
   "execution_count": 40,
   "metadata": {},
   "outputs": [],
   "source": [
    "w = 100\n",
    "w1 =  102\n",
    "w2 = Tri(freq=0.1, phase=Sin(freq=0.1))*40 + 100\n",
    "w2 = Sqr(freq=0.25)*50 + 150\n",
    "w2a = Sqr(freq=0.25, phase=.5/3*pi)*50 + 150\n",
    "w2b = Sqr(freq=0.25, phase=1.0/3*pi)*50 + 150\n",
    "# w2 = Tri(freq=0.9, phase=Sin(freq=.5))*1490 + 2420\n",
    "startWave(w2, 1)\n",
    "startWave(w2a, 2)\n",
    "startWave(w2b, 3)\n",
    "\n",
    "# w2 = Tri(freq=0.9, phase=Sin(freq=.5))*490 + 2420\n",
    "# wp.startWaveOSC(\"chan1\", \"/changeChannelTempo\", w1, \"sc\", 1)\n",
    "# wp.startWaveOSC(\"chan2\", \"/changeChannelTempo\", w2, \"sc\", 2)"
   ]
  },
  {
   "cell_type": "code",
   "execution_count": null,
   "metadata": {
    "collapsed": true
   },
   "outputs": [],
   "source": [
    "plotWave(w2, 0, 100)"
   ]
  },
  {
   "cell_type": "code",
   "execution_count": null,
   "metadata": {
    "collapsed": true
   },
   "outputs": [],
   "source": [
    "# sendMsgSC(\"/changeChannelTempo\", 100, 1)\n",
    "sendMsgSC(\"/changeChannelTempo\", 110, 1)\n",
    "# sendMsgSC(\"/changeChannelTempo\", 2000, 2)"
   ]
  },
  {
   "cell_type": "code",
   "execution_count": 39,
   "metadata": {
    "collapsed": true
   },
   "outputs": [],
   "source": [
    "sendMsgSC(\"/syncClocks\", \"both\", 'master', 1, 2, 3)"
   ]
  },
  {
   "cell_type": "code",
   "execution_count": null,
   "metadata": {
    "collapsed": true
   },
   "outputs": [],
   "source": [
    "sendMsgSC(\"/syncClocks\", \"both\", 2, 1, 3)"
   ]
  },
  {
   "cell_type": "code",
   "execution_count": 46,
   "metadata": {
    "collapsed": true
   },
   "outputs": [],
   "source": [
    "ch1.stop()\n",
    "ch2.stop()\n",
    "ch3.stop()"
   ]
  },
  {
   "cell_type": "code",
   "execution_count": 13,
   "metadata": {
    "collapsed": true
   },
   "outputs": [],
   "source": [
    "w0 = 102\n",
    "w =  Tri(freq=0.25)*20 + 100\n",
    "w2 =  Tri(freq=0.5, phase=Sin(freq=0.3, phase=Sin()))*900 + 2500\n",
    "w3 =  Tri(freq=0.5, phase=Sin(freq=0.3))*50 + 200\n",
    "# w2 =  Tri(freq=0.125)*50 + 100\n",
    "# wp.startWaveOSC(\"chan1\", \"/changeChannelTempo\", w, \"sc\", 1)\n",
    "wp.startWaveOSC(\"chan2\", \"/changeChannelTempo\", w, \"sc\", 2)\n",
    "# wp.startWaveOSC(\"chan3\", \"/changeChannelTempo\", w2, \"sc\", 3)\n",
    "wp.startWaveOSC(\"chan3\", \"/changeChannelTempo\",w2, \"sc\", 3)"
   ]
  },
  {
   "cell_type": "code",
   "execution_count": 42,
   "metadata": {
    "collapsed": true
   },
   "outputs": [],
   "source": [
    "wp.stopWave(\"chan1\")\n",
    "wp.stopWave(\"chan2\")\n",
    "wp.stopWave(\"chan3\")"
   ]
  },
  {
   "cell_type": "code",
   "execution_count": null,
   "metadata": {
    "collapsed": true
   },
   "outputs": [],
   "source": [
    "wp.startWave(1,  Tri(freq=0.5, phase=Sin(freq=0.3, phase=Sin())))"
   ]
  },
  {
   "cell_type": "code",
   "execution_count": null,
   "metadata": {
    "collapsed": true
   },
   "outputs": [],
   "source": [
    "tempo(500)"
   ]
  },
  {
   "cell_type": "code",
   "execution_count": 56,
   "metadata": {},
   "outputs": [
    {
     "name": "stdout",
     "output_type": "stream",
     "text": [
      "41\n"
     ]
    }
   ],
   "source": [
    "for i in range(100):\n",
    "    if getLoop(i) != 0:\n",
    "        print i"
   ]
  },
  {
   "cell_type": "code",
   "execution_count": 118,
   "metadata": {
    "collapsed": true
   },
   "outputs": [],
   "source": [
    "def speedScale(loop, scaleVal):\n",
    "    return [[hit[0]*(1./scaleVal)] + hit[1:] for hit in loop]"
   ]
  },
  {
   "cell_type": "code",
   "execution_count": 126,
   "metadata": {
    "collapsed": true
   },
   "outputs": [],
   "source": [
    "def setVal(loop, ccVal):\n",
    "    loop2 = copy.deepcopy(loop)\n",
    "    for i in range(len(loop)):\n",
    "        loop2[i][1] = ccVal\n",
    "    return loop2"
   ]
  },
  {
   "cell_type": "code",
   "execution_count": 129,
   "metadata": {
    "collapsed": true
   },
   "outputs": [],
   "source": []
  },
  {
   "cell_type": "code",
   "execution_count": 145,
   "metadata": {
    "collapsed": true
   },
   "outputs": [],
   "source": []
  },
  {
   "cell_type": "code",
   "execution_count": 146,
   "metadata": {},
   "outputs": [
    {
     "name": "stdout",
     "output_type": "stream",
     "text": [
      "[[0.19595133200164, 0, 2, 0, 'cc'], [0.16094918999988, 0, 2, 0, 'cc'], [0.023446197999874, 0, 2, 0, 'cc'], [0.033525928000017, 0, 6, 0, 'cc'], [0.042217581998557, 0, 7, 0, 'cc'], [0.02382986000157, 0, 9, 0, 'cc'], [0.033581069999855, 0, 11, 0, 'cc'], [0.034120767999411, 0, 14, 0, 'cc'], [0.033464841999375, 0, 16, 0, 'cc'], [0.033168988000398, 0, 18, 0, 'cc'], [0.033461880000687, 0, 20, 0, 'cc'], [0.032755037998868, 0, 22, 0, 'cc'], [0.033030688000508, 0, 24, 0, 'cc'], [0.034657324000364, 0, 26, 0, 'cc'], [0.032757142000264, 0, 29, 0, 'cc'], [0.033048481998776, 0, 32, 0, 'cc'], [0.033326368000417, 0, 34, 0, 'cc'], [0.033271755999522, 0, 38, 0, 'cc'], [0.032335528001568, 0, 41, 0, 'cc'], [0.033504303999507, 0, 44, 0, 'cc'], [0.03433247599969, 0, 47, 0, 'cc'], [0.031009813999844, 0, 49, 0, 'cc'], [0.034168907999629, 0, 52, 0, 'cc'], [0.032886112001506, 0, 55, 0, 'cc'], [0.034791933998349, 0, 58, 0, 'cc'], [0.033696468000926, 0, 61, 0, 'cc'], [0.032867399999304, 0, 64, 0, 'cc'], [0.033657784000752, 0, 66, 0, 'cc'], [0.034743504000289, 0, 69, 0, 'cc'], [0.031900665999274, 0, 72, 0, 'cc'], [0.03299983999932, 0, 75, 0, 'cc'], [0.0332252720018, 0, 77, 0, 'cc'], [0.033760981999876, 0, 80, 0, 'cc'], [0.033970507998674, 0, 83, 0, 'cc'], [0.031457338000109, 0, 85, 0, 'cc'], [0.034950037999806, 0, 88, 0, 'cc'], [0.030897168000593, 0, 90, 0, 'cc'], [0.034378157999527, 0, 92, 0, 'cc'], [0.032591303999652, 0, 94, 0, 'cc'], [0.035150100000465, 0, 96, 0, 'cc'], [0.033702669999911, 0, 99, 0, 'cc'], [0.033211646001291, 0, 101, 0, 'cc'], [0.033321551998597, 0, 103, 0, 'cc'], [0.033710094001435, 0, 104, 0, 'cc'], [0.032302965999406, 0, 106, 0, 'cc'], [0.032729934000599, 0, 108, 0, 'cc'], [0.033932741998797, 0, 109, 0, 'cc'], [0.032805192000524, 0, 111, 0, 'cc'], [0.033776070000386, 0, 112, 0, 'cc'], [0.031949074000295, 0, 112, 0, 'cc'], [0.033675005999612, 0, 113, 0, 'cc'], [0.033882347999679, 0, 114, 0, 'cc'], [0.033165626000482, 0, 115, 0, 'cc'], [0.032267047999994, 0, 116, 0, 'cc'], [0.033609539999816, 0, 116, 0, 'cc'], [0.036045179998837, 0, 116, 0, 'cc'], [0.031711068000732, 0, 117, 0, 'cc'], [0.032408994000434, 0, 117, 0, 'cc'], [0.033815487999163, 0, 117, 0, 'cc'], [0.032983643999614, 0, 117, 0, 'cc'], [0.033384714000931, 0, 117, 0, 'cc'], [0.033682776000205, 0, 117, 0, 'cc'], [0.03565234800044, 0, 116, 0, 'cc'], [0.031712473999505, 0, 115, 0, 'cc'], [0.032192975999351, 0, 113, 0, 'cc'], [0.033384738000677, 0, 112, 0, 'cc'], [0.033709268000166, 0, 110, 0, 'cc'], [0.032714474000386, 0, 109, 0, 'cc'], [0.034006935999059, 0, 107, 0, 'cc'], [0.033233543999813, 0, 106, 0, 'cc'], [0.033541300001161, 0, 104, 0, 'cc'], [0.033093073998316, 0, 101, 0, 'cc'], [0.033308320000287, 0, 98, 0, 'cc'], [0.034240693999891, 0, 94, 0, 'cc'], [0.032699766001315, 0, 89, 0, 'cc'], [0.033362839998517, 0, 84, 0, 'cc'], [0.033089104001192, 0, 80, 0, 'cc'], [0.03880057599963, 0, 78, 0, 'cc'], [0.026117580000573, 0, 75, 0, 'cc'], [0.035423354000159, 0, 75, 0, 'cc'], [0.10269384399908, 0, 75, 0, 'cc'], [0.031890927999484, 0, 78, 0, 'cc'], [0.03360337400045, 0, 83, 0, 'cc'], [0.03507312200054, 0, 88, 0, 'cc'], [0.030727756000488, 0, 91, 0, 'cc'], [0.034779121999236, 0, 94, 0, 'cc'], [0.03296159599995, 0, 96, 0, 'cc'], [0.032168249999813, 0, 96, 0, 'cc'], [0.03327468399948, 0, 96, 0, 'cc'], [0.035265864000394, 0, 96, 0, 'cc'], [0.03037974200015, 0, 95, 0, 'cc'], [0.033617322000282, 0, 92, 0, 'cc'], [0.032833982000739, 0, 88, 0, 'cc'], [0.033448759999374, 0, 83, 0, 'cc'], [0.034329984000578, 0, 80, 0, 'cc'], [0.03251251599977, 0, 78, 0, 'cc'], [0.033085432000007, 0, 76, 0, 'cc'], [0.033710215999236, 0, 75, 0, 'cc'], [0.1371528840009, 0, 77, 0, 'cc'], [0.030195305998859, 0, 80, 0, 'cc'], [0.034966999999597, 0, 85, 0, 'cc'], [0.032562022001002, 0, 90, 0, 'cc'], [0.033641620000708, 0, 94, 0, 'cc'], [0.033331539998471, 0, 98, 0, 'cc'], [0.033041063999917, 0, 100, 0, 'cc'], [0.034089178001523, 0, 102, 0, 'cc'], [0.032888071998968, 0, 104, 0, 'cc'], [0.033954341999561, 0, 104, 0, 'cc'], [0.067500516001019, 0, 103, 0, 'cc'], [0.031144430000495, 0, 101, 0, 'cc'], [0.034587165999255, 0, 98, 0, 'cc'], [0.03299691599932, 0, 95, 0, 'cc'], [0.032093118001285, 0, 93, 0, 'cc'], [0.034635119998711, 0, 91, 0, 'cc'], [0.033780266001486, 0, 90, 0, 'cc'], [0.030580667998947, 0, 89, 0, 'cc'], [0.13689210600023, 0, 91, 0, 'cc'], [0.031836938000197, 0, 92, 0, 'cc'], [0.03319104000002, 0, 94, 0, 'cc'], [0.03324099800011, 0, 97, 0, 'cc'], [0.032302031999279, 0, 99, 0, 'cc'], [0.033483028000774, 0, 102, 0, 'cc'], [0.032738271998824, 0, 104, 0, 'cc'], [0.033206234000318, 0, 105, 0, 'cc'], [0.03381430599984, 0, 105, 0, 'cc'], [0.033601728000576, 0, 105, 0, 'cc'], [0.068358218000867, 0, 105, 0, 'cc'], [0.031506025999988, 0, 105, 0, 'cc'], [0.033220443998289, 0, 103, 0, 'cc'], [0.033613146000789, 0, 101, 0, 'cc'], [0.033151378000184, 0, 98, 0, 'cc'], [0.035332175999429, 0, 96, 0, 'cc'], [0.032639762001054, 0, 95, 0, 'cc'], [0.030438955998761, 0, 93, 0, 'cc'], [0.036945601999832, 0, 93, 0, 'cc'], [0.031248016000973, 0, 93, 0, 'cc'], [0.10351050600002, 0, 94, 0, 'cc'], [0.030963799999881, 0, 96, 0, 'cc'], [0.0341230060003, 0, 99, 0, 'cc'], [0.033799826000177, 0, 101, 0, 'cc'], [0.033605901999181, 0, 103, 0, 'cc'], [0.032561093999902, 0, 104, 0, 'cc'], [0.032166622000659, 0, 105, 0, 'cc'], [0.033587366000575, 0, 106, 0, 'cc'], [0.10146243199961, 0, 104, 0, 'cc'], [0.031798226000319, 0, 101, 0, 'cc'], [0.035997465998662, 0, 99, 0, 'cc'], [0.032005126000513, 0, 97, 0, 'cc'], [0.033295960000032, 0, 96, 0, 'cc'], [0.033242593999603, 0, 96, 0, 'cc'], [0.10173108600065, 0, 96, 0, 'cc'], [0.030415350000112, 0, 98, 0, 'cc'], [0.035087223999653, 0, 100, 0, 'cc'], [0.033489925999675, 0, 102, 0, 'cc'], [0.032825539999976, 0, 105, 0, 'cc'], [0.031865177999862, 0, 106, 0, 'cc'], [0.031011754001156, 0, 108, 0, 'cc'], [0.033564702000149, 0, 108, 0, 'cc'], [0.033053733999623, 0, 109, 0, 'cc'], [0.035710475998712, 0, 109, 0, 'cc'], [0.1016263420006, 0, 109, 0, 'cc'], [0.031775351999386, 0, 107, 0, 'cc'], [0.71926850199998, 0, 0, 0, 'timeAfterLastHit']]\n"
     ]
    }
   ],
   "source": [
    "l81 = getLoop(81)\n",
    "# shortLoop = l81[0:3] + [l81[-1]]\n",
    "setLoop(flip(l81), 81)"
   ]
  },
  {
   "cell_type": "code",
   "execution_count": 144,
   "metadata": {},
   "outputs": [],
   "source": [
    "l81a = l81"
   ]
  },
  {
   "cell_type": "code",
   "execution_count": 121,
   "metadata": {
    "collapsed": true
   },
   "outputs": [],
   "source": [
    "l81.reverse()"
   ]
  },
  {
   "cell_type": "code",
   "execution_count": 132,
   "metadata": {},
   "outputs": [
    {
     "data": {
      "text/plain": [
       "[0.033278611999776, 7, 16, 0, 'cc']"
      ]
     },
     "execution_count": 132,
     "metadata": {},
     "output_type": "execute_result"
    }
   ],
   "source": [
    "getLoop(83)[10]"
   ]
  },
  {
   "cell_type": "code",
   "execution_count": null,
   "metadata": {
    "collapsed": true
   },
   "outputs": [],
   "source": [
    "ch1.play(read(\"bd [bd bd]\"))\n",
    "sendMsgSC(\"/syncClocks\", \"both\", 'master', 1, 2, 3)"
   ]
  },
  {
   "cell_type": "code",
   "execution_count": null,
   "metadata": {
    "collapsed": true
   },
   "outputs": [],
   "source": [
    "w1 = Tri(freq=0.4, phase=Sin(freq=0.2))*20 + 120\n",
    "startWave(w1, 1)\n",
    "stopWave(1)"
   ]
  },
  {
   "cell_type": "code",
   "execution_count": null,
   "metadata": {
    "collapsed": true
   },
   "outputs": [],
   "source": [
    "loop1 = getLoop(3)\n",
    "loop1a = reverseLoop(loop1)\n",
    "setLoop(loop1a, 4)"
   ]
  }
 ],
 "metadata": {
  "kernelspec": {
   "display_name": "Python 2",
   "language": "python",
   "name": "python2"
  },
  "language_info": {
   "codemirror_mode": {
    "name": "ipython",
    "version": 2
   },
   "file_extension": ".py",
   "mimetype": "text/x-python",
   "name": "python",
   "nbconvert_exporter": "python",
   "pygments_lexer": "ipython2",
   "version": "2.7.15"
  }
 },
 "nbformat": 4,
 "nbformat_minor": 2
}
