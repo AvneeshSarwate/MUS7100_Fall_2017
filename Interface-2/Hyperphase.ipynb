{
 "cells": [
  {
   "cell_type": "code",
   "execution_count": null,
   "metadata": {
    "collapsed": true
   },
   "outputs": [],
   "source": [
    "from fh2 import FH2 \n",
    "import fh2\n",
    "import copy\n",
    "import pickle\n",
    "from LFOFM import *\n",
    "import PydalChanel as pydalmodule\n",
    "from OSC import *\n",
    "import copy\n",
    "\n",
    "wp = WavePlayer()\n",
    "lp = FH2()\n",
    "    \n",
    "\n",
    "def sendMsgSC(addr, *args):\n",
    "    msg = OSCMessage()\n",
    "    msg.setAddress(addr)\n",
    "    msg.append(args)\n",
    "    wp.superColliderClient.send(msg)\n",
    "\n",
    "flatten = lambda l: [item for sublist in l for item in sublist]\n",
    "buttonToLoopInd = flatten([[(j+1)*10+(i+1) for i in range(8)] for j in range(2, 8)])\n",
    "\n",
    "plotWave = wp.plotWave\n",
    "read = pydalmodule.read\n",
    "callbacks = lp.buttonForwardingHandlers\n",
    "\n",
    "pydal = pydalmodule.getPydalInstance()\n",
    "\n",
    "end = pydal.end\n",
    "tempo = pydal.setTempo\n",
    "stripSymbols = lambda beats : map(lambda beat : list(beat[1])[0], beats)\n",
    "\n",
    "ch1 = pydal.newChannel(1)\n",
    "ch2 = pydal.newChannel(2)\n",
    "ch3 = pydal.newChannel(3)\n",
    "ch4 = pydal.newChannel(4)\n",
    "ch5 = pydal.newChannel(5)\n",
    "ch5 = pydal.newChannel(5)\n",
    "\n",
    "def getLoop(button):\n",
    "    ind = buttonToLoopInd.index(button) + 1\n",
    "    return copy.deepcopy(lp.loops[ind])\n",
    "\n",
    "def setLoop(loop, button):\n",
    "    ind = buttonToLoopInd.index(button) + 1\n",
    "    lp.loops[ind] = loop\n",
    "    sendMsgSC(\"/setBankMelody\", lp.hitListToString(loop, button, 0))\n",
    "\n",
    "def startWave(wave, chan):\n",
    "    wp.startWaveOSC(\"chan\"+str(chan), \"/changeChannelTempo\", wave, \"sc\", chan)\n",
    "def stopWave(chan):\n",
    "    wp.stopWave(chan)\n",
    "    \n",
    "def speedScale(loop, scaleVal):\n",
    "    return [[hit[0]*(1./scaleVal)] + hit[1:] for hit in loop]\n",
    "\n",
    "def setVal(loop, ccVal):\n",
    "    loop2 = copy.deepcopy(loop)\n",
    "    for i in range(len(loop)):\n",
    "        loop2[i][1] = ccVal\n",
    "    return loop2\n",
    "\n",
    "def reverse(loop):\n",
    "    loop2 = copy.deepcopy(loop)\n",
    "    loop2.reverse()\n",
    "    loop2[-1][4] = 'timeAfterLastHit'\n",
    "    loop2[0][4] = 'cc'\n",
    "    return loop2\n",
    "\n",
    "def flip(loop):\n",
    "    loop2 = copy.deepcopy(loop)\n",
    "    loopVals = [hit[2] for hit in loop2]\n",
    "    for i in range(len(loop)):\n",
    "        loop2[i][2] = 127 - loopVals[i]\n",
    "    return loop2\n",
    "\n",
    "def getCC(button):\n",
    "    ind = buttonToLoopInd.index(button) + 1\n",
    "    return CCLoop(copy.deepcopy(lp.loops[ind]))\n",
    "\n",
    "class CCLoop:\n",
    "    \n",
    "    def __init__(self, loop):\n",
    "        self.loop = loop\n",
    "    \n",
    "    def speedScale(self, scaleVal):\n",
    "        loop = self.loop\n",
    "        return CCLoop([[hit[0]*(1./scaleVal)] + hit[1:] for hit in loop])\n",
    "\n",
    "    def setVal(self, ccVal):\n",
    "        loop = self.loop\n",
    "        loop2 = copy.deepcopy(loop)\n",
    "        for i in range(len(loop)):\n",
    "            loop2[i][1] = ccVal\n",
    "        return CCLoop(loop2)\n",
    "\n",
    "    def reverse(self):\n",
    "        loop = self.loop\n",
    "        loop2 = copy.deepcopy(loop)\n",
    "        loop2.reverse()\n",
    "        loop2[-1][4] = 'timeAfterLastHit'\n",
    "        loop2[0][4] = 'cc'\n",
    "        return CCLoop(loop2)\n",
    "\n",
    "    def flip(self):\n",
    "        loop = self.loop\n",
    "        loop2 = copy.deepcopy(loop)\n",
    "        loopVals = [hit[2] for hit in loop2]\n",
    "        for i in range(len(loop)):\n",
    "            loop2[i][2] = 127 - loopVals[i]\n",
    "        return CCLoop(loop2)\n",
    "       \n",
    "    def setLoop(self, button):\n",
    "        loop = self.loop\n",
    "        ind = buttonToLoopInd.index(button) + 1\n",
    "        lp.loops[ind] = loop\n",
    "        sendMsgSC(\"/setBankMelody\", lp.hitListToString(loop, button, 0))\n",
    "    \n",
    "    def setDrum(self, drumInd):\n",
    "        loop = self.loop\n",
    "        loop2 = copy.deepcopy(loop)\n",
    "        for i in range(len(loop)):\n",
    "            loop2[i][1] = drumInd*10 + loop2[i][1]%10\n",
    "        return CCLoop(loop2)\n",
    "    \n",
    "pi=3.14159    \n",
    "# plotWave(w2, 0, 100)\n",
    "\n",
    "#need to start SC files masterTempoClock, PydalSC, and LFOFM, sceneBuilderMini"
   ]
  },
  {
   "cell_type": "markdown",
   "metadata": {},
   "source": [
    "## RHYTHM WARP SETUP"
   ]
  },
  {
   "cell_type": "code",
   "execution_count": null,
   "metadata": {
    "collapsed": true
   },
   "outputs": [],
   "source": [
    "tempo(100)"
   ]
  },
  {
   "cell_type": "code",
   "execution_count": null,
   "metadata": {
    "collapsed": true
   },
   "outputs": [],
   "source": [
    "ch1.play(read(\"bd [bd bd]\"))"
   ]
  },
  {
   "cell_type": "code",
   "execution_count": null,
   "metadata": {},
   "outputs": [],
   "source": [
    "ch2.play(read(\"hc [hc hc]\"))"
   ]
  },
  {
   "cell_type": "code",
   "execution_count": null,
   "metadata": {},
   "outputs": [],
   "source": [
    "ch3.play(read(\"[lt lt] lt\"))"
   ]
  },
  {
   "cell_type": "code",
   "execution_count": null,
   "metadata": {},
   "outputs": [],
   "source": []
  },
  {
   "cell_type": "code",
   "execution_count": null,
   "metadata": {
    "collapsed": true
   },
   "outputs": [],
   "source": [
    "sendMsgSC(\"/syncClocks\", \"both\", 'master', 1, 2, 3)"
   ]
  },
  {
   "cell_type": "code",
   "execution_count": null,
   "metadata": {
    "collapsed": true
   },
   "outputs": [],
   "source": [
    "ch1.stop()\n",
    "ch2.stop()\n",
    "ch3.stop()"
   ]
  },
  {
   "cell_type": "code",
   "execution_count": null,
   "metadata": {
    "collapsed": true
   },
   "outputs": [],
   "source": [
    "stopWave(\"chan1\")\n",
    "stopWave(\"chan2\")\n",
    "stopWave(\"chan3\")"
   ]
  },
  {
   "cell_type": "markdown",
   "metadata": {},
   "source": [
    "## Talk Cells"
   ]
  },
  {
   "cell_type": "code",
   "execution_count": null,
   "metadata": {
    "collapsed": true
   },
   "outputs": [],
   "source": [
    "ch1.play(read(\"bd\"))\n",
    "# ch1.stop()"
   ]
  },
  {
   "cell_type": "code",
   "execution_count": null,
   "metadata": {
    "collapsed": true
   },
   "outputs": [],
   "source": [
    "startWave(120 + Sin(freq=0.2)*40, 1)\n",
    "# stopWave(1)\n",
    "# def startWave(wave, chan):\n",
    "#     #waveKey, destAddress, wave, OSCPort, meta-info\n",
    "#     wp.startWaveOSC(\"chan\"+str(chan), \"/changeChannelTempo\", wave, \"sc\", chan)\n",
    "# sendMsgSC(\"/syncClocks\", \"both\", 'master', 1, 2, 3)"
   ]
  },
  {
   "cell_type": "code",
   "execution_count": null,
   "metadata": {
    "collapsed": true
   },
   "outputs": [],
   "source": [
    "cc81 = getCC(81)\n",
    "cc81.reverse().speedScale(2).setVal(1).setLoop(82)"
   ]
  },
  {
   "cell_type": "code",
   "execution_count": null,
   "metadata": {
    "collapsed": true
   },
   "outputs": [],
   "source": []
  }
 ],
 "metadata": {
  "kernelspec": {
   "display_name": "Python 2",
   "language": "python",
   "name": "python2"
  },
  "language_info": {
   "codemirror_mode": {
    "name": "ipython",
    "version": 2
   },
   "file_extension": ".py",
   "mimetype": "text/x-python",
   "name": "python",
   "nbconvert_exporter": "python",
   "pygments_lexer": "ipython2",
   "version": "2.7.15"
  }
 },
 "nbformat": 4,
 "nbformat_minor": 2
}
