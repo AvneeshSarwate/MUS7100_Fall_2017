{
 "cells": [
  {
   "cell_type": "code",
   "execution_count": null,
   "metadata": {
    "collapsed": true
   },
   "outputs": [],
   "source": [
    "from fh2 import FH2 \n",
    "import fh2\n",
    "import copy\n",
    "import pickle\n",
    "from LFOFM import *\n",
    "import PydalChanel as pydalmodule\n",
    "from OSC import *\n",
    "\n",
    "wp = WavePlayer()\n",
    "lp = FH2()\n",
    "    \n",
    "\n",
    "def sendMsgSC(addr, *args):\n",
    "    msg = OSCMessage()\n",
    "    msg.setAddress(addr)\n",
    "    msg.append(args)\n",
    "    wp.superColliderClient.send(msg)\n",
    "\n",
    "flatten = lambda l: [item for sublist in l for item in sublist]\n",
    "buttonToLoopInd = flatten([[(j+1)*10+(i+1) for i in range(8)] for j in range(2, 8)])\n",
    "\n",
    "def getLoop(button):\n",
    "    ind = buttonToLoopInd.index(button) + 1\n",
    "    return lp.loops[ind]\n",
    "\n",
    "def setLoop(loop, ind):\n",
    "    sendMsgSC(\"/setBankMelody\", lp.hitListToString(loop, ind, 0))\n",
    "\n",
    "plotWave = wp.plotWave\n",
    "read = pydalmodule.read\n",
    "callbacks = lp.buttonForwardingHandlers\n",
    "\n",
    "pydal = pydalmodule.getPydalInstance()\n",
    "\n",
    "end = pydal.end\n",
    "tempo = pydal.setTempo\n",
    "stripSymbols = lambda beats : map(lambda beat : list(beat[1])[0], beats)\n",
    "\n",
    "ch1 = pydal.newChannel(1)\n",
    "ch2 = pydal.newChannel(2)\n",
    "ch3 = pydal.newChannel(3)\n",
    "ch4 = pydal.newChannel(4)\n",
    "ch5 = pydal.newChannel(5)\n",
    "ch5 = pydal.newChannel(5)\n",
    "\n",
    "def startWave(wave, chan):\n",
    "    wp.startWaveOSC(\"chan\"+str(chan), \"/changeChannelTempo\", wave, \"sc\", chan)\n",
    "def stopWave(chan):\n",
    "    wp.stopWave(chan)\n",
    "#need to start SC files masterTempoClock, PydalSC, and LFOFM"
   ]
  },
  {
   "cell_type": "markdown",
   "metadata": {},
   "source": [
    "## RHYTHM WARP SETUP"
   ]
  },
  {
   "cell_type": "code",
   "execution_count": 2,
   "metadata": {
    "collapsed": true
   },
   "outputs": [],
   "source": [
    "tempo(100)"
   ]
  },
  {
   "cell_type": "code",
   "execution_count": null,
   "metadata": {
    "collapsed": true
   },
   "outputs": [],
   "source": [
    "ch1.stop()"
   ]
  },
  {
   "cell_type": "code",
   "execution_count": 43,
   "metadata": {
    "collapsed": true
   },
   "outputs": [],
   "source": [
    "ch1.play(read(\"bd [bd bd]\"))"
   ]
  },
  {
   "cell_type": "code",
   "execution_count": 30,
   "metadata": {
    "collapsed": true
   },
   "outputs": [],
   "source": [
    "pi=3.14159"
   ]
  },
  {
   "cell_type": "code",
   "execution_count": 44,
   "metadata": {
    "collapsed": true
   },
   "outputs": [],
   "source": [
    "ch2.play(read(\"hc [hc hc]\"))"
   ]
  },
  {
   "cell_type": "code",
   "execution_count": 45,
   "metadata": {
    "collapsed": true
   },
   "outputs": [],
   "source": [
    "# ch1.play(read(\"<[bd [bd bd]]*2, [bd [bd bd]]>\"))\n",
    "# ch2.play(read(\"hc [hc hc]\"))\n",
    "ch3.play(read(\"[lt lt] lt\"))"
   ]
  },
  {
   "cell_type": "code",
   "execution_count": 40,
   "metadata": {},
   "outputs": [],
   "source": [
    "w = 100\n",
    "w1 =  102\n",
    "w2 = Tri(freq=0.1, phase=Sin(freq=0.1))*40 + 100\n",
    "w2 = Sqr(freq=0.25)*50 + 150\n",
    "w2a = Sqr(freq=0.25, phase=.5/3*pi)*50 + 150\n",
    "w2b = Sqr(freq=0.25, phase=1.0/3*pi)*50 + 150\n",
    "# w2 = Tri(freq=0.9, phase=Sin(freq=.5))*1490 + 2420\n",
    "startWave(w2, 1)\n",
    "startWave(w2a, 2)\n",
    "startWave(w2b, 3)\n",
    "\n",
    "# w2 = Tri(freq=0.9, phase=Sin(freq=.5))*490 + 2420\n",
    "# wp.startWaveOSC(\"chan1\", \"/changeChannelTempo\", w1, \"sc\", 1)\n",
    "# wp.startWaveOSC(\"chan2\", \"/changeChannelTempo\", w2, \"sc\", 2)"
   ]
  },
  {
   "cell_type": "code",
   "execution_count": null,
   "metadata": {
    "collapsed": true
   },
   "outputs": [],
   "source": [
    "plotWave(w2, 0, 100)"
   ]
  },
  {
   "cell_type": "code",
   "execution_count": null,
   "metadata": {
    "collapsed": true
   },
   "outputs": [],
   "source": [
    "# sendMsgSC(\"/changeChannelTempo\", 100, 1)\n",
    "sendMsgSC(\"/changeChannelTempo\", 110, 1)\n",
    "# sendMsgSC(\"/changeChannelTempo\", 2000, 2)"
   ]
  },
  {
   "cell_type": "code",
   "execution_count": 39,
   "metadata": {
    "collapsed": true
   },
   "outputs": [],
   "source": [
    "sendMsgSC(\"/syncClocks\", \"both\", 'master', 1, 2, 3)"
   ]
  },
  {
   "cell_type": "code",
   "execution_count": null,
   "metadata": {
    "collapsed": true
   },
   "outputs": [],
   "source": [
    "sendMsgSC(\"/syncClocks\", \"both\", 2, 1, 3)"
   ]
  },
  {
   "cell_type": "code",
   "execution_count": 46,
   "metadata": {
    "collapsed": true
   },
   "outputs": [],
   "source": [
    "ch1.stop()\n",
    "ch2.stop()\n",
    "ch3.stop()"
   ]
  },
  {
   "cell_type": "code",
   "execution_count": 13,
   "metadata": {
    "collapsed": true
   },
   "outputs": [],
   "source": [
    "w0 = 102\n",
    "w =  Tri(freq=0.25)*20 + 100\n",
    "w2 =  Tri(freq=0.5, phase=Sin(freq=0.3, phase=Sin()))*900 + 2500\n",
    "w3 =  Tri(freq=0.5, phase=Sin(freq=0.3))*50 + 200\n",
    "# w2 =  Tri(freq=0.125)*50 + 100\n",
    "# wp.startWaveOSC(\"chan1\", \"/changeChannelTempo\", w, \"sc\", 1)\n",
    "wp.startWaveOSC(\"chan2\", \"/changeChannelTempo\", w, \"sc\", 2)\n",
    "# wp.startWaveOSC(\"chan3\", \"/changeChannelTempo\", w2, \"sc\", 3)\n",
    "wp.startWaveOSC(\"chan3\", \"/changeChannelTempo\",w2, \"sc\", 3)"
   ]
  },
  {
   "cell_type": "code",
   "execution_count": 42,
   "metadata": {
    "collapsed": true
   },
   "outputs": [],
   "source": [
    "wp.stopWave(\"chan1\")\n",
    "wp.stopWave(\"chan2\")\n",
    "wp.stopWave(\"chan3\")"
   ]
  },
  {
   "cell_type": "code",
   "execution_count": null,
   "metadata": {
    "collapsed": true
   },
   "outputs": [],
   "source": [
    "wp.startWave(1,  Tri(freq=0.5, phase=Sin(freq=0.3, phase=Sin())))"
   ]
  },
  {
   "cell_type": "code",
   "execution_count": null,
   "metadata": {
    "collapsed": true
   },
   "outputs": [],
   "source": [
    "tempo(500)"
   ]
  },
  {
   "cell_type": "code",
   "execution_count": 56,
   "metadata": {},
   "outputs": [
    {
     "name": "stdout",
     "output_type": "stream",
     "text": [
      "41\n"
     ]
    }
   ],
   "source": [
    "for i in range(100):\n",
    "    if getLoop(i) != 0:\n",
    "        print i"
   ]
  },
  {
   "cell_type": "code",
   "execution_count": 81,
   "metadata": {
    "collapsed": true
   },
   "outputs": [],
   "source": []
  },
  {
   "cell_type": "code",
   "execution_count": 111,
   "metadata": {},
   "outputs": [],
   "source": [
    "l81 = getLoop(81)\n",
    "shortLoop = l81[0:3] + [l81[-1]]\n",
    "setLoop(l81, 81)"
   ]
  },
  {
   "cell_type": "code",
   "execution_count": 94,
   "metadata": {},
   "outputs": [
    {
     "data": {
      "text/plain": [
       "[[1.745698642, 0, 13, 0, 'cc'],\n",
       " [0.055918686000041, 0, 15, 0, 'cc'],\n",
       " [0.03293518800001, 0, 17, 0, 'cc'],\n",
       " [0.04246944199997, 0, 19, 0, 'cc'],\n",
       " [0.02379178000001, 0, 21, 0, 'cc'],\n",
       " [0.033151757999974, 0, 24, 0, 'cc'],\n",
       " [0.034020451999993, 0, 27, 0, 'cc'],\n",
       " [0.033138778000023, 0, 31, 0, 'cc'],\n",
       " [0.033076596000001, 0, 33, 0, 'cc'],\n",
       " [0.033451265999986, 0, 36, 0, 'cc'],\n",
       " [0.033406962000015, 0, 39, 0, 'cc'],\n",
       " [0.033816607999995, 0, 42, 0, 'cc'],\n",
       " [0.033179201999985, 0, 44, 0, 'cc'],\n",
       " [0.033227018000048, 0, 47, 0, 'cc'],\n",
       " [0.03268288999999, 0, 48, 0, 'cc'],\n",
       " [0.033814389999975, 0, 50, 0, 'cc'],\n",
       " [0.033262894000018, 0, 52, 0, 'cc'],\n",
       " [0.033217417999992, 0, 53, 0, 'cc'],\n",
       " [0.034056235999969, 0, 55, 0, 'cc'],\n",
       " [0.032353978000003, 0, 57, 0, 'cc'],\n",
       " [0.037496266000005, 0, 59, 0, 'cc'],\n",
       " [0.029593196000008, 0, 61, 0, 'cc'],\n",
       " [0.031922782000038, 0, 62, 0, 'cc'],\n",
       " [0.032952633999969, 0, 64, 0, 'cc'],\n",
       " [0.033497676000025, 0, 65, 0, 'cc'],\n",
       " [0.033273181999959, 0, 67, 0, 'cc'],\n",
       " [0.033812726000008, 0, 69, 0, 'cc'],\n",
       " [0.032532326000023, 0, 71, 0, 'cc'],\n",
       " [0.033450509999966, 0, 72, 0, 'cc'],\n",
       " [0.034964322000008, 0, 74, 0, 'cc'],\n",
       " [0.03177268799999, 0, 76, 0, 'cc'],\n",
       " [0.033140748000051, 0, 78, 0, 'cc'],\n",
       " [0.033480827999995, 0, 80, 0, 'cc'],\n",
       " [0.034116977999986, 0, 82, 0, 'cc'],\n",
       " [0.032350679999979, 0, 83, 0, 'cc'],\n",
       " [0.033255750000023, 0, 85, 0, 'cc'],\n",
       " [0.034454712000013, 0, 86, 0, 'cc'],\n",
       " [0.032239937999975, 0, 88, 0, 'cc'],\n",
       " [0.033492319999993, 0, 89, 0, 'cc'],\n",
       " [0.033199567999986, 0, 91, 0, 'cc'],\n",
       " [0.034060086000011, 0, 92, 0, 'cc'],\n",
       " [0.032648920000042, 0, 93, 0, 'cc'],\n",
       " [0.033644801999969, 0, 95, 0, 'cc'],\n",
       " [0.034919062000029, 0, 96, 0, 'cc'],\n",
       " [0.033647327999972, 0, 97, 0, 'cc'],\n",
       " [0.033380335999993, 0, 98, 0, 'cc'],\n",
       " [0.033114447999992, 0, 100, 0, 'cc'],\n",
       " [0.033557574000042, 0, 100, 0, 'cc'],\n",
       " [0.032898809999949, 0, 101, 0, 'cc'],\n",
       " [0.031601990000013, 0, 102, 0, 'cc'],\n",
       " [0.033887419999985, 0, 103, 0, 'cc'],\n",
       " [0.032790488000046, 0, 104, 0, 'cc'],\n",
       " [0.033435628000007, 0, 104, 0, 'cc'],\n",
       " [0.033164225999997, 0, 105, 0, 'cc'],\n",
       " [0.036487604000001, 0, 105, 0, 'cc'],\n",
       " [0.030124653999962, 0, 106, 0, 'cc'],\n",
       " [0.033753869999998, 0, 107, 0, 'cc'],\n",
       " [0.033975356000042, 0, 107, 0, 'cc'],\n",
       " [0.03243661199997, 0, 108, 0, 'cc'],\n",
       " [0.033528390000015, 0, 108, 0, 'cc'],\n",
       " [0.034027821999985, 0, 109, 0, 'cc'],\n",
       " [0.032242135999979, 0, 110, 0, 'cc'],\n",
       " [0.035982742000044, 0, 110, 0, 'cc'],\n",
       " [0.033095172000003, 0, 111, 0, 'cc'],\n",
       " [0.033380835999992, 0, 112, 0, 'cc'],\n",
       " [0.033150511999963, 0, 112, 0, 'cc'],\n",
       " [0.03346246000001, 0, 113, 0, 'cc'],\n",
       " [0.033264722000013, 0, 114, 0, 'cc'],\n",
       " [0.031372932000011, 0, 114, 0, 'cc'],\n",
       " [0.033140065999987, 0, 115, 0, 'cc'],\n",
       " [0.033945662000008, 0, 116, 0, 'cc'],\n",
       " [0.032927442000016, 0, 116, 0, 'cc'],\n",
       " [0.036541354000008, 0, 117, 0, 'cc'],\n",
       " [0.032513029999961, 0, 117, 0, 'cc'],\n",
       " [0.033135458000004, 0, 118, 0, 'cc'],\n",
       " [0.033266309999988, 0, 118, 0, 'cc'],\n",
       " [0.033938608000028, 0, 120, 0, 'cc'],\n",
       " [0.031361293999964, 0, 125, 0, 'cc'],\n",
       " [0.66652382400002, 0, 0, 0, 'timeAfterLastHit']]"
      ]
     },
     "execution_count": 94,
     "metadata": {},
     "output_type": "execute_result"
    }
   ],
   "source": [
    "getLoop(81)"
   ]
  },
  {
   "cell_type": "code",
   "execution_count": null,
   "metadata": {
    "collapsed": true
   },
   "outputs": [],
   "source": [
    "ch1.play(read(\"bd [bd bd]\"))\n",
    "sendMsgSC(\"/syncClocks\", \"both\", 'master', 1, 2, 3)"
   ]
  },
  {
   "cell_type": "code",
   "execution_count": null,
   "metadata": {
    "collapsed": true
   },
   "outputs": [],
   "source": [
    "w1 = Tri(freq=0.4, phase=Sin(freq=0.2))*20 + 120\n",
    "startWave(w1, 1)\n",
    "stopWave(1)"
   ]
  },
  {
   "cell_type": "code",
   "execution_count": null,
   "metadata": {
    "collapsed": true
   },
   "outputs": [],
   "source": [
    "loop1 = getLoop(3)\n",
    "loop1a = reverseLoop(loop1)\n",
    "setLoop(loop1a, 4)"
   ]
  }
 ],
 "metadata": {
  "kernelspec": {
   "display_name": "Python 2",
   "language": "python",
   "name": "python2"
  },
  "language_info": {
   "codemirror_mode": {
    "name": "ipython",
    "version": 2
   },
   "file_extension": ".py",
   "mimetype": "text/x-python",
   "name": "python",
   "nbconvert_exporter": "python",
   "pygments_lexer": "ipython2",
   "version": "2.7.15"
  }
 },
 "nbformat": 4,
 "nbformat_minor": 2
}
