{
 "cells": [
  {
   "cell_type": "code",
   "execution_count": 1,
   "metadata": {
    "collapsed": true
   },
   "outputs": [],
   "source": [
    "from fh2 import FH2 \n",
    "import fh2\n",
    "import copy\n",
    "import pickle\n",
    "from LFOFM import *\n",
    "import PydalChanel as pydalmodule\n",
    "from OSC import *\n",
    "\n",
    "wp = WavePlayer()\n",
    "lp = FH2()\n",
    "    \n",
    "\n",
    "def sendMsgSC(addr, *args):\n",
    "    msg = OSCMessage()\n",
    "    msg.setAddress(addr)\n",
    "    msg.append(args)\n",
    "    wp.superColliderClient.send(msg)\n",
    "\n",
    "def getLoop(ind):\n",
    "    return lp.loops[ind]\n",
    "\n",
    "def setLoop(loop, ind):\n",
    "    sendMsgSC(\"/setBankMelody\", ind, lp.hitListToString(loop))\n",
    "\n",
    "plotWave = wp.plotWave\n",
    "read = pydalmodule.read\n",
    "\n",
    "pydal = pydalmodule.getPydalInstance()\n",
    "\n",
    "end = pydal.end\n",
    "tempo = pydal.setTempo\n",
    "stripSymbols = lambda beats : map(lambda beat : list(beat[1])[0], beats)\n",
    "\n",
    "ch1 = pydal.newChannel(1)\n",
    "ch2 = pydal.newChannel(2)\n",
    "ch3 = pydal.newChannel(3)\n",
    "ch4 = pydal.newChannel(4)\n",
    "ch5 = pydal.newChannel(5)\n",
    "ch5 = pydal.newChannel(5)\n",
    "\n",
    "def startWave(wave, chan):\n",
    "    wp.startWaveOSC(\"chan\"+str(chan), \"/changeChannelTempo\", wave, \"sc\", chan)\n",
    "def stopWave(chan):\n",
    "    wp.stopWave(chan)\n",
    "#need to start SC files masterTempoClock, PydalSC, and LFOFM"
   ]
  },
  {
   "cell_type": "code",
   "execution_count": null,
   "metadata": {
    "collapsed": true
   },
   "outputs": [],
   "source": []
  },
  {
   "cell_type": "markdown",
   "metadata": {},
   "source": [
    "## RHYTHM WARP SETUP"
   ]
  },
  {
   "cell_type": "code",
   "execution_count": 41,
   "metadata": {
    "collapsed": true
   },
   "outputs": [],
   "source": [
    "tempo(100)"
   ]
  },
  {
   "cell_type": "code",
   "execution_count": null,
   "metadata": {
    "collapsed": true
   },
   "outputs": [],
   "source": [
    "ch1.stop()"
   ]
  },
  {
   "cell_type": "code",
   "execution_count": 42,
   "metadata": {
    "collapsed": true
   },
   "outputs": [],
   "source": [
    "ch1.play(read(\"bd [bd bd]\"))"
   ]
  },
  {
   "cell_type": "code",
   "execution_count": 43,
   "metadata": {
    "collapsed": true
   },
   "outputs": [],
   "source": [
    "ch2.play(read(\"hc [hc hc]\"))"
   ]
  },
  {
   "cell_type": "code",
   "execution_count": 44,
   "metadata": {
    "collapsed": true
   },
   "outputs": [],
   "source": [
    "# ch1.play(read(\"<[bd [bd bd]]*2, [bd [bd bd]]>\"))\n",
    "# ch2.play(read(\"hc [hc hc]\"))\n",
    "ch3.play(read(\"[lt lt] lt\"))"
   ]
  },
  {
   "cell_type": "code",
   "execution_count": 33,
   "metadata": {
    "collapsed": true
   },
   "outputs": [],
   "source": [
    "w = 100\n",
    "w1 =  102\n",
    "w2 = Tri(freq=0.1, phase=Sin(freq=0.1))*40 + 100\n",
    "# w2 = Tri(freq=0.9, phase=Sin(freq=.5))*1490 + 2420\n",
    "# startWave(w1, 1)\n",
    "startWave(w2, 2)\n",
    "# startWave(w2, 1)\n",
    "\n",
    "# w2 = Tri(freq=0.9, phase=Sin(freq=.5))*490 + 2420\n",
    "# wp.startWaveOSC(\"chan1\", \"/changeChannelTempo\", w1, \"sc\", 1)\n",
    "# wp.startWaveOSC(\"chan2\", \"/changeChannelTempo\", w2, \"sc\", 2)"
   ]
  },
  {
   "cell_type": "code",
   "execution_count": null,
   "metadata": {
    "collapsed": true
   },
   "outputs": [],
   "source": [
    "plotWave(w2, 0, 100)"
   ]
  },
  {
   "cell_type": "code",
   "execution_count": 47,
   "metadata": {
    "collapsed": true
   },
   "outputs": [],
   "source": [
    "# sendMsgSC(\"/changeChannelTempo\", 100, 1)\n",
    "sendMsgSC(\"/changeChannelTempo\", 1250, 2)\n",
    "# sendMsgSC(\"/changeChannelTempo\", 2000, 2)"
   ]
  },
  {
   "cell_type": "code",
   "execution_count": 39,
   "metadata": {
    "collapsed": true
   },
   "outputs": [],
   "source": [
    "sendMsgSC(\"/syncClocks\", \"phase\", 'master', 1, 2, 3)"
   ]
  },
  {
   "cell_type": "code",
   "execution_count": null,
   "metadata": {
    "collapsed": true
   },
   "outputs": [],
   "source": [
    "sendMsgSC(\"/syncClocks\", \"both\", 2, 1, 3)"
   ]
  },
  {
   "cell_type": "code",
   "execution_count": 48,
   "metadata": {
    "collapsed": true
   },
   "outputs": [],
   "source": [
    "ch1.stop()\n",
    "ch2.stop()\n",
    "ch3.stop()"
   ]
  },
  {
   "cell_type": "code",
   "execution_count": null,
   "metadata": {
    "collapsed": true
   },
   "outputs": [],
   "source": [
    "w0 = 102\n",
    "w =  Tri(freq=0.25)*20 + 100\n",
    "w2 =  Tri(freq=0.5, phase=Sin(freq=0.3, phase=Sin()))*900 + 2500\n",
    "w3 =  Tri(freq=0.5, phase=Sin(freq=0.3))*50 + 200\n",
    "# w2 =  Tri(freq=0.125)*50 + 100\n",
    "# wp.startWaveOSC(\"chan1\", \"/changeChannelTempo\", w, \"sc\", 1)\n",
    "wp.startWaveOSC(\"chan2\", \"/changeChannelTempo\", w, \"sc\", 2)\n",
    "# wp.startWaveOSC(\"chan3\", \"/changeChannelTempo\", w2, \"sc\", 3)\n",
    "wp.startWaveOSC(\"chan3\", \"/changeChannelTempo\",w2, \"sc\", 3)"
   ]
  },
  {
   "cell_type": "code",
   "execution_count": 35,
   "metadata": {
    "collapsed": true
   },
   "outputs": [],
   "source": [
    "wp.stopWave(\"chan1\")\n",
    "wp.stopWave(\"chan2\")\n",
    "wp.stopWave(\"chan3\")"
   ]
  },
  {
   "cell_type": "code",
   "execution_count": null,
   "metadata": {
    "collapsed": true
   },
   "outputs": [],
   "source": [
    "wp.startWave(1,  Tri(freq=0.5, phase=Sin(freq=0.3, phase=Sin())))"
   ]
  },
  {
   "cell_type": "code",
   "execution_count": null,
   "metadata": {
    "collapsed": true
   },
   "outputs": [],
   "source": [
    "tempo(500)"
   ]
  },
  {
   "cell_type": "code",
   "execution_count": null,
   "metadata": {
    "collapsed": true
   },
   "outputs": [],
   "source": []
  },
  {
   "cell_type": "code",
   "execution_count": null,
   "metadata": {
    "collapsed": true
   },
   "outputs": [],
   "source": []
  },
  {
   "cell_type": "code",
   "execution_count": null,
   "metadata": {
    "collapsed": true
   },
   "outputs": [],
   "source": []
  },
  {
   "cell_type": "code",
   "execution_count": null,
   "metadata": {
    "collapsed": true
   },
   "outputs": [],
   "source": [
    "ch1.play(read(\"bd [bd bd]\"))\n",
    "sendMsgSC(\"/syncClocks\", \"both\", 'master', 1, 2, 3)"
   ]
  },
  {
   "cell_type": "code",
   "execution_count": null,
   "metadata": {
    "collapsed": true
   },
   "outputs": [],
   "source": [
    "w1 = Tri(freq=0.4, phase=Sin(freq=0.2))*20 + 120\n",
    "startWave(w1, 1)\n",
    "stopWave(1)"
   ]
  },
  {
   "cell_type": "code",
   "execution_count": null,
   "metadata": {
    "collapsed": true
   },
   "outputs": [],
   "source": [
    "loop1 = getLoop(3)\n",
    "loop1a = reverseLoop(loop1)\n",
    "setLoop(loop1a, 4)"
   ]
  }
 ],
 "metadata": {
  "kernelspec": {
   "display_name": "Python 2",
   "language": "python",
   "name": "python2"
  },
  "language_info": {
   "codemirror_mode": {
    "name": "ipython",
    "version": 2
   },
   "file_extension": ".py",
   "mimetype": "text/x-python",
   "name": "python",
   "nbconvert_exporter": "python",
   "pygments_lexer": "ipython2",
   "version": "2.7.15"
  }
 },
 "nbformat": 4,
 "nbformat_minor": 2
}
