{
 "cells": [
  {
   "cell_type": "code",
   "execution_count": 1,
   "metadata": {
    "collapsed": true
   },
   "outputs": [],
   "source": [
    "import LoopSequencer\n",
    "import fh2\n",
    "fh = fh2.FH2()\n",
    "l = LoopSequencer.LoopSequencer(fh)"
   ]
  },
  {
   "cell_type": "code",
   "execution_count": null,
   "metadata": {
    "collapsed": true
   },
   "outputs": [],
   "source": [
    "l.setBankTransform(1, \"rev\")"
   ]
  },
  {
   "cell_type": "code",
   "execution_count": null,
   "metadata": {
    "collapsed": true
   },
   "outputs": [],
   "source": [
    "l.shiftGrid(\"up\", 1)"
   ]
  },
  {
   "cell_type": "code",
   "execution_count": null,
   "metadata": {
    "collapsed": true
   },
   "outputs": [],
   "source": [
    "l.clearTransformations(1)"
   ]
  },
  {
   "cell_type": "code",
   "execution_count": null,
   "metadata": {
    "collapsed": true
   },
   "outputs": [],
   "source": [
    "# 1 INDEXED !!!\n",
    "l.transformLoop(1, \"rev\", send=True)\n",
    "# l.transformLoop(1, \"transpose\", direction=\"up\", interval=\"m2\", send=True)\n",
    "# l.transformLoop(7, \"invert\", send=False)"
   ]
  },
  {
   "cell_type": "code",
   "execution_count": null,
   "metadata": {
    "collapsed": true
   },
   "outputs": [],
   "source": [
    "l.replaceRow(1, [1, 0,1,0,1,1,1,1])"
   ]
  },
  {
   "cell_type": "code",
   "execution_count": null,
   "metadata": {
    "collapsed": true
   },
   "outputs": [],
   "source": [
    "n += 1\n",
    "l.paramValues['TEMPO']\n",
    "l.setParam('TEMPO', n)"
   ]
  },
  {
   "cell_type": "code",
   "execution_count": null,
   "metadata": {
    "collapsed": true
   },
   "outputs": [],
   "source": [
    "n -= 2\n",
    "l.paramValues['TEMPO']\n",
    "l.setParam('TEMPO', n)"
   ]
  },
  {
   "cell_type": "code",
   "execution_count": null,
   "metadata": {
    "collapsed": true
   },
   "outputs": [],
   "source": [
    "nl = l.transformLoop(2, \"rev\", send=False)\n",
    "\n",
    "nl2 = l.transformLoop(2, \"transpose\", direction=\"down\", interval=\"m7\", send=False)\n",
    "send = l.transformLoop(7, \"invert\", send=False)\n",
    "l.transformLoop(3, \"transpose\", direction=\"up\", interval=\"m3\", send=False)\n",
    "l.transformLoop(3, \"rev\", send=False)\n"
   ]
  },
  {
   "cell_type": "code",
   "execution_count": 28,
   "metadata": {},
   "outputs": [],
   "source": [
    "fh.saveScenesToFile('track-jan-2-2018.scenes')"
   ]
  },
  {
   "cell_type": "code",
   "execution_count": 27,
   "metadata": {},
   "outputs": [],
   "source": [
    "#LOAD - \n",
    "\n",
    "fh.loadScenesFromFile('track-jan-2-2018_test.scenes')"
   ]
  },
  {
   "cell_type": "code",
   "execution_count": null,
   "metadata": {
    "collapsed": true
   },
   "outputs": [],
   "source": [
    "fh.undoScenePlay()"
   ]
  },
  {
   "cell_type": "code",
   "execution_count": 24,
   "metadata": {},
   "outputs": [
    {
     "name": "stdout",
     "output_type": "stream",
     "text": [
      "0\n"
     ]
    }
   ],
   "source": []
  },
  {
   "cell_type": "code",
   "execution_count": 25,
   "metadata": {},
   "outputs": [
    {
     "name": "stdout",
     "output_type": "stream",
     "text": [
      "0\n"
     ]
    }
   ],
   "source": [
    "print fh.scenes[0]\n",
    "\n",
    "scene = fh.scenes[5]\n",
    "scene2 = fh.scenes[3]\n",
    "for i in range(len(scene[0])):\n",
    "    if  scene2[0][i] != 0 and scene[0][i] == 0:\n",
    "        scene[0][i] = scene2[0][i]\n",
    "        scene[1][i] = scene2[1][i]\n",
    "    "
   ]
  }
 ],
 "metadata": {
  "kernelspec": {
   "display_name": "Python 2",
   "language": "python",
   "name": "python2"
  },
  "language_info": {
   "codemirror_mode": {
    "name": "ipython",
    "version": 2
   },
   "file_extension": ".py",
   "mimetype": "text/x-python",
   "name": "python",
   "nbconvert_exporter": "python",
   "pygments_lexer": "ipython2",
   "version": "2.7.13"
  }
 },
 "nbformat": 4,
 "nbformat_minor": 2
}
