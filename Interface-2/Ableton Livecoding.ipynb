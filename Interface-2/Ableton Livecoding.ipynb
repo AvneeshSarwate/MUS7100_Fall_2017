{
 "cells": [
  {
   "cell_type": "code",
   "execution_count": 1,
   "metadata": {},
   "outputs": [
    {
     "name": "stdout",
     "output_type": "stream",
     "text": [
      "Setup Complete\n"
     ]
    }
   ],
   "source": [
    "from fh2 import FH2 \n",
    "import fh2\n",
    "import copy\n",
    "import pickle\n",
    "from LFOFM import *\n",
    "import PydalChanel as pydalmodule\n",
    "from OSC import *\n",
    "import copy\n",
    "\n",
    "wp = WavePlayer()\n",
    "lp = FH2()\n",
    "    \n",
    "\n",
    "def sendMsgSC(addr, *args):\n",
    "    msg = OSCMessage()\n",
    "    msg.setAddress(addr)\n",
    "    msg.append(args)\n",
    "    wp.superColliderClient.send(msg)\n",
    "\n",
    "flatten = lambda l: [item for sublist in l for item in sublist]\n",
    "buttonToLoopInd = flatten([[(j+1)*10+(i+1) for i in range(8)] for j in range(2, 8)])\n",
    "\n",
    "plotWave = wp.plotWave\n",
    "read = pydalmodule.read\n",
    "callbacks = lp.buttonForwardingHandlers\n",
    "\n",
    "pydal = pydalmodule.getPydalInstance()\n",
    "\n",
    "end = pydal.end\n",
    "tempo = pydal.setTempo\n",
    "stripSymbols = lambda beats : map(lambda beat : list(beat[1])[0], beats)\n",
    "\n",
    "\n",
    "channels = [pydal.newChannel(i) for i in range(10)]\n",
    "\n",
    "#mc - midiChannel, pl - pattern length\n",
    "def midi(chanInd, patStr, cc=0, dur=.125, mc=0, pl=1): \n",
    "    if patStr == \"off\":\n",
    "        channels[chanInd].stop()\n",
    "    else:\n",
    "        channels[chanInd].play(read(patStr, pl, symbolKey=\"midi\"), [mc, cc, dur])\n",
    "        \n",
    "def allOff():\n",
    "    for i in range(len(channels)):\n",
    "        midi(i, \"off\")\n",
    "        wp.stopWave(i)\n",
    "    \n",
    "pi=3.14159    \n",
    "print \"Setup Complete\"\n",
    "\n",
    "#need to start SC files masterTempoClock, PydalSC, and LFOFM,"
   ]
  },
  {
   "cell_type": "markdown",
   "metadata": {},
   "source": [
    "## Live Code Loops"
   ]
  },
  {
   "cell_type": "code",
   "execution_count": 145,
   "metadata": {},
   "outputs": [],
   "source": [
    "# loop1\n",
    "channels[0].play(read(\"bd:13 [bd:10 (bd:17, bd:10)] bd:1 [bd (bd:5, bd)]\", 2))\n",
    "# ch1.play(read(\"bd:5 [bd:7 (bd:9, bd:7)] bd:1 [bd (bd:5, bd)]\", 2))\n",
    "# ch1.play(read(\"bd:25 [bd:22 (bd:17, bd:10)] bd:1 [bd (bd:5, bd)]\", 2))\n",
    "# channels[1].play(read(\"hc [hc hc]\"))\n",
    "channels[2].play(read(\"[lt lt] lt\"))\n",
    "# ch3.play(read(\"[lt:3 lt:3] lt:3\"))"
   ]
  },
  {
   "cell_type": "code",
   "execution_count": 153,
   "metadata": {},
   "outputs": [],
   "source": [
    "#loop 2\n",
    "tempo(100)\n",
    "# midi(0, \"50*2 50*2 (55*2, 57*2)\", dur=0.05)\n",
    "midi(1, \"c50 c40 <c15, c65>\", cc=0)\n",
    "midi(2, \"[38, 42, 45] [38, 42, 47]\", dur=2, pl=4)\n",
    "wp.startWave(1, Sin(0.1)*10-30)\n",
    "wp.startWave(3, Sin(0.25)*10-30)\n"
   ]
  },
  {
   "cell_type": "code",
   "execution_count": 154,
   "metadata": {
    "collapsed": true,
    "scrolled": true
   },
   "outputs": [],
   "source": [
    "allOff()"
   ]
  },
  {
   "cell_type": "code",
   "execution_count": null,
   "metadata": {
    "collapsed": true
   },
   "outputs": [],
   "source": []
  }
 ],
 "metadata": {
  "kernelspec": {
   "display_name": "Python 2",
   "language": "python",
   "name": "python2"
  },
  "language_info": {
   "codemirror_mode": {
    "name": "ipython",
    "version": 2
   },
   "file_extension": ".py",
   "mimetype": "text/x-python",
   "name": "python",
   "nbconvert_exporter": "python",
   "pygments_lexer": "ipython2",
   "version": "2.7.15"
  }
 },
 "nbformat": 4,
 "nbformat_minor": 2
}
