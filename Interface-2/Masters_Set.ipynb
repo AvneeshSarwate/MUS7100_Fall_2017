{
 "cells": [
  {
   "cell_type": "code",
   "execution_count": null,
   "metadata": {},
   "outputs": [],
   "source": [
    "#sustainPad -> arpeggiator setup\n",
    "#automatically starting this cell using Jupyter extension as described https://stackoverflow.com/a/39666438\n",
    "\n",
    "import PydalChanel as pydalmodule\n",
    "import arpeggiator\n",
    "from spatializer import Spatializer\n",
    "import LoopSequencer\n",
    "import fh2\n",
    "import copy\n",
    "from LFOFM import *\n",
    "from OSC import *\n",
    "\n",
    "fh = fh2.FH2()\n",
    "l = LoopSequencer.LoopSequencer(fh)\n",
    "arpPydal = pydalmodule.getPydalInstance(('127.0.0.1', 34567))\n",
    "read = pydalmodule.read\n",
    "lp = fh\n",
    "\n",
    "instChan = 0\n",
    "s = Spatializer(60, [[0,1,2,3], [4,5,6,7], [8,9,10,11]], lp, instChan)\n",
    "s.spatialize = False\n",
    "s.separateChannels = False\n",
    "s.broadcasting = False\n",
    "lp.addForwardingHandler(instChan, s)\n",
    "# s.loadChordsFromFile(\"songV4.chords\")\n",
    "\n",
    "a = arpeggiator.Arpeggiator(instChan, arpPydal, read(\"0 1 2\", 1, \"arp\"))\n",
    "a.normalForwardingBehavior = False\n",
    "lp.addForwardingHandler(instChan, a)\n",
    "\n",
    "instChan = 1\n",
    "s1 = Spatializer(60, [[0,1,2,3], [4,5,6,7], [8,9,10,11]], lp, instChan)\n",
    "s1.spatialize = False\n",
    "s1.separateChannels = False\n",
    "s1.broadcasting = False\n",
    "lp.addForwardingHandler(instChan, s1)\n",
    "# s.loadChordsFromFile(\"songV4.chords\")\n",
    "\n",
    "a1 = arpeggiator.Arpeggiator(instChan, arpPydal, read(\"0 1 2\", 1, \"arp\"))\n",
    "a1.normalForwardingBehavior = False\n",
    "lp.addForwardingHandler(instChan, a1)\n",
    "\n",
    "instChan = 2\n",
    "s2 = Spatializer(60, [[0,1,2,3], [4,5,6,7], [8,9,10,11]], lp, instChan)\n",
    "s2.spatialize = False\n",
    "s2.separateChannels = False\n",
    "s2.broadcasting = False\n",
    "lp.addForwardingHandler(instChan, s2)\n",
    "\n",
    "fh.loadScenesFromFile(\"responsevis1.scenes\")\n",
    "\n",
    "\n",
    "\n",
    "####################################\n",
    "#### HYPERPHASE STUFF\n",
    "####################################\n",
    "wp = WavePlayer()\n",
    "\n",
    "def sendMsgSC(addr, *args):\n",
    "    msg = OSCMessage()\n",
    "    msg.setAddress(addr)\n",
    "    msg.append(args)\n",
    "    wp.superColliderClient.send(msg)\n",
    "\n",
    "flatten = lambda l: [item for sublist in l for item in sublist]\n",
    "buttonToLoopInd = flatten([[(j+1)*10+(i+1) for i in range(8)] for j in range(2, 8)])\n",
    "\n",
    "plotWave = wp.plotWave\n",
    "read = pydalmodule.read\n",
    "callbacks = lp.buttonForwardingHandlers\n",
    "\n",
    "pydal = pydalmodule.getPydalInstance()\n",
    "\n",
    "end = pydal.end\n",
    "tempo = pydal.setTempo\n",
    "stripSymbols = lambda beats : map(lambda beat : list(beat[1])[0], beats)\n",
    "\n",
    "ch1 = pydal.newChannel(1)\n",
    "ch2 = pydal.newChannel(2)\n",
    "ch3 = pydal.newChannel(3)\n",
    "ch4 = pydal.newChannel(4)\n",
    "ch5 = pydal.newChannel(5)\n",
    "ch5 = pydal.newChannel(5)\n",
    "\n",
    "\n",
    "def startWave(wave, chan):\n",
    "    wp.startWaveOSC(\"chan\"+str(chan), \"/changeChannelTempo\", wave, \"sc\", chan)\n",
    "    \n",
    "def stopWave(chan):\n",
    "    wp.stopWave(chan)\n",
    "\n",
    "def getCC(button):\n",
    "    ind = buttonToLoopInd.index(button) + 1\n",
    "    return CCLoop(copy.deepcopy(lp.loops[ind]))\n",
    "\n",
    "class CCLoop:\n",
    "    \n",
    "    def __init__(self, loop):\n",
    "        self.loop = loop\n",
    "    \n",
    "    def speedScale(self, scaleVal):\n",
    "        loop = self.loop\n",
    "        return CCLoop([[hit[0]*(1./scaleVal)] + hit[1:] for hit in loop])\n",
    "\n",
    "    def setVal(self, ccVal):\n",
    "        loop = self.loop\n",
    "        loop2 = copy.deepcopy(loop)\n",
    "        for i in range(len(loop)):\n",
    "            loop2[i][1] = ccVal\n",
    "        return CCLoop(loop2)\n",
    "\n",
    "    def reverse(self):\n",
    "        loop = self.loop\n",
    "        loop2 = copy.deepcopy(loop)\n",
    "        loop2.reverse()\n",
    "        loop2[-1][4] = 'timeAfterLastHit'\n",
    "        loop2[0][4] = 'cc'\n",
    "        return CCLoop(loop2)\n",
    "\n",
    "    def flip(self):\n",
    "        loop = self.loop\n",
    "        loop2 = copy.deepcopy(loop)\n",
    "        loopVals = [hit[2] for hit in loop2]\n",
    "        for i in range(len(loop)):\n",
    "            loop2[i][2] = 127 - loopVals[i]\n",
    "        return CCLoop(loop2)\n",
    "       \n",
    "    def setLoop(self, button):\n",
    "        loop = self.loop\n",
    "        ind = buttonToLoopInd.index(button) + 1\n",
    "        lp.loops[ind] = loop\n",
    "        sendMsgSC(\"/setBankMelody\", lp.hitListToString(loop, button, 0))\n",
    "    \n",
    "    def setDrum(self, drumInd):\n",
    "        loop = self.loop\n",
    "        loop2 = copy.deepcopy(loop)\n",
    "        for i in range(len(loop)):\n",
    "            loop2[i][1] = drumInd*10 + loop2[i][1]%10\n",
    "        return CCLoop(loop2)\n",
    "    \n",
    "pi=3.14159\n",
    "\n",
    "print \"started\""
   ]
  },
  {
   "cell_type": "code",
   "execution_count": null,
   "metadata": {
    "collapsed": true
   },
   "outputs": [],
   "source": [
    "fh.loadScenesFromFile(\"responsevis1.scenes\")"
   ]
  },
  {
   "cell_type": "markdown",
   "metadata": {},
   "source": [
    "## RHYTHM WARP SETUP"
   ]
  },
  {
   "cell_type": "code",
   "execution_count": null,
   "metadata": {
    "collapsed": true
   },
   "outputs": [],
   "source": [
    "tempo(100)"
   ]
  },
  {
   "cell_type": "code",
   "execution_count": null,
   "metadata": {},
   "outputs": [],
   "source": [
    "ch1.play(read(\"bd [bd bd]\"))"
   ]
  },
  {
   "cell_type": "code",
   "execution_count": null,
   "metadata": {
    "collapsed": true
   },
   "outputs": [],
   "source": [
    "ch2.play(read(\"hc [hc hc]\"))"
   ]
  },
  {
   "cell_type": "code",
   "execution_count": null,
   "metadata": {
    "collapsed": true
   },
   "outputs": [],
   "source": [
    "ch3.play(read(\"[lt lt] lt\"))"
   ]
  },
  {
   "cell_type": "code",
   "execution_count": null,
   "metadata": {
    "collapsed": true
   },
   "outputs": [],
   "source": [
    "dev = 10\n",
    "startWave(100+dev+Sin(0.125,phase=Tri(0.2))*dev, 1)\n",
    "startWave(100+dev+Sin(0.125, phase=1./3*Tri(0.2))*dev, 2)\n",
    "startWave(100+dev+Sin(0.125, phase=2./3*Tri(0.2))*dev, 3)"
   ]
  },
  {
   "cell_type": "code",
   "execution_count": null,
   "metadata": {
    "collapsed": true
   },
   "outputs": [],
   "source": [
    "sendMsgSC(\"/syncClocks\", \"both\", 'master',  1, 2, 3)"
   ]
  },
  {
   "cell_type": "code",
   "execution_count": null,
   "metadata": {
    "collapsed": true
   },
   "outputs": [],
   "source": [
    "cc51 = getCC(51)\n",
    "cc51.speedScale(8).setLoop(54)\n"
   ]
  },
  {
   "cell_type": "code",
   "execution_count": null,
   "metadata": {},
   "outputs": [],
   "source": [
    "ch1.stop()\n",
    "ch2.stop()\n",
    "ch3.stop()"
   ]
  },
  {
   "cell_type": "code",
   "execution_count": null,
   "metadata": {
    "collapsed": true
   },
   "outputs": [],
   "source": [
    "stopWave(1)\n",
    "stopWave(2)\n",
    "stopWave(3)"
   ]
  },
  {
   "cell_type": "code",
   "execution_count": null,
   "metadata": {
    "collapsed": true
   },
   "outputs": [],
   "source": []
  }
 ],
 "metadata": {
  "kernelspec": {
   "display_name": "Python 2",
   "language": "python",
   "name": "python2"
  },
  "language_info": {
   "codemirror_mode": {
    "name": "ipython",
    "version": 2
   },
   "file_extension": ".py",
   "mimetype": "text/x-python",
   "name": "python",
   "nbconvert_exporter": "python",
   "pygments_lexer": "ipython2",
   "version": "2.7.15"
  }
 },
 "nbformat": 4,
 "nbformat_minor": 2
}
