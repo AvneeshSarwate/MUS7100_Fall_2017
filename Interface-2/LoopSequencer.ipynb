{
 "cells": [
  {
   "cell_type": "code",
   "execution_count": null,
   "metadata": {
    "collapsed": true
   },
   "outputs": [],
   "source": [
    "import LoopSequencer\n",
    "import fh2\n",
    "fh = fh2.FH2()\n",
    "l = LoopSequencer.LoopSequencer(fh)"
   ]
  },
  {
   "cell_type": "code",
   "execution_count": null,
   "metadata": {
    "collapsed": true
   },
   "outputs": [],
   "source": [
    "l.setBankTransform(1, \"rev\")"
   ]
  },
  {
   "cell_type": "code",
   "execution_count": null,
   "metadata": {
    "collapsed": true
   },
   "outputs": [],
   "source": [
    "l.shiftGrid(\"up\", 1)"
   ]
  },
  {
   "cell_type": "code",
   "execution_count": null,
   "metadata": {
    "collapsed": true
   },
   "outputs": [],
   "source": [
    "l.clearTransformations(1)"
   ]
  },
  {
   "cell_type": "code",
   "execution_count": null,
   "metadata": {
    "collapsed": true
   },
   "outputs": [],
   "source": [
    "# 1 INDEXED !!!\n",
    "l.transformLoop(1, \"rev\", send=True)\n",
    "# l.transformLoop(1, \"transpose\", direction=\"up\", interval=\"m2\", send=True)\n",
    "# l.transformLoop(7, \"invert\", send=False)"
   ]
  },
  {
   "cell_type": "code",
   "execution_count": null,
   "metadata": {
    "collapsed": true
   },
   "outputs": [],
   "source": [
    "l.replaceRow(1, [1, 0,1,0,1,1,1,1])"
   ]
  },
  {
   "cell_type": "code",
   "execution_count": null,
   "metadata": {
    "collapsed": true
   },
   "outputs": [],
   "source": [
    "n += 1\n",
    "l.paramValues['TEMPO']\n",
    "l.setParam('TEMPO', n)"
   ]
  },
  {
   "cell_type": "code",
   "execution_count": null,
   "metadata": {
    "collapsed": true
   },
   "outputs": [],
   "source": [
    "n -= 2\n",
    "l.paramValues['TEMPO']\n",
    "l.setParam('TEMPO', n)"
   ]
  },
  {
   "cell_type": "code",
   "execution_count": null,
   "metadata": {
    "collapsed": true
   },
   "outputs": [],
   "source": [
    "nl = l.transformLoop(2, \"rev\", send=False)\n",
    "\n",
    "nl2 = l.transformLoop(2, \"transpose\", direction=\"down\", interval=\"m7\", send=False)\n",
    "send = l.transformLoop(7, \"invert\", send=False)\n",
    "l.transformLoop(3, \"transpose\", direction=\"up\", interval=\"m3\", send=False)\n",
    "l.transformLoop(3, \"rev\", send=False)\n"
   ]
  },
  {
   "cell_type": "code",
   "execution_count": null,
   "metadata": {
    "collapsed": true
   },
   "outputs": [],
   "source": [
    "fh.saveScenesToFile('track-jan-2-2018.scenes')"
   ]
  },
  {
   "cell_type": "code",
   "execution_count": null,
   "metadata": {},
   "outputs": [],
   "source": [
    "# #LOAD - \n",
    "\n",
    "fh.loadScenesFromFile('track-jan-2-2018.scenes')"
   ]
  },
  {
   "cell_type": "code",
   "execution_count": null,
   "metadata": {},
   "outputs": [],
   "source": [
    "fh.superColliderServer.addMsgHandler(\"/utilityButton\", lambda a, b, c, d : None)"
   ]
  },
  {
   "cell_type": "code",
   "execution_count": 1,
   "metadata": {},
   "outputs": [],
   "source": [
    "#sustainPad -> arpeggiator setup\n",
    "import PydalChanel as pydalmodule\n",
    "import arpeggiator\n",
    "from spatializer import Spatializer\n",
    "import LoopSequencer\n",
    "import fh2\n",
    "\n",
    "fh = fh2.FH2()\n",
    "l = LoopSequencer.LoopSequencer(fh)\n",
    "arpPydal = pydalmodule.getInstance(('127.0.0.1', 34567))\n",
    "read = pydalmodule.read\n",
    "lp = fh\n",
    "\n",
    "s = Spatializer(60, [[0,1,2,3], [4,5,6,7], [8,9,10,11]], lp, 0)\n",
    "s.spatialize = False\n",
    "s.separateChannels = False\n",
    "s.broadcasting = False\n",
    "lp.addForwardingHandler(0, s)\n",
    "# s.loadChordsFromFile(\"songV4.chords\")\n",
    "\n",
    "a = arpeggiator.Arpeggiator(0, arpPydal, read(\"0 1 2\", 1, \"arp\"))\n",
    "a.normalForwardingBehavior = False\n",
    "lp.addForwardingHandler(0, a)"
   ]
  },
  {
   "cell_type": "code",
   "execution_count": 2,
   "metadata": {},
   "outputs": [],
   "source": [
    "s1 = Spatializer(60, [[0,1,2,3], [4,5,6,7], [8,9,10,11]], lp, 1)\n",
    "s1.spatialize = False\n",
    "s1.separateChannels = False\n",
    "s1.broadcasting = False\n",
    "lp.addForwardingHandler(1, s1)\n",
    "# s.loadChordsFromFile(\"songV4.chords\")\n",
    "\n",
    "a1 = arpeggiator.Arpeggiator(1, arpPydal, read(\"0 1 2\", 1, \"arp\"))\n",
    "a1.normalForwardingBehavior = False\n",
    "lp.addForwardingHandler(1, a1)"
   ]
  },
  {
   "cell_type": "code",
   "execution_count": null,
   "metadata": {},
   "outputs": [],
   "source": [
    "lp.resetButtonDestinations([0]*20 + [\"-1\"]*30 + [\"-0\"]*30)"
   ]
  },
  {
   "cell_type": "code",
   "execution_count": null,
   "metadata": {},
   "outputs": [],
   "source": [
    "s1.broadcasting = False"
   ]
  },
  {
   "cell_type": "code",
   "execution_count": null,
   "metadata": {},
   "outputs": [],
   "source": [
    "a1.midiChannel"
   ]
  },
  {
   "cell_type": "code",
   "execution_count": null,
   "metadata": {
    "collapsed": true
   },
   "outputs": [],
   "source": [
    "s1.loadChordsFromFile(\"droneSong3.chords\")"
   ]
  }
 ],
 "metadata": {
  "kernelspec": {
   "display_name": "Python 2",
   "language": "python",
   "name": "python2"
  },
  "language_info": {
   "codemirror_mode": {
    "name": "ipython",
    "version": 2
   },
   "file_extension": ".py",
   "mimetype": "text/x-python",
   "name": "python",
   "nbconvert_exporter": "python",
   "pygments_lexer": "ipython2",
   "version": "2.7.13"
  }
 },
 "nbformat": 4,
 "nbformat_minor": 2
}
