{
 "cells": [
  {
   "cell_type": "code",
   "execution_count": null,
   "metadata": {
    "collapsed": true
   },
   "outputs": [],
   "source": [
    "import LoopSequencer\n",
    "import fh2\n",
    "fh = fh2.FH2()\n",
    "l = LoopSequencer.LoopSequencer(fh)"
   ]
  },
  {
   "cell_type": "code",
   "execution_count": null,
   "metadata": {
    "collapsed": true
   },
   "outputs": [],
   "source": [
    "l.setBankTransform(1, \"rev\")"
   ]
  },
  {
   "cell_type": "code",
   "execution_count": null,
   "metadata": {
    "collapsed": true
   },
   "outputs": [],
   "source": [
    "l.shiftGrid(\"up\", 1)"
   ]
  },
  {
   "cell_type": "code",
   "execution_count": null,
   "metadata": {
    "collapsed": true
   },
   "outputs": [],
   "source": [
    "l.clearTransformations(1)"
   ]
  },
  {
   "cell_type": "code",
   "execution_count": null,
   "metadata": {
    "collapsed": true
   },
   "outputs": [],
   "source": [
    "# 1 INDEXED !!!\n",
    "l.transformLoop(1, \"rev\", send=True)\n",
    "# l.transformLoop(1, \"transpose\", direction=\"up\", interval=\"m2\", send=True)\n",
    "# l.transformLoop(7, \"invert\", send=False)"
   ]
  },
  {
   "cell_type": "code",
   "execution_count": null,
   "metadata": {
    "collapsed": true
   },
   "outputs": [],
   "source": [
    "l.replaceRow(1, [1, 0,1,0,1,1,1,1])"
   ]
  },
  {
   "cell_type": "code",
   "execution_count": null,
   "metadata": {
    "collapsed": true
   },
   "outputs": [],
   "source": [
    "n += 1\n",
    "l.paramValues['TEMPO']\n",
    "l.setParam('TEMPO', n)"
   ]
  },
  {
   "cell_type": "code",
   "execution_count": null,
   "metadata": {
    "collapsed": true
   },
   "outputs": [],
   "source": [
    "n -= 2\n",
    "l.paramValues['TEMPO']\n",
    "l.setParam('TEMPO', n)"
   ]
  },
  {
   "cell_type": "code",
   "execution_count": null,
   "metadata": {
    "collapsed": true
   },
   "outputs": [],
   "source": [
    "nl = l.transformLoop(2, \"rev\", send=False)\n",
    "\n",
    "nl2 = l.transformLoop(2, \"transpose\", direction=\"down\", interval=\"m7\", send=False)\n",
    "send = l.transformLoop(7, \"invert\", send=False)\n",
    "l.transformLoop(3, \"transpose\", direction=\"up\", interval=\"m3\", send=False)\n",
    "l.transformLoop(3, \"rev\", send=False)\n"
   ]
  },
  {
   "cell_type": "code",
   "execution_count": null,
   "metadata": {
    "collapsed": true
   },
   "outputs": [],
   "source": [
    "fh.saveScenesToFile('controllerize1_e.scenes')"
   ]
  },
  {
   "cell_type": "code",
   "execution_count": null,
   "metadata": {
    "collapsed": true
   },
   "outputs": [],
   "source": [
    "# #LOAD - \n",
    "\n",
    "fh.loadScenesFromFile('controllerize1_e.scenes')"
   ]
  },
  {
   "cell_type": "code",
   "execution_count": null,
   "metadata": {
    "collapsed": true
   },
   "outputs": [],
   "source": [
    "fh.superColliderServer.addMsgHandler(\"/utilityButton\", lambda a, b, c, d : None)"
   ]
  },
  {
   "cell_type": "code",
   "execution_count": 1,
   "metadata": {
    "collapsed": true
   },
   "outputs": [],
   "source": [
    "#sustainPad -> arpeggiator setup\n",
    "import PydalChanel as pydalmodule\n",
    "import arpeggiator\n",
    "from spatializer import Spatializer\n",
    "import LoopSequencer\n",
    "import fh2\n",
    "\n",
    "fh = fh2.FH2()\n",
    "l = LoopSequencer.LoopSequencer(fh)\n",
    "arpPydal = pydalmodule.getPydalInstance(('127.0.0.1', 34567))\n",
    "read = pydalmodule.read\n",
    "lp = fh\n",
    "\n",
    "instChan = 1\n",
    "s = Spatializer(60, [[0,1,2,3], [4,5,6,7], [8,9,10,11]], lp, instChan)\n",
    "s.spatialize = False\n",
    "s.separateChannels = False\n",
    "s.broadcasting = True\n",
    "lp.addForwardingHandler(instChan, s)\n",
    "# s.loadChordsFromFile(\"songV4.chords\")\n",
    "\n",
    "a = arpeggiator.Arpeggiator(instChan, arpPydal, read(\"0 1 2\", 1, \"arp\"))\n",
    "a.normalForwardingBehavior = False\n",
    "lp.addForwardingHandler(instChan, a)"
   ]
  },
  {
   "cell_type": "code",
   "execution_count": null,
   "metadata": {
    "collapsed": true
   },
   "outputs": [],
   "source": [
    "instChan = 3\n",
    "s1 = Spatializer(60, [[0,1,2,3], [4,5,6,7], [8,9,10,11]], lp, instChan)\n",
    "s1.spatialize = False\n",
    "s1.separateChannels = False\n",
    "s1.broadcasting = True\n",
    "lp.addForwardingHandler(instChan, s1)\n",
    "# s.loadChordsFromFile(\"songV4.chords\")\n",
    "\n",
    "a1 = arpeggiator.Arpeggiator(instChan, arpPydal, read(\"0 1 2\", 1, \"arp\"))\n",
    "a1.normalForwardingBehavior = False\n",
    "lp.addForwardingHandler(instChan, a1)\n",
    "# lp.resetButtonDestinations([\"-1\"]*40 + [\"-0\"]*40)"
   ]
  },
  {
   "cell_type": "code",
   "execution_count": null,
   "metadata": {},
   "outputs": [],
   "source": [
    "instChan = 5\n",
    "a5 = arpeggiator.Arpeggiator(instChan, arpPydal, read(\"0 1 2\", 1, \"arp\"))\n",
    "lp.addForwardingHandler(instChan, a5)"
   ]
  },
  {
   "cell_type": "code",
   "execution_count": null,
   "metadata": {
    "collapsed": true
   },
   "outputs": [],
   "source": [
    "lp.resetButtonDestinations([\"-1\"]*80)\n",
    "def toggleSustain():\n",
    "    s1.sustaining = not s1.sustaining\n",
    "def toggleSeparateChannels():\n",
    "    s1.separateChannels = not s1.separateChannels\n",
    "lp.topRowFunctions[0] = toggleSustain\n",
    "lp.topRowFunctions[1] = toggleSeparateChannels\n",
    "s1.loadChordsFromFile(\"droneSong3.chords\")"
   ]
  },
  {
   "cell_type": "code",
   "execution_count": null,
   "metadata": {
    "collapsed": true
   },
   "outputs": [],
   "source": [
    "b = True\n",
    "s.broadcasting = b\n",
    "s1.broadcasting = b"
   ]
  },
  {
   "cell_type": "code",
   "execution_count": null,
   "metadata": {
    "collapsed": true
   },
   "outputs": [],
   "source": [
    "s.loadChordsFromFile(\"controllerize1_1.chords\")\n",
    "s1.loadChordsFromFile(\"controllerize1_2.chords\")"
   ]
  },
  {
   "cell_type": "code",
   "execution_count": null,
   "metadata": {
    "collapsed": true
   },
   "outputs": [],
   "source": [
    "s.saveChordsToFile(\"controllerize1_1.chords\")\n",
    "s1.saveChordsToFile(\"controllerize1_2.chords\")"
   ]
  },
  {
   "cell_type": "code",
   "execution_count": null,
   "metadata": {
    "collapsed": true
   },
   "outputs": [],
   "source": [
    "s.swappingChords = True\n",
    "s1.swappingChords = True"
   ]
  },
  {
   "cell_type": "code",
   "execution_count": 2,
   "metadata": {},
   "outputs": [],
   "source": [
    "pydalInstance = pydalmodule.getPydalInstance(('127.0.0.1', 34345))\n",
    "ch1 = pydalInstance.newChannel(1)\n",
    "ch2 = pydalInstance.newChannel(2)"
   ]
  },
  {
   "cell_type": "code",
   "execution_count": 30,
   "metadata": {
    "collapsed": true
   },
   "outputs": [],
   "source": [
    "ch1.play(read(\"{~ ~ ~ ~, b ~ ~ ~ ~ ~ ~ b ~ ~ ~ ~ ~ b ~ ~ ~ ~ b ~ ~ ~ b ~ ~ b ~ b}\", 1, 'roboDrum'))"
   ]
  },
  {
   "cell_type": "code",
   "execution_count": 31,
   "metadata": {},
   "outputs": [],
   "source": [
    "ch2.play(read(\"{~ ~ ~ ~, a ~ ~ ~}\", 1, 'roboDrum'))"
   ]
  },
  {
   "cell_type": "code",
   "execution_count": 32,
   "metadata": {},
   "outputs": [],
   "source": [
    "ch2.stop()\n",
    "ch1.stop()\n",
    "ch1.play(read(\"{~ ~ ~ ~, a ~ ~ a ~ ~ a ~ b ~ ~ ~ a ~ ~ a ~ ~ b ~ a ~ ~ a ~ ~ b ~ }\", 1, 'roboDrum'))"
   ]
  },
  {
   "cell_type": "code",
   "execution_count": 33,
   "metadata": {
    "collapsed": true
   },
   "outputs": [],
   "source": [
    "ch1.play(read(\"{~ ~ ~ ~, a ~ b a ~ b a ~ b b ~ ~ a ~ b a ~ b b ~ a ~ b a ~ b b ~ }\", 1, 'roboDrum'))"
   ]
  },
  {
   "cell_type": "code",
   "execution_count": 34,
   "metadata": {
    "collapsed": true
   },
   "outputs": [],
   "source": [
    "ch1.play(read(\"{~ ~ ~ ~, a ~ ~ a ~ ~ a ~ a ~ ~ ~ a ~ ~ a ~ ~ a ~ a ~ ~ a ~ ~ a ~ }\", 1, 'roboDrum'))\n",
    "ch2.play(read(\"{~ ~ ~ ~, b ~ ~ ~ ~ ~ ~ ~}\", 1, 'roboDrum'))"
   ]
  },
  {
   "cell_type": "code",
   "execution_count": 35,
   "metadata": {
    "collapsed": true
   },
   "outputs": [],
   "source": [
    "ch2.stop()\n",
    "ch1.stop()"
   ]
  }
 ],
 "metadata": {
  "kernelspec": {
   "display_name": "Python 2",
   "language": "python",
   "name": "python2"
  },
  "language_info": {
   "codemirror_mode": {
    "name": "ipython",
    "version": 2
   },
   "file_extension": ".py",
   "mimetype": "text/x-python",
   "name": "python",
   "nbconvert_exporter": "python",
   "pygments_lexer": "ipython2",
   "version": "2.7.13"
  }
 },
 "nbformat": 4,
 "nbformat_minor": 2
}
