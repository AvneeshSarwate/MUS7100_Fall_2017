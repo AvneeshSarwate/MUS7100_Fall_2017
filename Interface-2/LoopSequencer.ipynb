{
 "cells": [
  {
   "cell_type": "code",
   "execution_count": 1,
   "metadata": {
    "collapsed": true
   },
   "outputs": [],
   "source": [
    "import LoopSequencer\n",
    "import fh2\n",
    "fh = fh2.FH2()\n",
    "l = LoopSequencer.LoopSequencer(fh)"
   ]
  },
  {
   "cell_type": "code",
   "execution_count": 1823,
   "metadata": {},
   "outputs": [
    {
     "name": "stdout",
     "output_type": "stream",
     "text": [
      "transforming\n",
      "transforming\n",
      "transforming\n",
      "transforming\n",
      "transforming\n"
     ]
    },
    {
     "data": {
      "text/plain": [
       "[[0.0, 34, 69, 2, 0.17824961000001993],\n",
       " [0.35578556799999017, 36, 96, 2, 0.16730892199996017],\n",
       " [0.7113324420000104, 38, 85, 2, 0.1781930060000101],\n",
       " [1.0669701859999905, 39, 68, 2, 0.17789882599999007],\n",
       " [1.6944646540000003, 41, 89, 2, 0.16684701200001006],\n",
       " [2.3940057560000207, 39, 65, 2, 0.19728080800002012],\n",
       " [3.0202313379999803, 38, 94, 2, 0.20850214599999994],\n",
       " [3.6796738140000205, 36, 96, 2, 0.22967250200002998]]"
      ]
     },
     "execution_count": 1823,
     "metadata": {},
     "output_type": "execute_result"
    }
   ],
   "source": [
    "nl = l.transformLoop(1, \"rev\", send=False)\n",
    "\n",
    "nl2 = l.transformLoop(2, \"transpose\", direction=\"down\", interval=\"m7\", send=True)\n",
    "send = l.transformLoop(7, \"invert\", send=False)\n",
    "l.transformLoop(3, \"transpose\", direction=\"up\", interval=\"m3\", send=True)\n",
    "l.transformLoop(3, \"rev\", send=False)\n"
   ]
  },
  {
   "cell_type": "code",
   "execution_count": 1822,
   "metadata": {},
   "outputs": [
    {
     "name": "stdout",
     "output_type": "stream",
     "text": [
      "transforming\n"
     ]
    }
   ],
   "source": [
    "l.setBankTransform(3, \"rev\")"
   ]
  },
  {
   "cell_type": "code",
   "execution_count": 2140,
   "metadata": {},
   "outputs": [
    {
     "name": "stdout",
     "output_type": "stream",
     "text": [
      "1,1,0,0,0,0,0,0,0,0,1,0,0,0,0,0,0,0,1,0,0,0,0,0,0,0,0,0,0,0,0,0,0,0,0,0,0,0,0,0,0,0,0,0,0,0,0,0,0,0,0,0,0,0,0,0,0,0,0,0,0,0,0,0\n",
      "1\t1\t0\t0\t0\t0\t0\t0\n",
      "0\t0\t1\t0\t0\t0\t0\t0\n",
      "0\t0\t1\t0\t0\t0\t0\t0\n",
      "0\t0\t0\t0\t0\t0\t0\t0\n",
      "0\t0\t0\t0\t0\t0\t0\t0\n",
      "0\t0\t0\t0\t0\t0\t0\t0\n",
      "0\t0\t0\t0\t0\t0\t0\t0\n",
      "0\t0\t0\t0\t0\t0\t0\t0\n"
     ]
    }
   ],
   "source": [
    "l.shiftGrid(\"left\", 1)"
   ]
  },
  {
   "cell_type": "code",
   "execution_count": 1994,
   "metadata": {},
   "outputs": [],
   "source": [
    "l.clearTransformations(2)"
   ]
  },
  {
   "cell_type": "code",
   "execution_count": 1361,
   "metadata": {},
   "outputs": [
    {
     "name": "stdout",
     "output_type": "stream",
     "text": [
      "0,0,1,1,1,0,0,0,0,0,1,0,0,0,0,1,0,0,1,0,0,1,0,0,0,0,1,1,1,0,0,0,0,0,1,1,0,0,0,0,0,0,1,0,1,0,0,0,0,0,1,0,0,1,0,0,0,0,0,0,0,0,0,0\n",
      "0\t0\t1\t1\t1\t0\t0\t0\n",
      "0\t0\t1\t0\t0\t0\t0\t1\n",
      "0\t0\t1\t0\t0\t1\t0\t0\n",
      "0\t0\t1\t1\t1\t0\t0\t0\n",
      "0\t0\t1\t1\t0\t0\t0\t0\n",
      "0\t0\t1\t0\t1\t0\t0\t0\n",
      "0\t0\t1\t0\t0\t1\t0\t0\n",
      "0\t0\t0\t0\t0\t0\t0\t0\n"
     ]
    }
   ],
   "source": [
    "l.replaceRow(1, [0,0,1,0,0,0,0,1])"
   ]
  },
  {
   "cell_type": "code",
   "execution_count": 2139,
   "metadata": {},
   "outputs": [
    {
     "name": "stdout",
     "output_type": "stream",
     "text": [
      "Tempo: 60.1\n"
     ]
    }
   ],
   "source": [
    "\n",
    "n += 2\n",
    "l.paramValues['TEMPO']\n",
    "l.setParam('TEMPO', n)"
   ]
  },
  {
   "cell_type": "code",
   "execution_count": 2147,
   "metadata": {},
   "outputs": [
    {
     "name": "stdout",
     "output_type": "stream",
     "text": [
      "Tempo: 4.1\n"
     ]
    }
   ],
   "source": [
    "n -= 8\n",
    "l.paramValues['TEMPO']\n",
    "l.setParam('TEMPO', n)"
   ]
  },
  {
   "cell_type": "code",
   "execution_count": null,
   "metadata": {
    "collapsed": true
   },
   "outputs": [],
   "source": []
  }
 ],
 "metadata": {
  "kernelspec": {
   "display_name": "Python 2",
   "language": "python",
   "name": "python2"
  },
  "language_info": {
   "codemirror_mode": {
    "name": "ipython",
    "version": 2
   },
   "file_extension": ".py",
   "mimetype": "text/x-python",
   "name": "python",
   "nbconvert_exporter": "python",
   "pygments_lexer": "ipython2",
   "version": "2.7.13"
  }
 },
 "nbformat": 4,
 "nbformat_minor": 2
}
