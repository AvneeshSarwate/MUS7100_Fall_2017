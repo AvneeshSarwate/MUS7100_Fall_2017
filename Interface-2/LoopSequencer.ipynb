{
 "cells": [
  {
   "cell_type": "code",
   "execution_count": null,
   "metadata": {
    "collapsed": true
   },
   "outputs": [],
   "source": [
    "import LoopSequencer\n",
    "import fh2\n",
    "fh = fh2.FH2()\n",
    "l = LoopSequencer.LoopSequencer(fh)"
   ]
  },
  {
   "cell_type": "code",
   "execution_count": null,
   "metadata": {
    "collapsed": true
   },
   "outputs": [],
   "source": [
    "l.setBankTransform(1, \"rev\")"
   ]
  },
  {
   "cell_type": "code",
   "execution_count": null,
   "metadata": {
    "collapsed": true
   },
   "outputs": [],
   "source": [
    "l.shiftGrid(\"up\", 1)"
   ]
  },
  {
   "cell_type": "code",
   "execution_count": null,
   "metadata": {
    "collapsed": true
   },
   "outputs": [],
   "source": [
    "l.clearTransformations(1)"
   ]
  },
  {
   "cell_type": "code",
   "execution_count": null,
   "metadata": {
    "collapsed": true
   },
   "outputs": [],
   "source": [
    "# 1 INDEXED !!!\n",
    "l.transformLoop(1, \"rev\", send=True)\n",
    "# l.transformLoop(1, \"transpose\", direction=\"up\", interval=\"m2\", send=True)\n",
    "# l.transformLoop(7, \"invert\", send=False)"
   ]
  },
  {
   "cell_type": "code",
   "execution_count": null,
   "metadata": {
    "collapsed": true
   },
   "outputs": [],
   "source": [
    "l.replaceRow(1, [1, 0,1,0,1,1,1,1])"
   ]
  },
  {
   "cell_type": "code",
   "execution_count": null,
   "metadata": {
    "collapsed": true
   },
   "outputs": [],
   "source": [
    "n += 1\n",
    "l.paramValues['TEMPO']\n",
    "l.setParam('TEMPO', n)"
   ]
  },
  {
   "cell_type": "code",
   "execution_count": null,
   "metadata": {
    "collapsed": true
   },
   "outputs": [],
   "source": [
    "n -= 2\n",
    "l.paramValues['TEMPO']\n",
    "l.setParam('TEMPO', n)"
   ]
  },
  {
   "cell_type": "code",
   "execution_count": null,
   "metadata": {
    "collapsed": true
   },
   "outputs": [],
   "source": [
    "nl = l.transformLoop(2, \"rev\", send=False)\n",
    "\n",
    "nl2 = l.transformLoop(2, \"transpose\", direction=\"down\", interval=\"m7\", send=False)\n",
    "send = l.transformLoop(7, \"invert\", send=False)\n",
    "l.transformLoop(3, \"transpose\", direction=\"up\", interval=\"m3\", send=False)\n",
    "l.transformLoop(3, \"rev\", send=False)\n"
   ]
  },
  {
   "cell_type": "code",
   "execution_count": null,
   "metadata": {
    "collapsed": true
   },
   "outputs": [],
   "source": [
    "fh.saveScenesToFile('controllerize1_e.scenes')"
   ]
  },
  {
   "cell_type": "code",
   "execution_count": null,
   "metadata": {
    "collapsed": true
   },
   "outputs": [],
   "source": [
    "# #LOAD - \n",
    "\n",
    "fh.loadScenesFromFile('controllerize1_e.scenes')"
   ]
  },
  {
   "cell_type": "code",
   "execution_count": null,
   "metadata": {
    "collapsed": true
   },
   "outputs": [],
   "source": [
    "fh.superColliderServer.addMsgHandler(\"/utilityButton\", lambda a, b, c, d : None)"
   ]
  },
  {
   "cell_type": "code",
   "execution_count": 1,
   "metadata": {
    "collapsed": true
   },
   "outputs": [],
   "source": [
    "#sustainPad -> arpeggiator setup\n",
    "import PydalChanel as pydalmodule\n",
    "import arpeggiator\n",
    "from spatializer import Spatializer\n",
    "import LoopSequencer\n",
    "import fh2\n",
    "\n",
    "fh = fh2.FH2()\n",
    "l = LoopSequencer.LoopSequencer(fh)\n",
    "arpPydal = pydalmodule.getPydalInstance(('127.0.0.1', 34567))\n",
    "read = pydalmodule.read\n",
    "lp = fh\n",
    "\n",
    "instChan = 1\n",
    "s = Spatializer(60, [[0,1,2,3], [4,5,6,7], [8,9,10,11]], lp, instChan)\n",
    "s.spatialize = False\n",
    "s.separateChannels = False\n",
    "s.broadcasting = True\n",
    "lp.addForwardingHandler(instChan, s)\n",
    "# s.loadChordsFromFile(\"songV4.chords\")\n",
    "\n",
    "a = arpeggiator.Arpeggiator(instChan, arpPydal, read(\"0 1 2\", 1, \"arp\"))\n",
    "a.normalForwardingBehavior = False\n",
    "lp.addForwardingHandler(instChan, a)"
   ]
  },
  {
   "cell_type": "code",
   "execution_count": null,
   "metadata": {
    "collapsed": true
   },
   "outputs": [],
   "source": [
    "instChan = 3\n",
    "s1 = Spatializer(60, [[0,1,2,3], [4,5,6,7], [8,9,10,11]], lp, instChan)\n",
    "s1.spatialize = False\n",
    "s1.separateChannels = False\n",
    "s1.broadcasting = True\n",
    "lp.addForwardingHandler(instChan, s1)\n",
    "# s.loadChordsFromFile(\"songV4.chords\")\n",
    "\n",
    "a1 = arpeggiator.Arpeggiator(instChan, arpPydal, read(\"0 1 2\", 1, \"arp\"))\n",
    "a1.normalForwardingBehavior = False\n",
    "lp.addForwardingHandler(instChan, a1)\n",
    "# lp.resetButtonDestinations([\"-1\"]*40 + [\"-0\"]*40)"
   ]
  },
  {
   "cell_type": "code",
   "execution_count": null,
   "metadata": {
    "collapsed": true
   },
   "outputs": [],
   "source": [
    "instChan = 5\n",
    "a5 = arpeggiator.Arpeggiator(instChan, arpPydal, read(\"0 1 2\", 1, \"arp\"))\n",
    "lp.addForwardingHandler(instChan, a5)"
   ]
  },
  {
   "cell_type": "code",
   "execution_count": null,
   "metadata": {
    "collapsed": true
   },
   "outputs": [],
   "source": [
    "lp.resetButtonDestinations([\"-1\"]*80)\n",
    "def toggleSustain():\n",
    "    s1.sustaining = not s1.sustaining\n",
    "def toggleSeparateChannels():\n",
    "    s1.separateChannels = not s1.separateChannels\n",
    "lp.topRowFunctions[0] = toggleSustain\n",
    "lp.topRowFunctions[1] = toggleSeparateChannels\n",
    "s1.loadChordsFromFile(\"droneSong3.chords\")"
   ]
  },
  {
   "cell_type": "code",
   "execution_count": null,
   "metadata": {
    "collapsed": true
   },
   "outputs": [],
   "source": [
    "b = True\n",
    "s.broadcasting = b\n",
    "s1.broadcasting = b"
   ]
  },
  {
   "cell_type": "code",
   "execution_count": null,
   "metadata": {},
   "outputs": [],
   "source": [
    "s.loadChordsFromFile(\"controllerize1_1.chords\")\n",
    "s1.loadChordsFromFile(\"controllerize1_2.chords\")"
   ]
  },
  {
   "cell_type": "code",
   "execution_count": null,
   "metadata": {
    "collapsed": true
   },
   "outputs": [],
   "source": [
    "s.saveChordsToFile(\"controllerize1_1.chords\")\n",
    "s1.saveChordsToFile(\"controllerize1_2.chords\")"
   ]
  },
  {
   "cell_type": "code",
   "execution_count": null,
   "metadata": {
    "collapsed": true
   },
   "outputs": [],
   "source": [
    "s.swappingChords = True\n",
    "s1.swappingChords = True"
   ]
  },
  {
   "cell_type": "code",
   "execution_count": 2,
   "metadata": {},
   "outputs": [],
   "source": [
    "pydalInstance = pydalmodule.getPydalInstance(('127.0.0.1', 34345))\n",
    "ch1 = pydalInstance.newChannel(1)\n",
    "ch2 = pydalInstance.newChannel(2)\n",
    "ch3 = pydalInstance.newChannel(3)\n",
    "ch4 = pydalInstance.newChannel(4)\n"
   ]
  },
  {
   "cell_type": "code",
   "execution_count": null,
   "metadata": {
    "collapsed": true
   },
   "outputs": [],
   "source": [
    "# ch1.play(read(\"{~ ~ ~ ~, b ~ ~ ~ ~ ~ ~ b ~ ~ ~ ~ ~ b ~ ~ ~ ~ b ~ ~ ~ b ~ ~ b ~ b}\", 1, 'roboDrum'))\n",
    "ch1.play(read(\"{~ ~ ~ ~, b ~ ~ ~ ~ ~ <b d, ~> b ~ ~ <d,~> ~ ~ b <d,~> ~ ~ ~ b ~ ~ ~ b ~ ~ b <~, b d> b}\", 1, 'roboDrum'))"
   ]
  },
  {
   "cell_type": "code",
   "execution_count": null,
   "metadata": {
    "collapsed": true
   },
   "outputs": [],
   "source": [
    "ch1.play(read(\"{~ ~ ~ ~, b ~ ~ ~ ~ ~ ~ b ~ ~ ~ ~ ~ b ~ ~ <b d, ~> ~ b ~ ~ ~ b ~ ~ b ~ b}\", 1, 'roboDrum'))\n",
    "ch2.play(read(\"{~ ~ ~ ~, a ~ ~ ~}\", 1, 'roboDrum'))\n",
    "# ch2.play(read(\"{~ ~ ~ ~, a  <c, ~> ~ ~}\", 1, 'roboDrum'))"
   ]
  },
  {
   "cell_type": "code",
   "execution_count": null,
   "metadata": {
    "collapsed": true
   },
   "outputs": [],
   "source": [
    "ch2.stop()\n",
    "ch1.stop()\n",
    "ch1.play(read(\"{~ ~ ~ ~, a ~ ~ a ~ ~ a ~ b ~ ~ ~ a ~ ~ a ~ ~ b ~ a ~ ~ a ~ ~ b ~ }\", 1, 'roboDrum'))"
   ]
  },
  {
   "cell_type": "code",
   "execution_count": null,
   "metadata": {
    "collapsed": true
   },
   "outputs": [],
   "source": [
    "ch1.play(read(\"{~ ~ ~ ~, a ~ ~ a ~ ~ a ~ b ~ ~ ~ a ~ ~ a ~ ~ b ~ a ~ ~ a ~ ~ b ~ }\", 1, 'roboDrum'))"
   ]
  },
  {
   "cell_type": "code",
   "execution_count": null,
   "metadata": {
    "collapsed": true
   },
   "outputs": [],
   "source": [
    "ch1.play(read(\"{~ ~ ~ ~, a ~ b a ~ b a ~ b b ~ ~ a ~ b a ~ b b ~ a ~ b a ~ b b ~ }\", 1, 'roboDrum'))"
   ]
  },
  {
   "cell_type": "code",
   "execution_count": null,
   "metadata": {
    "collapsed": true
   },
   "outputs": [],
   "source": [
    "ch1.play(read(\"{~ ~ ~ ~, a c ~ a c ~ a ~ a ~ ~ ~ a ~ ~ a ~ ~ a ~ a ~ ~ a c ~ a c }\", 1, 'roboDrum'))\n",
    "ch2.play(read(\"{~ ~ ~ ~, b ~ ~ ~ ~ ~ ~ ~}\", 1, 'roboDrum'))"
   ]
  },
  {
   "cell_type": "code",
   "execution_count": null,
   "metadata": {
    "collapsed": true
   },
   "outputs": [],
   "source": [
    "ch2.play(read(\"{~ ~ ~ ~, a a a c}\", 0.5, 'roboDrum'))\n",
    "ch1.play(read(\"{~ ~ ~ ~, b ~ <d, d b, ~> ~ }\", 1, 'roboDrum'))"
   ]
  },
  {
   "cell_type": "code",
   "execution_count": null,
   "metadata": {
    "collapsed": true
   },
   "outputs": [],
   "source": [
    "ch2.stop()\n",
    "ch1.stop()"
   ]
  },
  {
   "cell_type": "code",
   "execution_count": 10,
   "metadata": {
    "collapsed": true
   },
   "outputs": [],
   "source": [
    "ch1.play(read(\"bd*2\"))\n"
   ]
  },
  {
   "cell_type": "code",
   "execution_count": 11,
   "metadata": {
    "collapsed": true
   },
   "outputs": [],
   "source": [
    "ch1.stop()"
   ]
  },
  {
   "cell_type": "code",
   "execution_count": 12,
   "metadata": {},
   "outputs": [
    {
     "ename": "ImportError",
     "evalue": "No module named LFOFM",
     "output_type": "error",
     "traceback": [
      "\u001b[0;31m---------------------------------------------------------------------------\u001b[0m",
      "\u001b[0;31mImportError\u001b[0m                               Traceback (most recent call last)",
      "\u001b[0;32m<ipython-input-12-a674dffddf14>\u001b[0m in \u001b[0;36m<module>\u001b[0;34m()\u001b[0m\n\u001b[0;32m----> 1\u001b[0;31m \u001b[0;32mfrom\u001b[0m \u001b[0mLFOFM\u001b[0m \u001b[0;32mimport\u001b[0m \u001b[0;34m*\u001b[0m\u001b[0;34m\u001b[0m\u001b[0m\n\u001b[0m\u001b[1;32m      2\u001b[0m \u001b[0mwp\u001b[0m \u001b[0;34m=\u001b[0m \u001b[0mWavePlayer\u001b[0m\u001b[0;34m(\u001b[0m\u001b[0;34m)\u001b[0m\u001b[0;34m\u001b[0m\u001b[0m\n\u001b[1;32m      3\u001b[0m \u001b[0mtempo\u001b[0m \u001b[0;34m=\u001b[0m \u001b[0mwp\u001b[0m\u001b[0;34m.\u001b[0m\u001b[0msetTempo\u001b[0m\u001b[0;34m\u001b[0m\u001b[0m\n",
      "\u001b[0;31mImportError\u001b[0m: No module named LFOFM"
     ]
    }
   ],
   "source": [
    "from LFOFM import *\n",
    "wp = WavePlayer()\n",
    "tempo = wp.setTempo"
   ]
  }
 ],
 "metadata": {
  "kernelspec": {
   "display_name": "Python 2",
   "language": "python",
   "name": "python2"
  },
  "language_info": {
   "codemirror_mode": {
    "name": "ipython",
    "version": 2
   },
   "file_extension": ".py",
   "mimetype": "text/x-python",
   "name": "python",
   "nbconvert_exporter": "python",
   "pygments_lexer": "ipython2",
   "version": "2.7.13"
  }
 },
 "nbformat": 4,
 "nbformat_minor": 2
}
