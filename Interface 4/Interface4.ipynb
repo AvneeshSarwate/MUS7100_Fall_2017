{
 "cells": [
  {
   "cell_type": "code",
   "execution_count": 1,
   "metadata": {},
   "outputs": [],
   "source": [
    "from LFOFM import *\n",
    "import OSC\n",
    "import threading\n",
    "import PydalChanel as pydalModule\n",
    "class Lemur:\n",
    "    def __init__(self):\n",
    "        self.lemurServer = OSC.OSCServer(('localhost', 7021))\n",
    "        self.LServerThread = threading.Thread(target=self.lemurServer.serve_forever)\n",
    "        self.LServerThread.daemon = False\n",
    "        self.LServerThread.start()\n",
    "\n",
    "        self.lemurClient = OSC.OSCClient()\n",
    "        self.lemurClient.connect(('192.168.0.126', 8000))\n",
    "\n",
    "        self.superColliderClient = OSC.OSCClient()\n",
    "        self.superColliderClient.connect(('127.0.0.1', 57120)) \n",
    "        \n",
    "    def sendOSCMessage(self, addr, client=0, *msgArgs):\n",
    "        msg = OSC.OSCMessage()\n",
    "        msg.setAddress(addr)\n",
    "        msg.append(*msgArgs)\n",
    "        if(client == 0):\n",
    "            self.superColliderClient.send(msg)\n",
    "        else:\n",
    "            self.lemurClient.send(msg)\n",
    "\n",
    "pydal = pydalModule.Pydal()\n",
    "ch1 = pydal.newChannel(1)\n",
    "read = pydalModule.read\n",
    "\n",
    "def d2s(chordDict):\n",
    "    chordStrings = []\n",
    "    for key in chordDict:\n",
    "        chordStrings.append(key+\":\"+\",\".join([str(v) for v in chordDict[key]]))\n",
    "    return \"-\".join(chordStrings)\n",
    "\n",
    "\n",
    "wp = WavePlayer()\n",
    "tempo = wp.setTempo\n",
    "l = Lemur()"
   ]
  },
  {
   "cell_type": "markdown",
   "metadata": {},
   "source": [
    "# Notes\n",
    "- Set amplitudes between 0-0.5 if you want all values of the curve to be shown."
   ]
  },
  {
   "cell_type": "code",
   "execution_count": null,
   "metadata": {},
   "outputs": [],
   "source": [
    "wp.lemurWave(Tri(freq=0.2)*0.5 + Tri(freq=5)*0.1, 3)"
   ]
  },
  {
   "cell_type": "code",
   "execution_count": null,
   "metadata": {
    "collapsed": true
   },
   "outputs": [],
   "source": [
    "wp.lemurWave(0, 2)"
   ]
  },
  {
   "cell_type": "code",
   "execution_count": null,
   "metadata": {
    "collapsed": true
   },
   "outputs": [],
   "source": [
    "wp.lemurWave(0, 1)"
   ]
  },
  {
   "cell_type": "code",
   "execution_count": null,
   "metadata": {
    "collapsed": true
   },
   "outputs": [],
   "source": [
    "wp.lemurWave(Sin(freq=0.3)*0.05 - .45, 0)"
   ]
  },
  {
   "cell_type": "code",
   "execution_count": 9,
   "metadata": {},
   "outputs": [],
   "source": [
    "cd = {'a': [1,2,3], 'b': [4,5,6]}\n",
    "\n",
    "ch1.play(read('a b a b', 4, 'ballChord'), d2s(cd))"
   ]
  },
  {
   "cell_type": "code",
   "execution_count": null,
   "metadata": {},
   "outputs": [],
   "source": [
    "def d2s(chordDict):\n",
    "    chordStrings = []\n",
    "    for key in chordDict:\n",
    "        chordStrings.append(key+\":\"+\",\".join([str(v) for v in chordDict[key]]))\n",
    "    return \"-\".join(chordStrings)\n",
    "\n"
   ]
  }
 ],
 "metadata": {
  "kernelspec": {
   "display_name": "Python 2",
   "language": "python",
   "name": "python2"
  },
  "language_info": {
   "codemirror_mode": {
    "name": "ipython",
    "version": 2
   },
   "file_extension": ".py",
   "mimetype": "text/x-python",
   "name": "python",
   "nbconvert_exporter": "python",
   "pygments_lexer": "ipython2",
   "version": "2.7.13"
  }
 },
 "nbformat": 4,
 "nbformat_minor": 2
}
