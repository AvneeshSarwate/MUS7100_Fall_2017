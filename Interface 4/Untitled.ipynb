{
 "cells": [
  {
   "cell_type": "code",
   "execution_count": 1,
   "metadata": {
    "collapsed": true
   },
   "outputs": [],
   "source": [
    "import OSC\n",
    "import threading\n",
    "class Lemur:\n",
    "    def __init__(self):\n",
    "        self.lemurServer = OSC.OSCServer(('localhost', 7021))\n",
    "        self.LServerThread = threading.Thread(target=self.lemurServer.serve_forever)\n",
    "        self.LServerThread.daemon = False\n",
    "        self.LServerThread.start()\n",
    "\n",
    "        self.lemurClient = OSC.OSCClient()\n",
    "        self.lemurClient.connect(('192.168.0.109', 8000))\n",
    "\n",
    "    def sendOSCMessage(self, addr, *msgArgs):\n",
    "        msg = OSC.OSCMessage()\n",
    "        msg.setAddress(addr)\n",
    "        msg.append(*msgArgs)\n",
    "        self.lemurClient.send(msg)\n",
    "        "
   ]
  },
  {
   "cell_type": "code",
   "execution_count": 2,
   "metadata": {},
   "outputs": [],
   "source": [
    "l = Lemur()"
   ]
  },
  {
   "cell_type": "code",
   "execution_count": 21,
   "metadata": {
    "collapsed": true
   },
   "outputs": [],
   "source": [
    "l.sendOSCMessage('/MultiBall/rect', 0.6)"
   ]
  },
  {
   "cell_type": "code",
   "execution_count": null,
   "metadata": {
    "collapsed": true
   },
   "outputs": [],
   "source": []
  }
 ],
 "metadata": {
  "kernelspec": {
   "display_name": "Python 2",
   "language": "python",
   "name": "python2"
  },
  "language_info": {
   "codemirror_mode": {
    "name": "ipython",
    "version": 2
   },
   "file_extension": ".py",
   "mimetype": "text/x-python",
   "name": "python",
   "nbconvert_exporter": "python",
   "pygments_lexer": "ipython2",
   "version": "2.7.13"
  }
 },
 "nbformat": 4,
 "nbformat_minor": 2
}
