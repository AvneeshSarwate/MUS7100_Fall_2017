{
 "cells": [
  {
   "cell_type": "code",
   "execution_count": 1,
   "metadata": {},
   "outputs": [],
   "source": [
    "from LFOFM import *\n",
    "import OSC\n",
    "import threading\n",
    "import PydalChanel as pydalModule\n",
    "class Lemur:\n",
    "    def __init__(self):\n",
    "        self.lemurServer = OSC.OSCServer(('localhost', 7021))\n",
    "        self.LServerThread = threading.Thread(target=self.lemurServer.serve_forever)\n",
    "        self.LServerThread.daemon = False\n",
    "        self.LServerThread.start()\n",
    "\n",
    "        self.lemurClient = OSC.OSCClient()\n",
    "        self.lemurClient.connect(('169.254.233.11', 8000))\n",
    "\n",
    "        self.superColliderClient = OSC.OSCClient()\n",
    "        self.superColliderClient.connect(('127.0.0.1', 57120)) \n",
    "        \n",
    "    def sendOSCMessage(self, addr, client=0, *msgArgs):\n",
    "        msg = OSC.OSCMessage()\n",
    "        msg.setAddress(addr)\n",
    "        msg.append(*msgArgs)\n",
    "        if(client == 0):\n",
    "            self.superColliderClient.send(msg)\n",
    "        else:\n",
    "            self.lemurClient.send(msg)\n",
    "\n",
    "pydal = pydalModule.Pydal()\n",
    "ch1 = pydal.newChannel(1)\n",
    "read = pydalModule.read\n",
    "\n",
    "def d2s(chordDict):\n",
    "    chordStrings = []\n",
    "    for key in chordDict:\n",
    "        chordStrings.append(key+\":\"+\",\".join([str(v) for v in chordDict[key]]))\n",
    "    return \"-\".join(chordStrings)\n",
    "\n",
    "\n",
    "wp = WavePlayer()\n",
    "tempo = wp.setTempo\n",
    "l = Lemur()"
   ]
  },
  {
   "cell_type": "markdown",
   "metadata": {},
   "source": [
    "# Notes\n",
    "- Set amplitudes between 0-0.5 if you want all values of the curve to be shown."
   ]
  },
  {
   "cell_type": "code",
   "execution_count": 17,
   "metadata": {},
   "outputs": [],
   "source": [
    "wp.lemurWave(Sin(freq=0.3)*0.3, 3)"
   ]
  },
  {
   "cell_type": "code",
   "execution_count": null,
   "metadata": {
    "collapsed": true
   },
   "outputs": [],
   "source": [
    "wp.lemurWave(0, 2)"
   ]
  },
  {
   "cell_type": "code",
   "execution_count": null,
   "metadata": {
    "collapsed": true
   },
   "outputs": [],
   "source": [
    "wp.lemurWave(0, 1)"
   ]
  },
  {
   "cell_type": "code",
   "execution_count": 16,
   "metadata": {
    "collapsed": true
   },
   "outputs": [],
   "source": [
    "wp.lemurWave(Sin(freq=0.3)*0.05 - .45, 0)"
   ]
  },
  {
   "cell_type": "code",
   "execution_count": 18,
   "metadata": {},
   "outputs": [],
   "source": [
    "cd = {'a': [60, 64, 67], 'c': [60, 63, 66], 'b': [60, 63, 67], 'd': [63, 66, 69]}\n",
    "\n",
    "ch1.play(read('a c b a b d', 8, 'ballChord'), d2s(cd))"
   ]
  },
  {
   "cell_type": "code",
   "execution_count": null,
   "metadata": {},
   "outputs": [],
   "source": [
    "def d2s(chordDict):\n",
    "    chordStrings = []\n",
    "    for key in chordDict:\n",
    "        chordStrings.append(key+\":\"+\",\".join([str(v) for v in chordDict[key]]))\n",
    "    return \"-\".join(chordStrings)\n",
    "\n"
   ]
  },
  {
   "cell_type": "markdown",
   "metadata": {},
   "source": [
    "things missing with button\n",
    "- cant see what it would be if you werent holding\n",
    "- doesn't have to be a binary operation, could be a mix of how much wave influences parameter\n",
    "\n",
    "keyboard to override chord mapping\n",
    "- can grab the chord on the keyboard into the chords \n",
    "\n",
    "have 50-60 different parameters to control - might only use a handful at once but makes it a more flexible space for musical expression \n",
    "\n",
    "public sound objects project alvaro barbossa - organized sound article \n",
    "\n",
    "for slowly moving balls - look at pmix vst oli larkin \n",
    "\n",
    "nexusosc.com - nexus ui - jesse allison music interface platform \n",
    "\n",
    "waax - piano roll represntation \n",
    "\n",
    "most promising direction - nexus UI plus some JS physics engine - might even be an easy p5 physics one\n"
   ]
  }
 ],
 "metadata": {
  "kernelspec": {
   "display_name": "Python 2",
   "language": "python",
   "name": "python2"
  },
  "language_info": {
   "codemirror_mode": {
    "name": "ipython",
    "version": 2
   },
   "file_extension": ".py",
   "mimetype": "text/x-python",
   "name": "python",
   "nbconvert_exporter": "python",
   "pygments_lexer": "ipython2",
   "version": "2.7.13"
  }
 },
 "nbformat": 4,
 "nbformat_minor": 2
}
